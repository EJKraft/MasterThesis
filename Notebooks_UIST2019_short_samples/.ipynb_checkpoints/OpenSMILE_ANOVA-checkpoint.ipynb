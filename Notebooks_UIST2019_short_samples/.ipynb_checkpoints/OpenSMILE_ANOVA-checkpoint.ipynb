{
 "cells": [
  {
   "cell_type": "markdown",
   "metadata": {},
   "source": [
    "# OpenSMILE ANOVA test"
   ]
  },
  {
   "cell_type": "code",
   "execution_count": 1,
   "metadata": {},
   "outputs": [],
   "source": [
    "import numpy as np\n",
    "import pandas as pd\n",
    "from os import listdir\n",
    "import matplotlib.pyplot as plt\n",
    "import itertools as it\n",
    "from statsmodels.sandbox.stats.multicomp import multipletests\n",
    "import statsmodels.api as sm\n",
    "#import nltk\n",
    "import scipy.stats as st\n",
    "import statsmodels.formula.api as smf\n",
    "import seaborn as sns\n",
    "import Helper as hp\n",
    "\n",
    "#Load Data\n",
    "data = pd.read_csv(\"UIST_2019_short_samples_OpenSMILE.csv\")\n",
    "\n",
    "#Set Labels \n",
    "emotion_label = ['Anger', 'Boredom', 'Disgust', 'Fear', 'Happiness', 'Emo_Neutral', 'Sadness']\n",
    "affect_label = ['Aggressiv', 'Cheerful', 'Intoxicated', 'Nervous', 'Aff_Neutral', 'Tired']\n",
    "loi_label = ['Disinterest', 'Normal', 'High Interest']\n",
    "\n",
    "#Get specific data and save it into new data frames\n",
    "# We use the pandas .copy(deep=True) function to prevent the SettingWithCopyWarning we would otherwise get. Since we do\n",
    "# not write, but only read from the data, the warning does not affect the data frames\n",
    "df_emotion = data[['Anger', 'Boredom', 'Disgust', 'Fear', 'Happiness', 'Emo_Neutral', 'Sadness', 'Filename']].copy(deep=True)\n",
    "df_affect = data[['Aggressiv', 'Cheerful', 'Intoxicated', 'Nervous', 'Aff_Neutral', 'Tired', 'Filename']].copy(deep=True)\n",
    "df_loi = data[['Disinterest', 'Normal', 'High Interest', 'Filename']].copy(deep=True)\n",
    "df_ar_val = data[['Arousal', 'Valence', 'Filename']].copy(deep=True)\n",
    "#For further usage, we want to append the CharacterID as a column, which is saved with other information in the filename\n",
    "#Since we only want the digits, we can remove all non-digit characters of the filename column and append the column to the df\n",
    "\n",
    "df_emotion['Char_ID'] = df_emotion['Filename'].replace('\\D+','', regex = True).copy(deep=True)\n",
    "df_affect['Char_ID'] = df_affect['Filename'].replace('\\D+','', regex = True).copy(deep=True)\n",
    "df_loi['Char_ID'] = df_loi['Filename'].replace('\\D+','', regex = True).copy(deep=True)\n",
    "df_ar_val['Char_ID'] = df_ar_val['Filename'].replace('\\D+','', regex = True).copy(deep=True)\n",
    "\n",
    "#Load data about speakers\n",
    "char_data = pd.read_csv(\"UIST2019_CharacterData.csv\")  \n",
    "\n",
    "#Join above tables and Character Tables\n",
    "\n",
    "#To Join DataFrames we have to cast the column on which we want to join to int, so that both columns have the same data type\n",
    "char_data['ID'] = char_data['ID'].astype(int)\n",
    "df_ar_val['Char_ID'] = df_ar_val['Char_ID'].astype(int)\n",
    "df_emotion['Char_ID'] = df_emotion['Char_ID'].astype(int)\n",
    "df_affect['Char_ID'] = df_affect['Char_ID'].astype(int)\n",
    "df_loi['Char_ID'] = df_loi['Char_ID'].astype(int)\n",
    "\n",
    "#Safe new data frames\n",
    "df_ar_val_char = df_ar_val.merge(char_data, how = 'left', left_on='Char_ID', right_on='ID')\n",
    "df_emotion_char = df_emotion.merge(char_data, how = 'left', left_on='Char_ID', right_on= 'ID')\n",
    "df_affect_char = df_affect.merge(char_data, how = 'left', left_on='Char_ID', right_on= 'ID')\n",
    "df_loi_char = df_loi.merge(char_data, how = 'left', left_on='Char_ID', right_on= 'ID')"
   ]
  },
  {
   "cell_type": "markdown",
   "metadata": {},
   "source": [
    "## ANOVA Test\n",
    "### Starting with Character Feature = Sex"
   ]
  },
  {
   "cell_type": "code",
   "execution_count": 2,
   "metadata": {},
   "outputs": [
    {
     "name": "stdout",
     "output_type": "stream",
     "text": [
      "ANOVA test for Sex and Emotion: \n",
      "['Anger', 'Boredom', 'Disgust', 'Fear', 'Happiness', 'Emo_Neutral', 'Sadness']\n",
      "[[1.136543429540211, 0.4057746971551574, 71.48627558505957, 0.9908629550029471, 1.1643948593983513, 0.1060984447041531, 65.0658252355145], [0.28730889378495117, 0.5246461379741199, 1.598575153441638e-15, 0.32039717862796535, 0.28149128347564367, 0.744875525916987, 2.1822585492824503e-14]]\n",
      "\n",
      "\n",
      "ANOVA test for Sex and Affect: \n",
      "['Aggressiv', 'Cheerful', 'Intoxicated', 'Nervous', 'Aff_Neutral', 'Tired']\n",
      "[[8.940363845820904, 0.20106734364852652, 3.116329600922195, 4.155098206181356, 8.418495087119116, 1.7030488881904489], [0.003039101449066641, 0.6542099781445709, 0.07860900530563346, 0.04245554779569083, 0.004011329140755848, 0.19296887812501648]]\n",
      "\n",
      "\n",
      "ANOVA test for Sex and Level of Interest: \n",
      "['Disinterest', 'Normal', 'High Interest']\n",
      "[[2.191790682342463, 5.036015368133933, 11.745042559338378], [0.1398803296294729, 0.02561250918573502, 0.0007023143945625642]]\n",
      "\n",
      "\n",
      "ANOVA test for Sex and Arousal-Valence: \n",
      "['Valence', 'Arousal']\n",
      "[[0.5404031507025522, 23.437516990036748], [0.4628853844982419, 2.1438521332895724e-06]]\n",
      "\n",
      "\n"
     ]
    }
   ],
   "source": [
    "# Start with Emotion and Sex\n",
    "emo_temp_sex = df_emotion_char.drop(['Char_ID','ID', 'Filename', 'Age', 'Academic Status'], axis = 1)\n",
    "anova_emo_sex = hp.f_anova(emo_temp_sex, emotion_label, 'Sex')\n",
    "hp.displayANOVA(anova_emo_sex, emotion_label, 'Emotion', 'Sex')\n",
    "\n",
    "#Affect and Sex\n",
    "aff_temp_sex = df_affect_char.drop(['Char_ID','ID', 'Filename', 'Age', 'Academic Status'], axis = 1)\n",
    "anova_aff_sex = hp.f_anova(aff_temp_sex, affect_label, 'Sex')\n",
    "hp.displayANOVA(anova_aff_sex, affect_label, 'Affect', 'Sex')\n",
    "\n",
    "#Level of Interest and Sex\n",
    "loi_temp_sex = df_loi_char.drop(['Char_ID','ID', 'Filename', 'Age', 'Academic Status'], axis = 1)\n",
    "anova_loi_sex = hp.f_anova(loi_temp_sex, loi_label, 'Sex')\n",
    "hp.displayANOVA(anova_loi_sex, loi_label, 'Level of Interest', 'Sex')\n",
    "#Arousal-Valence and Sex\n",
    "arval_temp_sex = df_ar_val_char.drop(['Char_ID','ID', 'Filename', 'Age', 'Academic Status'], axis = 1)\n",
    "anova_arval_sex = hp.f_anova(arval_temp_sex, ['Valence', 'Arousal'], 'Sex')\n",
    "hp.displayANOVA(anova_arval_sex, ['Valence', 'Arousal'], 'Arousal-Valence', 'Sex')"
   ]
  },
  {
   "cell_type": "markdown",
   "metadata": {},
   "source": [
    "### CharacterFeature = Age\n",
    "Since Age can't really be reliably inferred, 'Age' is meant as a time distance to when the person received their degree. At the moment people who got their degree after 2010 (> 2010) are counted as young, people who got their degree between 1990 (> 1990) and 2010 (<= 2010) are counted as intermediate and all others who got their degree before 1990 (<= 1990) are counted as old."
   ]
  },
  {
   "cell_type": "code",
   "execution_count": 3,
   "metadata": {},
   "outputs": [
    {
     "name": "stdout",
     "output_type": "stream",
     "text": [
      "ANOVA test for Age and Emotion: \n",
      "['Anger', 'Boredom', 'Disgust', 'Fear', 'Happiness', 'Emo_Neutral', 'Sadness']\n",
      "[[0.9036462397921806, 0.5489533287280673, 3.6955886510228337, 0.5856567319534629, 1.0452339917075832, 0.8156434164049481, 3.7493343842381406], [0.4072407281816277, 0.5786872548156002, 0.027076224376585474, 0.5579832591202247, 0.3541064305498632, 0.4442686281802527, 0.025723479492305173]]\n",
      "\n",
      "\n",
      "ANOVA test for Age and Affect: \n",
      "['Aggressiv', 'Cheerful', 'Intoxicated', 'Nervous', 'Aff_Neutral', 'Tired']\n",
      "[[0.3816374132028801, 0.5665167081152154, 0.1489763918117316, 0.15206757752783406, 0.1975619824408019, 0.6192562462973141], [0.6833906469435244, 0.5686845727778949, 0.8617142832017836, 0.8590598918364064, 0.8209383054733099, 0.5396884250867064]]\n",
      "\n",
      "\n",
      "ANOVA test for Age and Level of Interest: \n",
      "['Disinterest', 'Normal', 'High Interest']\n",
      "[[0.17019402187944757, 0.3738611943106616, 0.4402471635973707], [0.8436606135432212, 0.6886992426779086, 0.6446903072119733]]\n",
      "\n",
      "\n",
      "ANOVA test for Age and Arousal-Valence: \n",
      "['Valence', 'Arousal']\n",
      "[[0.20443629629230992, 0.7631931379425063], [0.8153289583645119, 0.46794181532836077]]\n",
      "\n",
      "\n"
     ]
    }
   ],
   "source": [
    "#Emotion and Age\n",
    "emo_temp_age = df_emotion_char.drop(['Char_ID','ID', 'Filename', 'Sex', 'Academic Status'], axis = 1)\n",
    "anova_emo_age = hp.f_anova(emo_temp_age, emotion_label, 'Age')\n",
    "hp.displayANOVA(anova_emo_age, emotion_label, 'Emotion', 'Age')\n",
    "#Affect and Age\n",
    "aff_temp_age = df_affect_char.drop(['Char_ID','ID', 'Filename', 'Sex', 'Academic Status'], axis = 1)\n",
    "anova_aff_age = hp.f_anova(aff_temp_age, affect_label, 'Age')\n",
    "hp.displayANOVA(anova_aff_age, affect_label, 'Affect', 'Age')\n",
    "#Level of Interest and Age\n",
    "loi_temp_age = df_loi_char.drop(['Char_ID','ID', 'Filename', 'Sex', 'Academic Status'], axis = 1)\n",
    "anova_loi_age = hp.f_anova(loi_temp_age, loi_label, 'Age')\n",
    "hp.displayANOVA(anova_loi_age, loi_label, 'Level of Interest', 'Age')\n",
    "#Arousal-Valence and Age\n",
    "arval_temp_age = df_ar_val_char.drop(['Char_ID','ID', 'Filename', 'Sex', 'Academic Status'], axis = 1)\n",
    "anova_arval_age = hp.f_anova(arval_temp_age, ['Valence', 'Arousal'], 'Age')\n",
    "hp.displayANOVA(anova_arval_age, ['Valence', 'Arousal'], 'Arousal-Valence', 'Age')"
   ]
  },
  {
   "cell_type": "markdown",
   "metadata": {},
   "source": [
    "### CharacterFeature = Academic Status\n",
    "So for the moment we have six different academical groups (Master Student, PhD Student, PostDoc, Assistant Professor, Professor and Researcher), which may be too many, since the samples are not equally distributed among the groups... Maybe some of the groups will be grouped together to achieve a higher sample count for groups."
   ]
  },
  {
   "cell_type": "code",
   "execution_count": 4,
   "metadata": {},
   "outputs": [
    {
     "name": "stdout",
     "output_type": "stream",
     "text": [
      "Invalid Argument: Please enter either Sex, Academical or Age as char_feature!\n",
      "ANOVA test for Academic Status and Emotion: \n",
      "['Anger', 'Boredom', 'Disgust', 'Fear', 'Happiness', 'Emo_Neutral', 'Sadness']\n",
      "None\n",
      "\n",
      "\n",
      "Invalid Argument: Please enter either Sex, Academical or Age as char_feature!\n",
      "ANOVA test for Academic Status and Affect: \n",
      "['Aggressiv', 'Cheerful', 'Intoxicated', 'Nervous', 'Aff_Neutral', 'Tired']\n",
      "None\n",
      "\n",
      "\n",
      "Invalid Argument: Please enter either Sex, Academical or Age as char_feature!\n",
      "ANOVA test for Academic Status and Level of Interest: \n",
      "['Disinterest', 'Normal', 'High Interest']\n",
      "None\n",
      "\n",
      "\n",
      "Invalid Argument: Please enter either Sex, Academical or Age as char_feature!\n",
      "ANOVA test for Academic Status and Arousal-Valence: \n",
      "['Valence', 'Arousal']\n",
      "None\n",
      "\n",
      "\n"
     ]
    }
   ],
   "source": [
    "#Emotion and Academic Status\n",
    "emo_temp_age = df_emotion_char.drop(['Char_ID','ID', 'Filename', 'Sex', 'Academic Status'], axis = 1)\n",
    "anova_emo_age = hp.f_anova(emo_temp_age, emotion_label, 'Academic Status')\n",
    "hp.displayANOVA(anova_emo_age, emotion_label, 'Emotion', 'Academic Status')\n",
    "#Affect and Academic Status\n",
    "aff_temp_age = df_affect_char.drop(['Char_ID','ID', 'Filename', 'Sex', 'Academic Status'], axis = 1)\n",
    "anova_aff_age = hp.f_anova(aff_temp_age, affect_label, 'Academic Status')\n",
    "hp.displayANOVA(anova_aff_age, affect_label, 'Affect', 'Academic Status')\n",
    "#Level of Interest and Academic Status\n",
    "loi_temp_age = df_loi_char.drop(['Char_ID','ID', 'Filename', 'Sex', 'Academic Status'], axis = 1)\n",
    "anova_loi_age = hp.f_anova(loi_temp_age, loi_label, 'Academic Status')\n",
    "hp.displayANOVA(anova_loi_age, loi_label, 'Level of Interest', 'Academic Status')\n",
    "#Arousal-Valence and Academic Status\n",
    "arval_temp_age = df_ar_val_char.drop(['Char_ID','ID', 'Filename', 'Sex', 'Academic Status'], axis = 1)\n",
    "anova_arval_age = hp.f_anova(arval_temp_age, ['Valence', 'Arousal'], 'Academic Status')\n",
    "hp.displayANOVA(anova_arval_age, ['Valence', 'Arousal'], 'Arousal-Valence', 'Academic Status')"
   ]
  },
  {
   "cell_type": "code",
   "execution_count": null,
   "metadata": {},
   "outputs": [],
   "source": []
  }
 ],
 "metadata": {
  "kernelspec": {
   "display_name": "Python 3",
   "language": "python",
   "name": "python3"
  },
  "language_info": {
   "codemirror_mode": {
    "name": "ipython",
    "version": 3
   },
   "file_extension": ".py",
   "mimetype": "text/x-python",
   "name": "python",
   "nbconvert_exporter": "python",
   "pygments_lexer": "ipython3",
   "version": "3.7.0"
  }
 },
 "nbformat": 4,
 "nbformat_minor": 2
}
