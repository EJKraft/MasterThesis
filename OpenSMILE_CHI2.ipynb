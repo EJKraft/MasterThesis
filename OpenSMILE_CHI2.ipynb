{
 "cells": [
  {
   "cell_type": "markdown",
   "metadata": {},
   "source": [
    "# OpenSMILE Analysis\n",
    "This notebook loads OpenSMILE csv- data, cleans and plots it"
   ]
  },
  {
   "cell_type": "markdown",
   "metadata": {},
   "source": [
    "## Import relevant libraries"
   ]
  },
  {
   "cell_type": "code",
   "execution_count": 1,
   "metadata": {},
   "outputs": [],
   "source": [
    "import numpy as np\n",
    "import pandas as pd\n",
    "from os import listdir\n",
    "import matplotlib.pyplot as plt\n",
    "import itertools as it\n",
    "from statsmodels.sandbox.stats.multicomp import multipletests\n",
    "import statsmodels.api as sm\n",
    "#import nltk\n",
    "import scipy.stats as st\n",
    "import statsmodels.formula.api as smf\n",
    "import seaborn as sns\n",
    "import Helper as hp"
   ]
  },
  {
   "cell_type": "markdown",
   "metadata": {},
   "source": [
    "## Load .csv data with results of OpenSMILE Analysis\n",
    "First we load .csv data and clean it (removing of NaNs), then we store information of all files in seperate panda dataframes containing information about affect, emotion and valence/arousal for all participants."
   ]
  },
  {
   "cell_type": "code",
   "execution_count": 2,
   "metadata": {},
   "outputs": [],
   "source": [
    "data = pd.read_csv(\"UIST2019_OpenSMILE.csv\")\n",
    "\n",
    "#Set Labels \n",
    "emotion_label = ['Anger', 'Boredom', 'Disgust', 'Fear', 'Happiness', 'Emo_Neutral', 'Sadness']\n",
    "affect_label = ['Aggressiv', 'Cheerful', 'Intoxicated', 'Nervous', 'Aff_Neutral', 'Tired']\n",
    "loi_label = ['Disinterest', 'Normal', 'High Interest']\n",
    "\n",
    "#Get specific data and save it into new data frames\n",
    "# We use the pandas .copy(deep=True) function to prevent the SettingWithCopyWarning we would otherwise get. Since we do\n",
    "# not write, but only read from the data, the warning does not affect the data frames\n",
    "df_emotion = data[['Anger', 'Boredom', 'Disgust', 'Fear', 'Happiness', 'Emo_Neutral', 'Sadness', 'Filename']].copy(deep=True)\n",
    "df_affect = data[['Aggressiv', 'Cheerful', 'Intoxicated', 'Nervous', 'Aff_Neutral', 'Tired', 'Filename']].copy(deep=True)\n",
    "df_loi = data[['Disinterest', 'Normal', 'High Interest', 'Filename']].copy(deep=True)\n",
    "df_ar_val = data[['Arousal', 'Valence', 'Filename']].copy(deep=True)\n",
    "#For further usage, we want to append the CharacterID as a column, which is saved with other information in the filename\n",
    "#Since we only want the digits, we can remove all non-digit characters of the filename column and append the column to the df\n",
    "\n",
    "df_emotion['Char_ID'] = df_emotion['Filename'].replace('\\D+','', regex = True).copy(deep=True)\n",
    "df_affect['Char_ID'] = df_affect['Filename'].replace('\\D+','', regex = True).copy(deep=True)\n",
    "df_loi['Char_ID'] = df_loi['Filename'].replace('\\D+','', regex = True).copy(deep=True)\n",
    "df_ar_val['Char_ID'] = df_ar_val['Filename'].replace('\\D+','', regex = True).copy(deep=True)"
   ]
  },
  {
   "cell_type": "markdown",
   "metadata": {},
   "source": [
    "## Let's load information about the speakers\n",
    "The speaker ID is saved in a single .csv file containing four important columns: ID, Age, Sex and Acadedmic Status. Since before loaded OpenSMILE csv files are named using the corresponding index (ex. speaker with id 0 has two files 0_a.csv and 0_b.csv), so that a link can be created"
   ]
  },
  {
   "cell_type": "code",
   "execution_count": 3,
   "metadata": {},
   "outputs": [],
   "source": [
    "char_data = pd.read_csv(\"UIST2019_CharacterData.csv\")  \n",
    "\n",
    "#Join above tables and Character Tables\n",
    "\n",
    "#To Join DataFrames we have to cast the column on which we want to join to int, so that both columns have the same data type\n",
    "char_data['ID'] = char_data['ID'].astype(int)\n",
    "df_ar_val['Char_ID'] = df_ar_val['Char_ID'].astype(int)\n",
    "df_emotion['Char_ID'] = df_emotion['Char_ID'].astype(int)\n",
    "df_affect['Char_ID'] = df_affect['Char_ID'].astype(int)\n",
    "df_loi['Char_ID'] = df_loi['Char_ID'].astype(int)\n",
    "\n",
    "#Safe new data frames\n",
    "df_ar_val_char = df_ar_val.merge(char_data, how = 'left', left_on='Char_ID', right_on='ID')\n",
    "df_emotion_char = df_emotion.merge(char_data, how = 'left', left_on='Char_ID', right_on= 'ID')\n",
    "df_affect_char = df_affect.merge(char_data, how = 'left', left_on='Char_ID', right_on= 'ID')\n",
    "df_loi_char = df_loi.merge(char_data, how = 'left', left_on='Char_ID', right_on= 'ID')"
   ]
  },
  {
   "cell_type": "markdown",
   "metadata": {},
   "source": [
    "## Chi-squared Test of Independence\n",
    "We Start with characteristic sex. The null hypothesis states that the two categorical variables sex and e.g. emotion are independent.\n",
    "\n",
    "We bin the data for each specific voice feature e.g. the emotion anger into quartiles (<= 0.25; <= 0.50 && > 0.25; <=0.75 && > 0.5; <= 1.0 && > 0.75) and use the resulting tables as frequency tables for chi2.\n",
    "\n",
    "CAREFUL! The below printed results cannot be used for evaluation, since there are frequency counts of zero resulting in an error! This is why there is this line of code 'tables += 5' in the hp.chi2 function, to prevent that error!"
   ]
  },
  {
   "cell_type": "code",
   "execution_count": 4,
   "metadata": {},
   "outputs": [
    {
     "name": "stdout",
     "output_type": "stream",
     "text": [
      "EMOTION\n",
      "\n",
      "Chi square of Anger : 13.896067883090234 with p-value of: 0.0030500903047402522\n",
      "Chi square of Boredom : 12.833311837261014 with p-value of: 0.005011301518745974\n",
      "Chi square of Disgust : 47.640230828188734 with p-value of: 2.539962703251013e-10\n",
      "Chi square of Fear : 13.896067883090234 with p-value of: 0.0030500903047402522\n",
      "Chi square of Happiness : 13.896067883090234 with p-value of: 0.0030500903047402522\n",
      "Chi square of Emo_Neutral : 13.896067883090234 with p-value of: 0.0030500903047402522\n",
      "Chi square of Sadness : 46.97515917482741 with p-value of: 3.518151711795612e-10\n",
      "\n",
      "AFFECT\n",
      "\n",
      "Chi square of Aggressiv : 18.849512259750185 with p-value of: 0.0002937018347639204\n",
      "Chi square of Cheerful : 4.367669380896267 with p-value of: 0.224401974423878\n",
      "Chi square of Intoxicated : 8.281611865799036 with p-value of: 0.04053642563437645\n",
      "Chi square of Nervous : 9.551577667714549 with p-value of: 0.02278894397981628\n",
      "Chi square of Aff_Neutral : 9.128480408857016 with p-value of: 0.02763055347355608\n",
      "Chi square of Tired : 8.964261795762038 with p-value of: 0.029769838500167994\n",
      "\n",
      "AROUSAL-VALENCE\n",
      "\n",
      "Chi square of Arousal : 31.29394392055874 with p-value of: 7.371286163734111e-07\n",
      "Chi square of Valence : 5.774717232334208 with p-value of: 0.12310021269408106\n",
      "\n",
      "LEVEL OF INTEREST\n",
      "\n",
      "Chi square of Disinterest : 13.348439592131012 with p-value of: 0.0039405927999486\n",
      "Chi square of Normal : 16.535202215784672 with p-value of: 0.0008806138057613473\n",
      "Chi square of High Interest : 25.376515891982454 with p-value of: 1.2880020836836742e-05\n"
     ]
    }
   ],
   "source": [
    "print('EMOTION\\n')\n",
    "emo_sex_chi2 = hp.chi2(df_emotion_char, emotion_label,'Sex',  True)\n",
    "print('\\nAFFECT\\n')\n",
    "aff_sec_chi2 = hp.chi2(df_affect_char, affect_label,'Sex',  True)\n",
    "print('\\nAROUSAL-VALENCE\\n')\n",
    "ar_val_sec_chi2 = hp.chi2(df_ar_val_char, ['Arousal', 'Valence'], 'Sex', True)\n",
    "print('\\nLEVEL OF INTEREST\\n')\n",
    "loi_sec_chi2 = hp.chi2(df_loi_char, loi_label, 'Sex', True)"
   ]
  },
  {
   "cell_type": "markdown",
   "metadata": {},
   "source": [
    "Now move on to academic status, the hypothesis being that the variables academic status and e.g. emotion are independent."
   ]
  },
  {
   "cell_type": "code",
   "execution_count": 5,
   "metadata": {},
   "outputs": [
    {
     "name": "stdout",
     "output_type": "stream",
     "text": [
      "EMOTION\n",
      "\n",
      "Chi square of Anger : 2.3895790376252983 with p-value of: 0.49557742956461914\n",
      "Chi square of Boredom : 2.3895790376252983 with p-value of: 0.49557742956461914\n",
      "Chi square of Disgust : 1.1324209419594558 with p-value of: 0.7692538606681247\n",
      "Chi square of Fear : 2.3895790376252983 with p-value of: 0.49557742956461914\n",
      "Chi square of Happiness : 2.3895790376252983 with p-value of: 0.49557742956461914\n",
      "Chi square of Emo_Neutral : 2.3895790376252983 with p-value of: 0.49557742956461914\n",
      "Chi square of Sadness : 1.0535587324439981 with p-value of: 0.7882953285283588\n",
      "\n",
      "AFFECT\n",
      "\n",
      "Chi square of Aggressiv : 1.6786548049911896 with p-value of: 0.641689701192599\n",
      "Chi square of Cheerful : 4.950049376998965 with p-value of: 0.17549152803676873\n",
      "Chi square of Intoxicated : 1.16160786354863 with p-value of: 0.7622262776529508\n",
      "Chi square of Nervous : 1.5189383667572 with p-value of: 0.6779063136121222\n",
      "Chi square of Aff_Neutral : 2.6130436003085364 with p-value of: 0.4552074226724815\n",
      "Chi square of Tired : 4.280578297984737 with p-value of: 0.2327172733009575\n",
      "\n",
      "AROUSAL-VALENCE\n",
      "\n",
      "Chi square of Arousal : 2.2422509323511193 with p-value of: 0.5236742703877859\n",
      "Chi square of Valence : 1.0947396446788908 with p-value of: 0.7783441037791922\n",
      "\n",
      "LEVEL OF INTEREST\n",
      "\n",
      "Chi square of Disinterest : 2.0811508308289977 with p-value of: 0.5557354809384243\n",
      "Chi square of Normal : 2.434561178675332 with p-value of: 0.4872334972296729\n",
      "Chi square of High Interest : 1.5694986015556425 with p-value of: 0.6663254092810971\n"
     ]
    }
   ],
   "source": [
    "print('EMOTION\\n')\n",
    "emo_aca_chi2 = hp.chi2(df_emotion_char, emotion_label,'Academic' , True)\n",
    "print('\\nAFFECT\\n')\n",
    "aff_aca_chi2 = hp.chi2(df_affect_char, affect_label,'Academic', True)\n",
    "print('\\nAROUSAL-VALENCE\\n')\n",
    "ar_val_aca_chi2 = hp.chi2(df_ar_val_char, ['Arousal', 'Valence'],  'Academic',True)\n",
    "print('\\nLEVEL OF INTEREST\\n')\n",
    "loi_aca_chi2 = hp.chi2(df_loi_char, loi_label,'Academic', True)"
   ]
  },
  {
   "cell_type": "markdown",
   "metadata": {},
   "source": [
    "Now let's look if age and e.g. emotion/ affect/ arousal-valence/ level of interest are independent"
   ]
  },
  {
   "cell_type": "code",
   "execution_count": 6,
   "metadata": {},
   "outputs": [
    {
     "name": "stdout",
     "output_type": "stream",
     "text": [
      "EMOTION\n",
      "\n",
      "Chi square of Anger : 36.17527668875551 with p-value of: 2.5486092407738426e-06\n",
      "Chi square of Boredom : 36.17527668875551 with p-value of: 2.5486092407738426e-06\n",
      "Chi square of Disgust : 14.540649217616345 with p-value of: 0.02414664425981703\n",
      "Chi square of Fear : 36.17527668875551 with p-value of: 2.5486092407738426e-06\n",
      "Chi square of Happiness : 36.17527668875551 with p-value of: 2.5486092407738426e-06\n",
      "Chi square of Emo_Neutral : 36.17527668875551 with p-value of: 2.5486092407738426e-06\n",
      "Chi square of Sadness : 14.214015072772998 with p-value of: 0.027334751564579592\n",
      "\n",
      "AFFECT\n",
      "\n",
      "Chi square of Aggressiv : 32.90102235384214 with p-value of: 1.0955795189958452e-05\n",
      "Chi square of Cheerful : 18.395304715646684 with p-value of: 0.005316637100267745\n",
      "Chi square of Intoxicated : 1.9544824040539268 with p-value of: 0.9238368536110602\n",
      "Chi square of Nervous : 30.45485650363699 with p-value of: 3.2205307975096964e-05\n",
      "Chi square of Aff_Neutral : 25.443658826647404 with p-value of: 0.0002825362360451157\n",
      "Chi square of Tired : 29.83319430135554 with p-value of: 4.228492217737277e-05\n",
      "\n",
      "AROUSAL-VALENCE\n",
      "\n",
      "Chi square of Arousal : 20.5035012669159 with p-value of: 0.0022518963103131256\n",
      "Chi square of Valence : 10.983645501376774 with p-value of: 0.08888320493991493\n",
      "\n",
      "LEVEL OF INTEREST\n",
      "\n",
      "Chi square of Disinterest : 27.056945735591746 with p-value of: 0.00014129327302415574\n",
      "Chi square of Normal : 14.952557586805458 with p-value of: 0.02062893711628968\n",
      "Chi square of High Interest : 19.2408966189454 with p-value of: 0.0037755607031616937\n"
     ]
    }
   ],
   "source": [
    "print('EMOTION\\n')\n",
    "emo_age_chi2 = hp.chi2(df_emotion_char, emotion_label,'Age', True)\n",
    "print('\\nAFFECT\\n')\n",
    "aff_age_chi2 = hp.chi2(df_affect_char, affect_label, 'Age', True)\n",
    "print('\\nAROUSAL-VALENCE\\n')\n",
    "ar_val_age_chi2 = hp.chi2(df_ar_val_char, ['Arousal', 'Valence'],'Age' ,True)\n",
    "print('\\nLEVEL OF INTEREST\\n')\n",
    "loi_age_chi2 = hp.chi2(df_loi_char, loi_label, 'Age',  True)"
   ]
  },
  {
   "cell_type": "markdown",
   "metadata": {},
   "source": [
    "## Post-Hoc tests for age, as it has three different groups\n",
    "\n",
    "If a significant p-value for the category 'Age' is found, we do not yet know which groups differ significantly from each other, so post-hoc testing is done for this character feature.\n",
    "\n",
    "CAREFUL! The below printed results cannot be used for evaluation, since there are frequency counts of zero resulting in an error! This is why there is this line of code 'tables += 5' in the hp.chi2 function, to prevent that error!"
   ]
  },
  {
   "cell_type": "code",
   "execution_count": 10,
   "metadata": {},
   "outputs": [
    {
     "name": "stdout",
     "output_type": "stream",
     "text": [
      "EMOTION\n",
      "\n",
      "post-hoc emotions and different groups\n",
      "Anger\n",
      "Combinations: [('Young', 'Intermediate'), ('Young', 'Old'), ('Intermediate', 'Old')]\n",
      "Reject List: [ True  True False]\n",
      "Corrected p-values: [2.30790022e-03 8.91901006e-07 1.00000000e+00]\n",
      "Boredom\n",
      "Combinations: [('Young', 'Intermediate'), ('Young', 'Old'), ('Intermediate', 'Old')]\n",
      "Reject List: [ True  True False]\n",
      "Corrected p-values: [2.30790022e-03 8.91901006e-07 1.00000000e+00]\n",
      "Disgust\n",
      "Combinations: [('Young', 'Intermediate'), ('Young', 'Old'), ('Intermediate', 'Old')]\n",
      "Reject List: [False  True False]\n",
      "Corrected p-values: [0.57965828 0.00981785 1.        ]\n",
      "Fear\n",
      "Combinations: [('Young', 'Intermediate'), ('Young', 'Old'), ('Intermediate', 'Old')]\n",
      "Reject List: [ True  True False]\n",
      "Corrected p-values: [2.30790022e-03 8.91901006e-07 1.00000000e+00]\n",
      "Happiness\n",
      "Combinations: [('Young', 'Intermediate'), ('Young', 'Old'), ('Intermediate', 'Old')]\n",
      "Reject List: [ True  True False]\n",
      "Corrected p-values: [2.30790022e-03 8.91901006e-07 1.00000000e+00]\n",
      "Emo_Neutral\n",
      "Combinations: [('Young', 'Intermediate'), ('Young', 'Old'), ('Intermediate', 'Old')]\n",
      "Reject List: [ True  True False]\n",
      "Corrected p-values: [2.30790022e-03 8.91901006e-07 1.00000000e+00]\n",
      "Sadness\n",
      "Combinations: [('Young', 'Intermediate'), ('Young', 'Old'), ('Intermediate', 'Old')]\n",
      "Reject List: [False  True False]\n",
      "Corrected p-values: [0.59967741 0.01133003 1.        ]\n",
      "\n",
      "AFFECT\n",
      "\n",
      "\n",
      " post-hoc affect and different groups\n",
      "Aggressiv\n",
      "Combinations: [('Young', 'Intermediate'), ('Young', 'Old'), ('Intermediate', 'Old')]\n",
      "Reject List: [ True  True False]\n",
      "Corrected p-values: [6.31435788e-03 3.98688559e-06 1.00000000e+00]\n",
      "Cheerful\n",
      "Combinations: [('Young', 'Intermediate'), ('Young', 'Old'), ('Intermediate', 'Old')]\n",
      "Reject List: [False  True False]\n",
      "Corrected p-values: [0.23994843 0.00197002 1.        ]\n",
      "Intoxicated\n",
      "Combinations: [('Young', 'Intermediate'), ('Young', 'Old'), ('Intermediate', 'Old')]\n",
      "Reject List: [False False False]\n",
      "Corrected p-values: [1. 1. 1.]\n",
      "Nervous\n",
      "Combinations: [('Young', 'Intermediate'), ('Young', 'Old'), ('Intermediate', 'Old')]\n",
      "Reject List: [ True  True False]\n",
      "Corrected p-values: [7.33283842e-03 1.72411424e-05 1.00000000e+00]\n",
      "Aff_Neutral\n",
      "Combinations: [('Young', 'Intermediate'), ('Young', 'Old'), ('Intermediate', 'Old')]\n",
      "Reject List: [ True  True False]\n",
      "Corrected p-values: [2.80506184e-02 9.99494772e-05 1.00000000e+00]\n",
      "Tired\n",
      "Combinations: [('Young', 'Intermediate'), ('Young', 'Old'), ('Intermediate', 'Old')]\n",
      "Reject List: [ True  True False]\n",
      "Corrected p-values: [1.57560775e-02 1.59025179e-05 1.00000000e+00]\n",
      "\n",
      "AROUSAL-VALENCE\n",
      "\n",
      "\n",
      " post-hoc arousal-valence and different groups\n",
      "Arousal\n",
      "Combinations: [('Young', 'Intermediate'), ('Young', 'Old'), ('Intermediate', 'Old')]\n",
      "Reject List: [False  True False]\n",
      "Corrected p-values: [7.25842625e-02 8.06328148e-04 1.00000000e+00]\n",
      "Valence\n",
      "Combinations: [('Young', 'Intermediate'), ('Young', 'Old'), ('Intermediate', 'Old')]\n",
      "Reject List: [False False False]\n",
      "Corrected p-values: [0.63929034 0.0766027  1.        ]\n",
      "\n",
      "LEVEL OF INTEREST\n",
      "\n",
      "\n",
      " post-hoc level of intereset and different groups\n",
      "Disinterest\n",
      "Combinations: [('Young', 'Intermediate'), ('Young', 'Old'), ('Intermediate', 'Old')]\n",
      "Reject List: [ True  True False]\n",
      "Corrected p-values: [2.65870829e-02 4.42777905e-05 1.00000000e+00]\n",
      "Normal\n",
      "Combinations: [('Young', 'Intermediate'), ('Young', 'Old'), ('Intermediate', 'Old')]\n",
      "Reject List: [False  True False]\n",
      "Corrected p-values: [0.25008066 0.01750227 1.        ]\n",
      "High Interest\n",
      "Combinations: [('Young', 'Intermediate'), ('Young', 'Old'), ('Intermediate', 'Old')]\n",
      "Reject List: [False  True False]\n",
      "Corrected p-values: [0.21713872 0.00142128 1.        ]\n"
     ]
    }
   ],
   "source": [
    "print('EMOTION\\n')\n",
    "print('post-hoc emotions and different groups')\n",
    "emo_reject_list, emo_corrected_p_vals, emo_combinations, emo_residuals= hp.chi2_post_hoc(df_emotion_char,emotion_label, 'Age', 'bonferroni', True, True)\n",
    "print('\\nAFFECT\\n')\n",
    "print('\\n post-hoc affect and different groups')\n",
    "aff_reject_list, emo_corrected_p_vals, emo_combinations, aff_residuals = hp.chi2_post_hoc(df_affect_char, affect_label, 'Age' ,'bonferroni', True, True)\n",
    "print('\\nAROUSAL-VALENCE\\n')\n",
    "print('\\n post-hoc arousal-valence and different groups')\n",
    "ar_val_reject_list, ar_val_corrected_p_vals, ar_val_combinations, ar_val_residuals = hp.chi2_post_hoc(df_ar_val_char, ['Arousal', 'Valence'], 'Age', 'bonferroni',True, True)\n",
    "print('\\nLEVEL OF INTEREST\\n')\n",
    "print('\\n post-hoc level of intereset and different groups')\n",
    "loi_reject_list, loi_corrected_p_vals, loi_combinations, loi_residuals = hp.chi2_post_hoc(df_loi_char, loi_label, 'Age', 'bonferroni', True, True)"
   ]
  }
 ],
 "metadata": {
  "kernelspec": {
   "display_name": "Python 3",
   "language": "python",
   "name": "python3"
  },
  "language_info": {
   "codemirror_mode": {
    "name": "ipython",
    "version": 3
   },
   "file_extension": ".py",
   "mimetype": "text/x-python",
   "name": "python",
   "nbconvert_exporter": "python",
   "pygments_lexer": "ipython3",
   "version": "3.7.0"
  }
 },
 "nbformat": 4,
 "nbformat_minor": 2
}
