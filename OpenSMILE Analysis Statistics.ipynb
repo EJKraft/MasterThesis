{
 "cells": [
  {
   "cell_type": "markdown",
   "metadata": {},
   "source": [
    "# OpenSMILE Analysis\n",
    "This notebook loads OpenSMILE csv- data, cleans and plots it"
   ]
  },
  {
   "cell_type": "markdown",
   "metadata": {},
   "source": [
    "## Import relevant libraries"
   ]
  },
  {
   "cell_type": "code",
   "execution_count": 1,
   "metadata": {},
   "outputs": [],
   "source": [
    "import numpy as np\n",
    "import pandas as pd\n",
    "from os import listdir\n",
    "import matplotlib.pyplot as plt\n",
    "import itertools as it\n",
    "from statsmodels.sandbox.stats.multicomp import multipletests\n",
    "import statsmodels.api as sm\n",
    "#import nltk\n",
    "import scipy.stats as st\n",
    "\n",
    "import seaborn as sns\n",
    "import Helper as hp"
   ]
  },
  {
   "cell_type": "markdown",
   "metadata": {},
   "source": [
    "## Load .csv data with results of OpenSMILE Analysis\n",
    "First we load .csv data and clean it (removing of NaNs), then we store information of all files in seperate panda dataframes containing information about affect, emotion and valence/arousal for all participants."
   ]
  },
  {
   "cell_type": "code",
   "execution_count": 2,
   "metadata": {},
   "outputs": [],
   "source": [
    "# Get Filenames to iterate\n",
    "filenames = listdir('OpenSMILE_Data')\n",
    "\n",
    "data = hp.constructDataFrames(filenames)\n",
    "df_emotion = data[0][0]\n",
    "df_affect = data[0][1]\n",
    "df_loi = data[0][2]\n",
    "df_ar_val = data[0][3]\n",
    "emotion_label = data[1][0]\n",
    "affect_label = data[1][1]\n",
    "loi_label = data[1][2]\n",
    "characterIDs = data[1][3]"
   ]
  },
  {
   "cell_type": "markdown",
   "metadata": {},
   "source": [
    "## Let's load information about the speakers\n",
    "The speaker ID is saved in a single .csv file containing four important columns: ID, Age, Sex and Acadedmic Status. Since before loaded OpenSMILE csv files are named using the corresponding index (ex. speaker with id 0 has two files 0_a.csv and 0_b.csv), so that a link can be created"
   ]
  },
  {
   "cell_type": "code",
   "execution_count": 3,
   "metadata": {},
   "outputs": [],
   "source": [
    "char_data = pd.read_csv(\"CharacterData/CharacterIDs.csv\")    \n",
    "\n",
    "#Join above tables and Character Tables\n",
    "\n",
    "#To Join DataFrames we have to cast the column on which we want to join to int, so that both columns have the same data type\n",
    "char_data['CharacterID'] = char_data['CharacterID'].astype(int)\n",
    "df_ar_val['CharacterID'] = df_ar_val['CharacterID'].astype(int)\n",
    "df_emotion['CharacterID'] = df_emotion['CharacterID'].astype(int)\n",
    "df_affect['CharacterID'] = df_affect['CharacterID'].astype(int)\n",
    "df_loi['CharacterID'] = df_loi['CharacterID'].astype(int)\n",
    "\n",
    "#Safe new data frames\n",
    "df_ar_val_char = df_ar_val.merge(char_data, how = 'left', left_on='CharacterID', right_on='CharacterID')\n",
    "df_emotion_char = df_emotion.merge(char_data, how = 'left', left_on='CharacterID', right_on= 'CharacterID')\n",
    "df_affect_char = df_affect.merge(char_data, how = 'left', left_on='CharacterID', right_on= 'CharacterID')\n",
    "df_loi_char = df_loi.merge(char_data, how = 'left', left_on='CharacterID', right_on= 'CharacterID')"
   ]
  },
  {
   "cell_type": "markdown",
   "metadata": {},
   "source": [
    "## Now have a look at correlation\n",
    "### Have a look at arousal and what it corrlates with"
   ]
  },
  {
   "cell_type": "code",
   "execution_count": 4,
   "metadata": {},
   "outputs": [
    {
     "name": "stdout",
     "output_type": "stream",
     "text": [
      "Emotions and Arousal\n",
      "Correlation between arousal and anger: -0.6834858044692085\n",
      "Cohen d: 1.3540103907062906\n",
      "Correlation between arousal and boredom: -0.42307029758274\n",
      "Cohen d: 0.1583736511748122\n",
      "Correlation between arousal and disgust: -0.15806251433006668\n",
      "Cohen d: -0.7373572423651821\n",
      "Correlation between arousal and fear: -0.6184722018376901\n",
      "Cohen d: 1.3418849887875337\n",
      "Correlation between arousal and happiness: -0.5789869405166657\n",
      "Cohen d: 1.2675246862010017\n",
      "Correlation between arousal and neutral: -0.356264634376464\n",
      "Cohen d: 1.073710483184311\n",
      "Correlation between arousal and sadness: 0.483425559781051\n",
      "Cohen d: -2.861793647848958\n",
      "Affect and Arousal\n",
      "Correlation between arousal and aggressiv: -0.6249619461578844\n",
      "Cohen d: -0.05694323448409338\n",
      "Correlation between arousal and cheerful: -0.7547280735964071\n",
      "Cohen d: -1.7333878080657694\n",
      "Correlation between arousal and intoxicated: 0.8192158568074172\n",
      "Cohen d: -1.3141756512058569\n",
      "Correlation between arousal and nervous: -0.4817454038193749\n",
      "Cohen d: 1.0691773958995312\n",
      "Correlation between arousal and neutral: 0.37828181792104143\n",
      "Cohen d: -0.1028272907769836\n",
      "Correlation between arousal and tired: -0.6346264185866773\n",
      "Cohen d: -0.2884505126476868\n",
      "Level of Interest and Arousal\n",
      "Correlation between arousal and disinterest: -0.04747717808365058\n",
      "Cohen d: 0.9923059433243631\n",
      "Correlation between arousal and normal: -0.3536397708585063\n",
      "Cohen d: -1.9243451893047094\n",
      "Correlation between arousal and high interest: 0.38118752283124524\n",
      "Cohen d: -0.9814374723313585\n"
     ]
    }
   ],
   "source": [
    "#'Clean' our dataFrames so that we can call the panda .corr function (default is spearman)\n",
    "#Let's start with arousal and look how correlation is between emotions\n",
    "print('Emotions and Arousal')\n",
    "cor_ar_emo = hp.correlations(df_ar_val['arousal'], df_emotion, emotion_label)\n",
    "# Now arousal and affect\n",
    "print('Affect and Arousal')\n",
    "cor_ar_aff = hp.correlations(df_ar_val['arousal'], df_affect, affect_label)\n",
    "# Now arousal and level of Interest\n",
    "print('Level of Interest and Arousal')\n",
    "cor_ar_loi = hp.correlations(df_ar_val['arousal'], df_loi, loi_label)"
   ]
  },
  {
   "cell_type": "markdown",
   "metadata": {},
   "source": [
    "### Now look at valence"
   ]
  },
  {
   "cell_type": "code",
   "execution_count": 5,
   "metadata": {},
   "outputs": [
    {
     "name": "stdout",
     "output_type": "stream",
     "text": [
      "Emotions and valence\n",
      "Correlation between valence and anger: -0.42700028268595\n",
      "Cohen d: 2.124212618215266\n",
      "Correlation between valence and boredom: 0.16831427339329016\n",
      "Cohen d: 1.198707389958022\n",
      "Correlation between valence and disgust: -0.17965790687690897\n",
      "Cohen d: 0.03344577381746021\n",
      "Correlation between valence and fear: -0.3312140972517545\n",
      "Cohen d: 2.1168342579669335\n",
      "Correlation between valence and happiness: -0.3991203323202824\n",
      "Cohen d: 2.071387756958357\n",
      "Correlation between valence and neutral: 0.2970377418952006\n",
      "Cohen d: 1.9499189451425651\n",
      "Correlation between valence and sadness: 0.12493730716157896\n",
      "Cohen d: -1.7990379478117744\n",
      "Affect and valence\n",
      "Correlation between valence and aggressiv: -0.5966541351575038\n",
      "Cohen d: 1.1899909839878873\n",
      "Correlation between valence and cheerful: -0.16359981081171018\n",
      "Cohen d: -0.18032792829621663\n",
      "Correlation between valence and intoxicated: 0.3355725268618499\n",
      "Cohen d: -0.38644640823664206\n",
      "Correlation between valence and nervous: 0.27861337746066017\n",
      "Cohen d: 1.9502148172687783\n",
      "Correlation between valence and neutral: 0.8828519855675988\n",
      "Cohen d: 1.0693724734234018\n",
      "Correlation between valence and tired: -0.6586139310508109\n",
      "Cohen d: 0.7000580604851839\n",
      "Level of Interest and valence\n",
      "Correlation between valence and disinterest: 0.5908380322614772\n",
      "Cohen d: 1.8957276213871455\n",
      "Correlation between valence and normal: -0.8003354280791528\n",
      "Cohen d: -1.2755973324459788\n",
      "Correlation between valence and high interest: 0.785399816568651\n",
      "Cohen d: -0.3518695013312443\n"
     ]
    }
   ],
   "source": [
    "print('Emotions and valence')\n",
    "cor_val_emo = hp.correlations(df_ar_val['valence'], df_emotion, emotion_label)\n",
    "\n",
    "# Now valence and affect\n",
    "print('Affect and valence')\n",
    "cor_val_aff = hp.correlations(df_ar_val['valence'], df_affect, affect_label)\n",
    "\n",
    "# Now arousal and level of Interest\n",
    "print('Level of Interest and valence')\n",
    "cor_val_loi = hp.correlations(df_ar_val['valence'], df_loi, loi_label)"
   ]
  },
  {
   "cell_type": "markdown",
   "metadata": {},
   "source": [
    "### Now look at the different emotions and how they correlate with affect and level of interest"
   ]
  },
  {
   "cell_type": "code",
   "execution_count": 6,
   "metadata": {},
   "outputs": [
    {
     "name": "stdout",
     "output_type": "stream",
     "text": [
      "ANGER\n",
      "Affect and anger\n",
      "Correlation between anger and aggressiv: 0.8219437272699538\n",
      "Cohen d: -2.5220828261171917\n",
      "Correlation between anger and cheerful: 0.8336310706800888\n",
      "Cohen d: -3.756066144914373\n",
      "Correlation between anger and intoxicated: -0.7093611149907214\n",
      "Cohen d: -2.0544981822259185\n",
      "Correlation between anger and nervous: 0.4679141958102869\n",
      "Cohen d: -3.899662916493322\n",
      "Correlation between anger and neutral: -0.275407946565424\n",
      "Cohen d: -1.6917353317472992\n",
      "Correlation between anger and tired: 0.30124420924847395\n",
      "Cohen d: -1.203980867797832\n",
      "Level of Interest and anger\n",
      "Correlation between anger and disinterest: 0.009259088185940937\n",
      "Cohen d: -0.7916027783022161\n",
      "Correlation between anger and normal: 0.42912660568043326\n",
      "Cohen d: -2.3772808250222512\n",
      "Correlation between anger and high interest: -0.4572046402007513\n",
      "Cohen d: -1.4269188233126726\n",
      "BOREDOM\n",
      "Affect and boredom\n",
      "Correlation between boredom and aggressiv: -0.13264841610321568\n",
      "Cohen d: -0.24405618151390246\n",
      "Correlation between boredom and cheerful: 0.5522410216244632\n",
      "Cohen d: -1.8129534728271748\n",
      "Correlation between boredom and intoxicated: -0.8406554163017951\n",
      "Cohen d: -1.3880426251703544\n",
      "Correlation between boredom and nervous: 0.857963577867017\n",
      "Cohen d: 0.7639677206366149\n",
      "Correlation between boredom and neutral: 0.585995095862107\n",
      "Cohen d: -0.26472461281309084\n",
      "Correlation between boredom and tired: 0.5120334568192727\n",
      "Cohen d: -0.40324905419054535\n",
      "Level of Interest and boredom\n",
      "Correlation between boredom and disinterest: 0.8802202891581118\n",
      "Cohen d: 0.7136540734830528\n",
      "Correlation between boredom and normal: -0.25187977406387385\n",
      "Cohen d: -1.9736407112348517\n",
      "Correlation between boredom and high interest: 0.17034283952527765\n",
      "Cohen d: -1.0401187173865343\n",
      "DISGUST\n",
      "Affect and disgust\n",
      "Correlation between disgust and aggressiv: 0.582990059406147\n",
      "Cohen d: 0.7483494042406845\n",
      "Correlation between disgust and cheerful: 0.29836115558056153\n",
      "Cohen d: -0.1632787638524393\n",
      "Correlation between disgust and intoxicated: 0.2170989621665395\n",
      "Cohen d: -0.34464038049674256\n",
      "Correlation between disgust and nervous: -0.37161287246229735\n",
      "Cohen d: 1.21015977406432\n",
      "Correlation between disgust and neutral: -0.4043113410768097\n",
      "Cohen d: 0.697881797125543\n",
      "Correlation between disgust and tired: -0.46676789751290576\n",
      "Cohen d: 0.4956027368347559\n",
      "Level of Interest and disgust\n",
      "Correlation between disgust and disinterest: -0.5066382601205961\n",
      "Cohen d: 1.1931248192130683\n",
      "Correlation between disgust and normal: 0.4340805859271134\n",
      "Cohen d: -1.1642776783959488\n",
      "Correlation between disgust and high interest: -0.40537367343860364\n",
      "Cohen d: -0.3355831858762549\n",
      "FEAR\n",
      "Affect and fear\n",
      "Correlation between fear and aggressiv: 0.8260959110075389\n",
      "Cohen d: -2.4957289768549127\n",
      "Correlation between fear and cheerful: 0.845063270509811\n",
      "Cohen d: -3.7421584878613503\n",
      "Correlation between fear and intoxicated: -0.6495789914551164\n",
      "Cohen d: -2.049176943098172\n",
      "Correlation between fear and nervous: 0.47539226466393714\n",
      "Cohen d: -3.2504604965134187\n",
      "Correlation between fear and neutral: -0.22188582965857043\n",
      "Cohen d: -1.6774192295098564\n",
      "Correlation between fear and tired: 0.17789356308251617\n",
      "Cohen d: -1.196583015061944\n",
      "Level of Interest and fear\n",
      "Correlation between fear and disinterest: 0.01873117523548589\n",
      "Cohen d: -0.7576125607273556\n",
      "Correlation between fear and normal: 0.37354613216917915\n",
      "Cohen d: -2.3740512409173262\n",
      "Correlation between fear and high interest: -0.3991686956222605\n",
      "Cohen d: -1.4235485356695596\n",
      "HAPPINESS\n",
      "Affect and happiness\n",
      "Correlation between happiness and aggressiv: 0.8982242594806464\n",
      "Cohen d: -2.31381829437784\n",
      "Correlation between happiness and cheerful: 0.7801118141600756\n",
      "Cohen d: -3.646238057555947\n",
      "Correlation between happiness and intoxicated: -0.5278254295189847\n",
      "Cohen d: -2.0171162191566916\n",
      "Correlation between happiness and nervous: 0.3292089681193376\n",
      "Cohen d: -1.2774008352748913\n",
      "Correlation between happiness and neutral: -0.3601403469219666\n",
      "Cohen d: -1.5869933364993078\n",
      "Correlation between happiness and tired: 0.10583445499498462\n",
      "Cohen d: -1.152623086531922\n",
      "Level of Interest and happiness\n",
      "Correlation between happiness and disinterest: -0.15765376557024796\n",
      "Cohen d: -0.5554681685678832\n",
      "Correlation between happiness and normal: 0.4542248230193407\n",
      "Cohen d: -2.3549211360674853\n",
      "Correlation between happiness and high interest: -0.46541262128843447\n",
      "Cohen d: -1.4039432929305171\n",
      "NEUTRAL\n",
      "Affect and neutral\n",
      "Correlation between neutral and aggressiv: -0.12152334633345123\n",
      "Cohen d: -1.876125050855316\n",
      "Correlation between neutral and cheerful: 0.5921829906908198\n",
      "Cohen d: -3.394417565604235\n",
      "Correlation between neutral and intoxicated: -0.7883504428546166\n",
      "Cohen d: -1.9309840412301713\n",
      "Correlation between neutral and nervous: 0.8936398555748698\n",
      "Cohen d: -0.15623777570014963\n",
      "Correlation between neutral and neutral: 0.6697115883750815\n",
      "Cohen d: -1.3536090526884312\n",
      "Correlation between neutral and tired: 0.36024256533825627\n",
      "Cohen d: -1.0355871303030895\n",
      "Level of Interest and neutral\n",
      "Correlation between neutral and disinterest: 0.9150752695669935\n",
      "Cohen d: -0.12326082784515041\n",
      "Correlation between neutral and normal: -0.3285499024989697\n",
      "Cohen d: -2.3033389740569232\n",
      "Correlation between neutral and high interest: 0.24798876390889676\n",
      "Cohen d: -1.3511841124058348\n",
      "SADNESS\n",
      "Affect and sadness\n",
      "Correlation between sadness and aggressiv: -0.6600232092469853\n",
      "Cohen d: 3.0008132426123\n",
      "Correlation between sadness and cheerful: -0.7493676717449879\n",
      "Cohen d: 1.8787808131036836\n",
      "Correlation between sadness and intoxicated: 0.3180140833457937\n",
      "Cohen d: 1.2631106211475516\n",
      "Correlation between sadness and nervous: -0.14700313044075045\n",
      "Cohen d: 3.574582543597302\n",
      "Correlation between sadness and neutral: 0.12174455055530681\n",
      "Cohen d: 2.8579871717898198\n",
      "Correlation between sadness and tired: 0.2112974134670213\n",
      "Cohen d: 2.389775401490333\n",
      "Level of Interest and sadness\n",
      "Correlation between sadness and disinterest: 0.040972421482966905\n",
      "Cohen d: 3.5256151697168936\n",
      "Correlation between sadness and normal: -0.3663983609681874\n",
      "Cohen d: 0.02406084058144038\n",
      "Correlation between sadness and high interest: 0.38496082476993104\n",
      "Cohen d: 0.9300086284406457\n"
     ]
    }
   ],
   "source": [
    "# Now emotion and affect\n",
    "print('ANGER')\n",
    "print('Affect and anger')\n",
    "cor_ang_aff = hp.correlations(df_emotion['anger'], df_affect, affect_label)\n",
    "# Now arousal and level of Interest\n",
    "print('Level of Interest and anger')\n",
    "cor_ang_loi = hp.correlations(df_emotion['anger'], df_loi, loi_label)\n",
    "##########\n",
    "# Now look at boredom\n",
    "print('BOREDOM')\n",
    "print('Affect and boredom')\n",
    "cor_bor_aff = hp.correlations(df_emotion['boredom'], df_affect, affect_label)\n",
    "# Now arousal and level of Interest\n",
    "print('Level of Interest and boredom')\n",
    "cor_bor_loi = hp.correlations(df_emotion['boredom'], df_loi, loi_label)\n",
    "##########\n",
    "# Disgust\n",
    "print('DISGUST')\n",
    "print('Affect and disgust')\n",
    "cor_dis_aff = hp.correlations(df_emotion['disgust'], df_affect, affect_label)\n",
    "# Now level of Interest\n",
    "print('Level of Interest and disgust')\n",
    "cor_dis_loi = hp.correlations(df_emotion['disgust'], df_loi, loi_label)\n",
    "######\n",
    "# fear\n",
    "print('FEAR')\n",
    "print('Affect and fear')\n",
    "cor_fea_aff = hp.correlations(df_emotion['fear'], df_affect, affect_label)\n",
    "# Now arousal and level of Interest\n",
    "print('Level of Interest and fear')\n",
    "cor_fea_loi = hp.correlations(df_emotion['fear'], df_loi, loi_label)\n",
    "##########\n",
    "# happiness\n",
    "print('HAPPINESS')\n",
    "print('Affect and happiness')\n",
    "cor_hap_aff = hp.correlations(df_emotion['happiness'], df_affect, affect_label)\n",
    "# Now level of Interest\n",
    "print('Level of Interest and happiness')\n",
    "cor_hap_loi = hp.correlations(df_emotion['happiness'], df_loi, loi_label)\n",
    "##########\n",
    "# neutral\n",
    "print('NEUTRAL')\n",
    "print('Affect and neutral')\n",
    "cor_eneu_aff = hp.correlations(df_emotion['neutral'], df_affect, affect_label)\n",
    "# Now arousal and level of Interest\n",
    "print('Level of Interest and neutral')\n",
    "cor_eneu_loi = hp.correlations(df_emotion['neutral'], df_loi, loi_label)\n",
    "##########\n",
    "# Sadness\n",
    "print('SADNESS')\n",
    "print('Affect and sadness')\n",
    "cor_sad_aff = hp.correlations(df_emotion['sadness'], df_affect, affect_label)\n",
    "# Now level of Interest\n",
    "print('Level of Interest and sadness')\n",
    "cor_sad_loi = hp.correlations(df_emotion['sadness'], df_loi, loi_label)"
   ]
  },
  {
   "cell_type": "markdown",
   "metadata": {},
   "source": [
    "### Now have a look at affect"
   ]
  },
  {
   "cell_type": "code",
   "execution_count": 7,
   "metadata": {},
   "outputs": [
    {
     "name": "stdout",
     "output_type": "stream",
     "text": [
      "AGGRESSIV\n",
      "Level of Interest and aggressiv\n",
      "Correlation between aggressiv and disinterest: -0.46985007624380576\n",
      "Cohen d: 1.6685232998938873\n",
      "Correlation between aggressiv and normal: 0.6493212625168995\n",
      "Cohen d: -1.9559760973290863\n",
      "Correlation between aggressiv and high interest: -0.6382560988794522\n",
      "Cohen d: -0.9907769562863176\n",
      "CHEERFUL\n",
      "Level of Interest and cheerful\n",
      "Correlation between cheerful and disinterest: 0.30740629850886686\n",
      "Cohen d: 3.2578193931742008\n",
      "Correlation between cheerful and normal: 0.18631170633269223\n",
      "Cohen d: -1.255894587971958\n",
      "Correlation between cheerful and high interest: -0.23207811608422513\n",
      "Cohen d: -0.2755757861703259\n",
      "INTOXICATED\n",
      "Level of Interest and intoxicated\n",
      "Correlation between intoxicated and disinterest: -0.5066896737629814\n",
      "Cohen d: 1.8942451153533637\n",
      "Correlation between intoxicated and normal: -0.18317122995961105\n",
      "Cohen d: -0.9401051861079537\n",
      "Correlation between intoxicated and high interest: 0.25079466125469346\n",
      "Cohen d: -0.06266537498593241\n",
      "NERVOUS\n",
      "Level of Interest and nervous\n",
      "Correlation between nervous and disinterest: 0.7970189591482074\n",
      "Cohen d: -0.03257001012670588\n",
      "Correlation between nervous and normal: -0.48955181310498064\n",
      "Cohen d: -2.2976164654242868\n",
      "Correlation between nervous and high interest: 0.4322054593595596\n",
      "Cohen d: -1.3422934828355089\n",
      "NEUTRAL\n",
      "Level of Interest and neutral\n",
      "Correlation between neutral and disinterest: 0.8905528964829299\n",
      "Cohen d: 1.2503083862595739\n",
      "Correlation between neutral and normal: -0.7455743189783561\n",
      "Cohen d: -1.9029354806182042\n",
      "Correlation between neutral and high interest: 0.6940167930044759\n",
      "Cohen d: -0.9510526980187716\n",
      "TIRED\n",
      "Level of Interest and tired\n",
      "Correlation between tired and disinterest: 0.15264410465927994\n",
      "Cohen d: 0.9884067132630869\n",
      "Correlation between tired and normal: 0.3414627587862893\n",
      "Cohen d: -1.6916633485740207\n",
      "Correlation between tired and high interest: -0.37988200933487987\n",
      "Cohen d: -0.7828574470843995\n"
     ]
    }
   ],
   "source": [
    "##########\n",
    "# Aggressiv\n",
    "print('AGGRESSIV')\n",
    "print('Level of Interest and aggressiv')\n",
    "cor_agg_loi = hp.correlations(df_affect['aggressiv'], df_loi, loi_label)\n",
    "##########\n",
    "# Cheerful\n",
    "print('CHEERFUL')\n",
    "print('Level of Interest and cheerful')\n",
    "cor_che_loi = hp.correlations(df_affect['cheerful'], df_loi, loi_label)\n",
    "##########\n",
    "# Intoxicated\n",
    "print('INTOXICATED')\n",
    "print('Level of Interest and intoxicated')\n",
    "cor_tox_loi = hp.correlations(df_affect['intoxicated'], df_loi, loi_label)\n",
    "##########\n",
    "# Nervous\n",
    "print('NERVOUS')\n",
    "print('Level of Interest and nervous')\n",
    "cor_ner_loi = hp.correlations(df_affect['nervous'], df_loi, loi_label)\n",
    "##########\n",
    "# Neutral\n",
    "print('NEUTRAL')\n",
    "print('Level of Interest and neutral')\n",
    "# Now intoxicated and level of Interest\n",
    "cor_aneu = hp.correlations(df_affect['neutral'], df_loi, loi_label)\n",
    "#########\n",
    "# Tired\n",
    "print('TIRED')\n",
    "print('Level of Interest and tired')\n",
    "cor_tir_loi = hp.correlations(df_affect['tired'], df_loi, loi_label)"
   ]
  },
  {
   "cell_type": "markdown",
   "metadata": {},
   "source": [
    "## Now look at character data"
   ]
  },
  {
   "cell_type": "markdown",
   "metadata": {},
   "source": [
    "## Chi-squared Test of Independence\n",
    "We Start with characteristic sex. The null hypothesis states that the two categorical variables sex and e.g. emotion are independent.\n",
    "\n",
    "For that we convert the previously used data frames which contain probabilities of e.g. emotion, affect etc. to frequency tables using the helper method calcFrequencyTable(). For each row (sample) the function selects the maximum probability and counts it as an occured frequency. Furthermore the function takes in an integer so that the matching labels for emotion are generated (voice features). The second integer defines the character feature e.g. Age, so that it can split the data set into a form of n x m, where n stands for the number of character features (in most cases it's 2, but for age it's 3) and m stands for the number of voice features e.g. number of different emotions.  \n",
    "The frequency tables are then used as input for the stats.chi2_contingency() function.\n",
    "\n",
    "If the p-value is significant, residuals are computed to identify the cells, in which the groups differ, i.e. the data sets differ in the emotion 'anger', which contributes to the significant p-value."
   ]
  },
  {
   "cell_type": "code",
   "execution_count": 8,
   "metadata": {},
   "outputs": [
    {
     "name": "stdout",
     "output_type": "stream",
     "text": [
      "Chi square of Emotion : 0.23324423324423343 with p-value of: 0.9997577204712553\n",
      "Chi square of Affect : 0.10732466063348399 with p-value of: 0.999806812314343\n",
      "Chi square of Arousal Valence : 0.11349206349206363 with p-value of: 0.7362029664490812\n",
      "Chi square of Level of Interest : 0.17514374170720895 with p-value of: 0.9161530245847543\n"
     ]
    }
   ],
   "source": [
    "emo_sex_chi2 = hp.chi2(df_emotion_char, 'Sex', 0, True)\n",
    "aff_sec_chi2 = hp.chi2(df_affect_char, 'Sex', 1, True)\n",
    "ar_val_sec_chi2 = hp.chi2(df_ar_val_char, 'Sex', 2, True)\n",
    "loi_sec_chi2 = hp.chi2(df_loi_char, 'Sex', 3, True)"
   ]
  },
  {
   "cell_type": "markdown",
   "metadata": {},
   "source": [
    "Now move on to academic status, the hypothesis being that the variables academic status and e.g. emotion are independent."
   ]
  },
  {
   "cell_type": "code",
   "execution_count": 9,
   "metadata": {},
   "outputs": [
    {
     "name": "stdout",
     "output_type": "stream",
     "text": [
      "Chi square of Emotion : 0.23324423324423338 with p-value of: 0.9997577204712553\n",
      "Chi square of Affect : 0.7232748868778277 with p-value of: 0.9816669156305917\n",
      "Chi square of Arousal Valence : 0.11349206349206363 with p-value of: 0.7362029664490812\n",
      "Chi square of Level of Interest : 0.22291021671826644 with p-value of: 0.8945315474908987\n"
     ]
    }
   ],
   "source": [
    "emo_aca_chi2 = hp.chi2(df_emotion_char, 'Academic Status', 0, True)\n",
    "aff_aca_chi2 = hp.chi2(df_affect_char, 'Academic Status', 1, True)\n",
    "ar_val_aca_chi2 = hp.chi2(df_ar_val_char, 'Academic Status', 2, True)\n",
    "loi_aca_chi2 = hp.chi2(df_loi_char, 'Academic Status', 3, True)"
   ]
  },
  {
   "cell_type": "markdown",
   "metadata": {},
   "source": [
    "Now let's look if age and e.g. emotion/ affect/ arousal-valence/ level of interest are independent"
   ]
  },
  {
   "cell_type": "code",
   "execution_count": 10,
   "metadata": {},
   "outputs": [
    {
     "name": "stdout",
     "output_type": "stream",
     "text": [
      "Chi square of Emotion : 0.22291021671826622 with p-value of: 0.9999999975799772\n",
      "Chi square of Affect : 0.5759803921568627 with p-value of: 0.9999870029958444\n",
      "Chi square of Arousal Valence : 0.22499999999999998 with p-value of: 0.8935973471085157\n",
      "Chi square of Level of Interest : 0.22291021671826625 with p-value of: 0.9942316580471601\n"
     ]
    }
   ],
   "source": [
    "emo_age_chi2 = hp.chi2(df_emotion_char, 'Age', 0, True)\n",
    "aff_age_chi2 = hp.chi2(df_affect_char, 'Age', 1, True)\n",
    "ar_val_age_chi2 = hp.chi2(df_ar_val_char, 'Age', 2, True)\n",
    "loi_age_chi2 = hp.chi2(df_loi_char, 'Age', 3, True)"
   ]
  },
  {
   "cell_type": "markdown",
   "metadata": {},
   "source": [
    "## Post-Hoc tests for age, as it has three different groups"
   ]
  },
  {
   "cell_type": "code",
   "execution_count": 11,
   "metadata": {},
   "outputs": [
    {
     "name": "stdout",
     "output_type": "stream",
     "text": [
      "post-hoc emotions and different groups\n",
      "Combinations: [('Young', 'Middle'), ('Young', 'Old'), ('Middle', 'Old')]\n",
      "Reject List: [False False False]\n",
      "Corrected p-values: [1. 1. 1.]\n",
      "\n",
      " post-hoc affect and different groups\n",
      "Combinations: [('Young', 'Middle'), ('Young', 'Old'), ('Middle', 'Old')]\n",
      "Reject List: [False False False]\n",
      "Corrected p-values: [1. 1. 1.]\n",
      "\n",
      " post-hoc arousal-valence and different groups\n",
      "Combinations: [('Young', 'Middle'), ('Young', 'Old'), ('Middle', 'Old')]\n",
      "Reject List: [False False False]\n",
      "Corrected p-values: [1. 1. 1.]\n",
      "\n",
      " post-hoc level of intereset and different groups\n",
      "Combinations: [('Young', 'Middle'), ('Young', 'Old'), ('Middle', 'Old')]\n",
      "Reject List: [False False False]\n",
      "Corrected p-values: [1. 1. 1.]\n"
     ]
    }
   ],
   "source": [
    "print('post-hoc emotions and different groups')\n",
    "emo_reject_list, emo_corrected_p_vals, emo_combinations, emo_residuals= hp.chi2_post_hoc(emo_age_chi2[1], 'bonferroni', True, True)\n",
    "print('\\n post-hoc affect and different groups')\n",
    "aff_reject_list, emo_corrected_p_vals, emo_combinations, aff_residuals = hp.chi2_post_hoc(aff_age_chi2[1], 'bonferroni', True, True)\n",
    "print('\\n post-hoc arousal-valence and different groups')\n",
    "ar_val_reject_list, ar_val_corrected_p_vals, ar_val_combinations, ar_val_residuals = hp.chi2_post_hoc(ar_val_age_chi2[1], 'bonferroni',True, True)\n",
    "print('\\n post-hoc level of intereset and different groups')\n",
    "loi_reject_list, loi_corrected_p_vals, loi_combinations, loi_residuals = hp.chi2_post_hoc(loi_age_chi2[1], 'bonferroni', True, True)"
   ]
  },
  {
   "cell_type": "code",
   "execution_count": null,
   "metadata": {},
   "outputs": [],
   "source": []
  }
 ],
 "metadata": {
  "kernelspec": {
   "display_name": "Python 3",
   "language": "python",
   "name": "python3"
  },
  "language_info": {
   "codemirror_mode": {
    "name": "ipython",
    "version": 3
   },
   "file_extension": ".py",
   "mimetype": "text/x-python",
   "name": "python",
   "nbconvert_exporter": "python",
   "pygments_lexer": "ipython3",
   "version": "3.7.0"
  }
 },
 "nbformat": 4,
 "nbformat_minor": 2
}
