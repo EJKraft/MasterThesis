{
 "cells": [
  {
   "cell_type": "markdown",
   "metadata": {},
   "source": [
    "# OpenSMILE Correlation\n",
    "This notebook calculates Correlation and Cohen's d for effect size for the given conference data set."
   ]
  },
  {
   "cell_type": "code",
   "execution_count": 1,
   "metadata": {},
   "outputs": [
    {
     "name": "stderr",
     "output_type": "stream",
     "text": [
      "C:\\Users\\user\\Anaconda3\\lib\\site-packages\\statsmodels\\compat\\pandas.py:49: FutureWarning: The Panel class is removed from pandas. Accessing it from the top-level namespace will also be removed in the next version\n",
      "  data_klasses = (pandas.Series, pandas.DataFrame, pandas.Panel)\n"
     ]
    }
   ],
   "source": [
    "import Helper as hp\n",
    "import numpy as np\n",
    "import pandas as pd\n",
    "from os import listdir\n",
    "import matplotlib.pyplot as plt\n",
    "import itertools as it\n",
    "from statsmodels.sandbox.stats.multicomp import multipletests\n",
    "import statsmodels.api as sm\n",
    "#import nltk\n",
    "import scipy.stats as st\n",
    "import statsmodels.formula.api as smf\n",
    "import seaborn as sns\n",
    "import itertools\n",
    "\n",
    "#Read Data\n",
    "data = pd.read_csv(\"CHI_2019_FULL.csv\")\n",
    "\n",
    "#Set Labels \n",
    "emotion_label = ['Anger', 'Boredom', 'Disgust', 'Fear', 'Happiness', 'Emo_Neutral', 'Sadness']\n",
    "affect_label = ['Aggressiv', 'Cheerful', 'Intoxicated', 'Nervous', 'Aff_Neutral', 'Tired']\n",
    "loi_label = ['Disinterest', 'Normal', 'High Interest']\n",
    "\n",
    "#Get specific data and save it into new data frames\n",
    "# We use the pandas .copy(deep=True) function to prevent the SettingWithCopyWarning we would otherwise get. Since we do\n",
    "# not write, but only read from the data, the warning does not affect the data frames\n",
    "df_emotion = data[['Anger', 'Boredom', 'Disgust', 'Fear', 'Happiness', 'Emo_Neutral', 'Sadness', 'Filename']].copy(deep=True)\n",
    "df_affect = data[['Aggressiv', 'Cheerful', 'Intoxicated', 'Nervous', 'Aff_Neutral', 'Tired', 'Filename']].copy(deep=True)\n",
    "df_loi = data[['Disinterest', 'Normal', 'High Interest', 'Filename']].copy(deep=True)\n",
    "df_ar_val = data[['Arousal', 'Valence', 'Filename']].copy(deep=True)\n",
    "#For further usage, we want to append the CharacterID as a column, which is saved with other information in the filename\n",
    "#Since we only want the digits, we can remove all non-digit characters of the filename column and append the column to the df\n",
    "\n",
    "df_emotion['Char_ID'] = df_emotion['Filename'].replace('\\D+','', regex = True).copy(deep=True)\n",
    "df_affect['Char_ID'] = df_affect['Filename'].replace('\\D+','', regex = True).copy(deep=True)\n",
    "df_loi['Char_ID'] = df_loi['Filename'].replace('\\D+','', regex = True).copy(deep=True)\n",
    "df_ar_val['Char_ID'] = df_ar_val['Filename'].replace('\\D+','', regex = True).copy(deep=True)"
   ]
  },
  {
   "cell_type": "markdown",
   "metadata": {},
   "source": [
    "## Correlation of arousal and other features"
   ]
  },
  {
   "cell_type": "code",
   "execution_count": 2,
   "metadata": {},
   "outputs": [
    {
     "name": "stdout",
     "output_type": "stream",
     "text": [
      "Emotions and Arousal\n",
      "Correlation between Arousal and Anger: 0.2533512447856428\n",
      "Cohen d: 1.3529032966662722\n",
      "Correlation between Arousal and Boredom: -0.0036870145187188888\n",
      "Cohen d: 0.6453943005779076\n",
      "Correlation between Arousal and Disgust: 0.4241241156140213\n",
      "Cohen d: -0.46933404614658275\n",
      "Correlation between Arousal and Fear: 0.08566482304405383\n",
      "Cohen d: 1.5443579910607268\n",
      "Correlation between Arousal and Happiness: 0.2152754634891332\n",
      "Cohen d: 1.540046170720318\n",
      "Correlation between Arousal and Emo_Neutral: 0.0014961906063163722\n",
      "Cohen d: 1.4885943903036558\n",
      "Correlation between Arousal and Sadness: -0.40633522948680295\n",
      "Cohen d: -2.4107029250142857\n",
      "Affect and Arousal\n",
      "Correlation between Arousal and Aggressiv: 0.5778022270881836\n",
      "Cohen d: -0.5156606718698415\n",
      "Correlation between Arousal and Cheerful: -0.07116740403866284\n",
      "Cohen d: -2.4748898519830385\n",
      "Correlation between Arousal and Intoxicated: 0.32978125667228647\n",
      "Cohen d: 0.025668939616713144\n",
      "Correlation between Arousal and Nervous: -0.16610438298718652\n",
      "Cohen d: 1.2309595660098254\n",
      "Correlation between Arousal and Aff_Neutral: -0.13512327606918148\n",
      "Cohen d: 0.8641956523086222\n",
      "Correlation between Arousal and Tired: -0.33719928295055357\n",
      "Cohen d: -0.3687029126905716\n",
      "Level of Interest and Arousal\n",
      "Correlation between Arousal and Disinterest: -0.48037157703884814\n",
      "Cohen d: 1.5068673707934193\n",
      "Correlation between Arousal and Normal: -0.45668430811046495\n",
      "Cohen d: -1.589580386808437\n",
      "Correlation between Arousal and High Interest: 0.47110707797646995\n",
      "Cohen d: -1.5644191063104587\n"
     ]
    }
   ],
   "source": [
    "#'Clean' our dataFrames so that we can call the panda .corr function (default is spearman)\n",
    "#Let's start with arousal and look how correlation is between emotions\n",
    "print('Emotions and Arousal')\n",
    "cor_ar_emo = hp.correlations(df_ar_val['Arousal'], df_emotion, emotion_label)\n",
    "# Now arousal and affect\n",
    "print('Affect and Arousal')\n",
    "cor_ar_aff = hp.correlations(df_ar_val['Arousal'], df_affect, affect_label)\n",
    "# Now arousal and level of Interest\n",
    "print('Level of Interest and Arousal')\n",
    "cor_ar_loi = hp.correlations(df_ar_val['Arousal'], df_loi, loi_label)"
   ]
  },
  {
   "cell_type": "markdown",
   "metadata": {},
   "source": [
    "## Correlation of Valence and other features"
   ]
  },
  {
   "cell_type": "code",
   "execution_count": 3,
   "metadata": {},
   "outputs": [
    {
     "name": "stdout",
     "output_type": "stream",
     "text": [
      "Emotions and valence\n",
      "Correlation between Valence and Anger: -0.14419432879424537\n",
      "Cohen d: 0.4849790976021809\n",
      "Correlation between Valence and Boredom: -0.23457441150671476\n",
      "Cohen d: -0.1277721425646688\n",
      "Correlation between Valence and Disgust: -0.07836997059746152\n",
      "Cohen d: -0.925109681128954\n",
      "Correlation between Valence and Fear: -0.250815212612479\n",
      "Cohen d: 0.6781165981452872\n",
      "Correlation between Valence and Happiness: -0.24658843112654744\n",
      "Cohen d: 0.6687036695820676\n",
      "Correlation between Valence and Emo_Neutral: -0.18371031296460075\n",
      "Cohen d: 0.6136013490278798\n",
      "Correlation between Valence and Sadness: 0.21236871426646572\n",
      "Cohen d: -2.848157705534377\n",
      "Affect and valence\n",
      "Correlation between Valence and Aggressiv: -0.07881625755649777\n",
      "Cohen d: -1.4847112963425138\n",
      "Correlation between Valence and Cheerful: -0.023304974645073053\n",
      "Cohen d: -3.5945811088331032\n",
      "Correlation between Valence and Intoxicated: 0.07317887373630512\n",
      "Cohen d: -1.2130804361127419\n",
      "Correlation between Valence and Nervous: 0.08899957339428569\n",
      "Cohen d: 0.24830730827466127\n",
      "Correlation between Valence and Aff_Neutral: 0.07369732671939587\n",
      "Cohen d: -0.2165300740886731\n",
      "Correlation between Valence and Tired: 0.02405183746016446\n",
      "Cohen d: -0.9865159352519038\n",
      "Level of Interest and valence\n",
      "Correlation between Valence and Disinterest: 0.07989727995118487\n",
      "Cohen d: 0.6224456275247078\n",
      "Correlation between Valence and Normal: 0.08576308666222869\n",
      "Cohen d: -1.9983947059266804\n",
      "Correlation between Valence and High Interest: -0.08801217813548627\n",
      "Cohen d: -1.9661209483437305\n"
     ]
    }
   ],
   "source": [
    "print('Emotions and valence')\n",
    "cor_val_emo = hp.correlations(df_ar_val['Valence'], df_emotion, emotion_label)\n",
    "\n",
    "# Now valence and affect\n",
    "print('Affect and valence')\n",
    "cor_val_aff = hp.correlations(df_ar_val['Valence'], df_affect, affect_label)\n",
    "\n",
    "# Now arousal and level of Interest\n",
    "print('Level of Interest and valence')\n",
    "cor_val_loi = hp.correlations(df_ar_val['Valence'], df_loi, loi_label)\n",
    "\n",
    "\n",
    "cor_val = [cor_val_emo[0], cor_val_aff[0], cor_val_loi[0]]\n",
    "cor_ar = [cor_ar_emo[0], cor_ar_aff[0], cor_ar_loi[0]]\n",
    "corval = [item for sublist in cor_val for item in sublist]\n",
    "corar = [item for sublist in cor_ar for item in sublist]\n",
    "\n",
    "coh_val = [cor_val_emo[1], cor_val_aff[1], cor_val_loi[1]]\n",
    "coh_ar = [cor_ar_emo[1], cor_ar_aff[1], cor_ar_loi[1]]\n",
    "cohval = [item for sublist in coh_val for item in sublist]\n",
    "cohar = [item for sublist in coh_ar for item in sublist]\n",
    "\n",
    "cols = [emotion_label, affect_label, loi_label]\n",
    "cols =  [item for sublist in cols for item in sublist]"
   ]
  },
  {
   "cell_type": "code",
   "execution_count": 4,
   "metadata": {},
   "outputs": [
    {
     "data": {
      "image/png": "[encoded data removed]",
      "text/plain": [
       "<Figure size 432x288 with 2 Axes>"
      ]
     },
     "metadata": {
      "needs_background": "light"
     },
     "output_type": "display_data"
    },
    {
     "data": {
      "image/png": "[encoded data removed]",
      "text/plain": [
       "<Figure size 432x288 with 2 Axes>"
      ]
     },
     "metadata": {
      "needs_background": "light"
     },
     "output_type": "display_data"
    }
   ],
   "source": [
    "d_cor = np.array([corar, corval])\n",
    "d_coh = np.absolute(np.array([cohar, cohval]))\n",
    "df_arval_cor = pd.DataFrame(data = d_cor, index = ['Arousal', 'Valence'], columns = cols)\n",
    "df_arval_cohen = pd.DataFrame(data = d_coh, index = ['Arousal', 'Valence'], columns = cols)\n",
    "sns.heatmap(df_arval_cor)\n",
    "#plt.show()\n",
    "plt.savefig(\"img/1_cor_arval.svg\")\n",
    "plt.show()\n",
    "sns.heatmap(df_arval_cohen)\n",
    "#plt.show()\n",
    "plt.savefig(\"img/1_coh_arval.svg\")\n",
    "plt.show()"
   ]
  },
  {
   "cell_type": "markdown",
   "metadata": {},
   "source": [
    "## Correlation of different emotions and other features"
   ]
  },
  {
   "cell_type": "code",
   "execution_count": 5,
   "metadata": {},
   "outputs": [
    {
     "name": "stdout",
     "output_type": "stream",
     "text": [
      "ANGER\n",
      "Affect and anger\n",
      "Correlation between Anger and Aggressiv: 0.5708904917584502\n",
      "Cohen d: -2.127998279307754\n",
      "Correlation between Anger and Cheerful: -0.11992611272518035\n",
      "Cohen d: -4.406585027155091\n",
      "Correlation between Anger and Intoxicated: -0.05158200434790607\n",
      "Cohen d: -2.4254119779242442\n",
      "Correlation between Anger and Nervous: -0.28885245075145494\n",
      "Cohen d: -0.5185726446443258\n",
      "Correlation between Anger and Aff_Neutral: -0.2151352723620212\n",
      "Cohen d: -1.205083505019607\n",
      "Correlation between Anger and Tired: -0.18015673614927033\n",
      "Cohen d: -1.2923700796725435\n",
      "Level of Interest and anger\n",
      "Correlation between Anger and Disinterest: -0.18631739619874624\n",
      "Cohen d: 0.12722263742232137\n",
      "Correlation between Anger and Normal: -0.10487680261261337\n",
      "Cohen d: -2.1884147992572993\n",
      "Correlation between Anger and High Interest: 0.11157406711165013\n",
      "Cohen d: -2.1519325372385447\n",
      "BOREDOM\n",
      "Affect and boredom\n",
      "Correlation between Boredom and Aggressiv: 0.19728554188330352\n",
      "Cohen d: -1.1920017003478987\n",
      "Correlation between Boredom and Cheerful: 0.05518655055709758\n",
      "Cohen d: -3.124893527911316\n",
      "Correlation between Boredom and Intoxicated: -0.012067147622095117\n",
      "Cohen d: -0.8224640712033358\n",
      "Correlation between Boredom and Nervous: -0.33856974049341687\n",
      "Cohen d: 0.3473012571401826\n",
      "Correlation between Boredom and Aff_Neutral: -0.14019889524652857\n",
      "Cohen d: -0.011450141120153395\n",
      "Correlation between Boredom and Tired: -0.1004726352877956\n",
      "Cohen d: -0.8467570395742299\n",
      "Level of Interest and boredom\n",
      "Correlation between Boredom and Disinterest: -0.16171142895503188\n",
      "Cohen d: 0.6314024540775869\n",
      "Correlation between Boredom and Normal: 0.01462802029583483\n",
      "Cohen d: -1.8988224620325191\n",
      "Correlation between Boredom and High Interest: -0.007202061666184285\n",
      "Cohen d: -1.869293951508225\n",
      "DISGUST\n",
      "Affect and disgust\n",
      "Correlation between Disgust and Aggressiv: 0.6153319398631228\n",
      "Cohen d: 0.19020248022323283\n",
      "Correlation between Disgust and Cheerful: 0.06957596259009277\n",
      "Cohen d: -0.9737441845346109\n",
      "Correlation between Disgust and Intoxicated: 0.38887768189940203\n",
      "Cohen d: 0.5152642957709366\n",
      "Correlation between Disgust and Nervous: -0.2585555009304285\n",
      "Cohen d: 1.0499044268015558\n",
      "Correlation between Disgust and Aff_Neutral: 0.043218944151941885\n",
      "Cohen d: 0.893575435084685\n",
      "Correlation between Disgust and Tired: -0.48727342744903424\n",
      "Cohen d: 0.16795010880364566\n",
      "Level of Interest and disgust\n",
      "Correlation between Disgust and Disinterest: -0.35633433039025475\n",
      "Cohen d: 1.1708462501223402\n",
      "Correlation between Disgust and Normal: 0.06354940368645359\n",
      "Cohen d: -0.978678979638631\n",
      "Correlation between Disgust and High Interest: -0.04670783833343646\n",
      "Cohen d: -0.9667261548318873\n",
      "FEAR\n",
      "Affect and fear\n",
      "Correlation between Fear and Aggressiv: 0.25184910417383516\n",
      "Cohen d: -2.399208086340509\n",
      "Correlation between Fear and Cheerful: -0.039918953815971304\n",
      "Cohen d: -4.7536629447561145\n",
      "Correlation between Fear and Intoxicated: -0.016211227861570345\n",
      "Cohen d: -3.3760338313388885\n",
      "Correlation between Fear and Nervous: -0.2470670386901155\n",
      "Cohen d: -1.5712958244716064\n",
      "Correlation between Fear and Aff_Neutral: -0.2538603728427381\n",
      "Cohen d: -2.324279938997495\n",
      "Correlation between Fear and Tired: -0.05740781046827537\n",
      "Cohen d: -1.3888065382378492\n",
      "Level of Interest and fear\n",
      "Correlation between Fear and Disinterest: -0.16525979367405905\n",
      "Cohen d: -0.22369853821992872\n",
      "Correlation between Fear and Normal: -0.17999118978708845\n",
      "Cohen d: -2.2446489982611086\n",
      "Correlation between Fear and High Interest: 0.1846035918300851\n",
      "Cohen d: -2.206694010911907\n",
      "HAPPINESS\n",
      "Affect and happiness\n",
      "Correlation between Happiness and Aggressiv: 0.4790326556448741\n",
      "Cohen d: -2.3992203619826715\n",
      "Correlation between Happiness and Cheerful: -0.009879101546055051\n",
      "Cohen d: -4.76074288896575\n",
      "Correlation between Happiness and Intoxicated: 0.014040406683326932\n",
      "Cohen d: -3.4237826964398255\n",
      "Correlation between Happiness and Nervous: -0.3601092878751366\n",
      "Cohen d: -1.6984571334607288\n",
      "Correlation between Happiness and Aff_Neutral: -0.26652029303537983\n",
      "Cohen d: -2.4123174286743954\n",
      "Correlation between Happiness and Tired: -0.20511603240569834\n",
      "Cohen d: -1.3843564308240655\n",
      "Level of Interest and happiness\n",
      "Correlation between Happiness and Disinterest: -0.2640282907378146\n",
      "Cohen d: -0.19132799516913473\n",
      "Correlation between Happiness and Normal: -0.1413471391236342\n",
      "Cohen d: -2.2419794754350892\n",
      "Correlation between Happiness and High Interest: 0.15094881082167208\n",
      "Cohen d: -2.204026447733142\n",
      "NEUTRAL\n",
      "Affect and neutral\n",
      "Correlation between Emo_Neutral and Aggressiv: 0.16894965976770634\n",
      "Cohen d: -2.32672733146173\n",
      "Correlation between Emo_Neutral and Cheerful: 0.0390171115226373\n",
      "Cohen d: -4.671121420381098\n",
      "Correlation between Emo_Neutral and Intoxicated: 0.015958422164822857\n",
      "Cohen d: -3.112295442503657\n",
      "Correlation between Emo_Neutral and Nervous: -0.27484291046180326\n",
      "Cohen d: -1.104304623729936\n",
      "Correlation between Emo_Neutral and Aff_Neutral: -0.07390412933494918\n",
      "Cohen d: -1.930255565257383\n",
      "Correlation between Emo_Neutral and Tired: -0.09533141327243608\n",
      "Cohen d: -1.358940343188496\n",
      "Level of Interest and neutral\n",
      "Correlation between Emo_Neutral and Disinterest: -0.128460513754808\n",
      "Cohen d: -0.031142268377247335\n",
      "Correlation between Emo_Neutral and Normal: 0.0600187466284221\n",
      "Cohen d: -2.227366866816788\n",
      "Correlation between Emo_Neutral and High Interest: -0.053380694013486364\n",
      "Cohen d: -2.1897840518890743\n",
      "SADNESS\n",
      "Affect and sadness\n",
      "Correlation between Sadness and Aggressiv: -0.7213125590264092\n",
      "Cohen d: 2.1872991763567797\n",
      "Correlation between Sadness and Cheerful: -0.05981103315044957\n",
      "Cohen d: 1.1539435697928762\n",
      "Correlation between Sadness and Intoxicated: -0.3132545289488676\n",
      "Cohen d: 2.544564985999972\n",
      "Correlation between Sadness and Nervous: 0.43394289843034994\n",
      "Cohen d: 3.0111879430487014\n",
      "Correlation between Sadness and Aff_Neutral: 0.08044936777850131\n",
      "Cohen d: 2.875838420979338\n",
      "Correlation between Sadness and Tired: 0.49029099552102273\n",
      "Cohen d: 1.9892112229093826\n",
      "Level of Interest and sadness\n",
      "Correlation between Sadness and Disinterest: 0.41585382585741176\n",
      "Cohen d: 3.111965928805332\n",
      "Correlation between Sadness and Normal: -0.02944010898490192\n",
      "Cohen d: 0.5994160704558876\n",
      "Correlation between Sadness and High Interest: 0.01046837246494419\n",
      "Cohen d: 0.5974558823494007\n"
     ]
    }
   ],
   "source": [
    "# Now emotion and affect\n",
    "print('ANGER')\n",
    "print('Affect and anger')\n",
    "cor_ang_aff = hp.correlations(df_emotion['Anger'], df_affect, affect_label)\n",
    "# Now arousal and level of Interest\n",
    "print('Level of Interest and anger')\n",
    "cor_ang_loi = hp.correlations(df_emotion['Anger'], df_loi, loi_label)\n",
    "##########\n",
    "# Now look at boredom\n",
    "print('BOREDOM')\n",
    "print('Affect and boredom')\n",
    "cor_bor_aff = hp.correlations(df_emotion['Boredom'], df_affect, affect_label)\n",
    "# Now arousal and level of Interest\n",
    "print('Level of Interest and boredom')\n",
    "cor_bor_loi = hp.correlations(df_emotion['Boredom'], df_loi, loi_label)\n",
    "##########\n",
    "# Disgust\n",
    "print('DISGUST')\n",
    "print('Affect and disgust')\n",
    "cor_dis_aff = hp.correlations(df_emotion['Disgust'], df_affect, affect_label)\n",
    "# Now level of Interest\n",
    "print('Level of Interest and disgust')\n",
    "cor_dis_loi = hp.correlations(df_emotion['Disgust'], df_loi, loi_label)\n",
    "######\n",
    "# fear\n",
    "print('FEAR')\n",
    "print('Affect and fear')\n",
    "cor_fea_aff = hp.correlations(df_emotion['Fear'], df_affect, affect_label)\n",
    "# Now arousal and level of Interest\n",
    "print('Level of Interest and fear')\n",
    "cor_fea_loi = hp.correlations(df_emotion['Fear'], df_loi, loi_label)\n",
    "##########\n",
    "# happiness\n",
    "print('HAPPINESS')\n",
    "print('Affect and happiness')\n",
    "cor_hap_aff = hp.correlations(df_emotion['Happiness'], df_affect, affect_label)\n",
    "# Now level of Interest\n",
    "print('Level of Interest and happiness')\n",
    "cor_hap_loi = hp.correlations(df_emotion['Happiness'], df_loi, loi_label)\n",
    "##########\n",
    "# neutral\n",
    "print('NEUTRAL')\n",
    "print('Affect and neutral')\n",
    "cor_eneu_aff = hp.correlations(df_emotion['Emo_Neutral'], df_affect, affect_label)\n",
    "# Now arousal and level of Interest\n",
    "print('Level of Interest and neutral')\n",
    "cor_eneu_loi = hp.correlations(df_emotion['Emo_Neutral'], df_loi, loi_label)\n",
    "##########\n",
    "# Sadness\n",
    "print('SADNESS')\n",
    "print('Affect and sadness')\n",
    "cor_sad_aff = hp.correlations(df_emotion['Sadness'], df_affect, affect_label)\n",
    "# Now level of Interest\n",
    "print('Level of Interest and sadness')\n",
    "cor_sad_loi = hp.correlations(df_emotion['Sadness'], df_loi, loi_label)"
   ]
  },
  {
   "cell_type": "code",
   "execution_count": 6,
   "metadata": {},
   "outputs": [
    {
     "data": {
      "image/png": "[encoded data removed]",
      "text/plain": [
       "<Figure size 432x288 with 2 Axes>"
      ]
     },
     "metadata": {
      "needs_background": "light"
     },
     "output_type": "display_data"
    },
    {
     "data": {
      "image/png": "[encoded data removed]",
      "text/plain": [
       "<Figure size 432x288 with 2 Axes>"
      ]
     },
     "metadata": {
      "needs_background": "light"
     },
     "output_type": "display_data"
    }
   ],
   "source": [
    "ang_cor = [cor_ang_aff[0], cor_ang_loi[0]]\n",
    "bor_cor = [cor_bor_aff[0], cor_bor_loi[0]]\n",
    "dis_cor = [cor_dis_aff[0], cor_dis_loi[0]]\n",
    "fea_cor = [cor_fea_aff[0], cor_fea_loi[0]]\n",
    "hap_cor = [cor_hap_aff[0], cor_hap_loi[0]]\n",
    "ene_cor = [cor_eneu_aff[0],cor_eneu_loi[0]]\n",
    "sad_cor = [cor_sad_aff[0], cor_sad_loi[0]]\n",
    "\n",
    "ang_cor = [item for sublist in ang_cor for item in sublist]\n",
    "bor_cor = [item for sublist in bor_cor for item in sublist]\n",
    "dis_cor = [item for sublist in dis_cor for item in sublist]\n",
    "fea_cor = [item for sublist in fea_cor for item in sublist]\n",
    "hap_cor = [item for sublist in hap_cor for item in sublist]\n",
    "ene_cor = [item for sublist in ene_cor for item in sublist]\n",
    "sad_cor = [item for sublist in sad_cor for item in sublist]\n",
    "\n",
    "ang_coh = [cor_ang_aff[1], cor_ang_loi[1]]\n",
    "bor_coh = [cor_bor_aff[1], cor_bor_loi[1]]\n",
    "dis_coh = [cor_dis_aff[1], cor_dis_loi[1]]\n",
    "fea_coh = [cor_fea_aff[1], cor_fea_loi[1]]\n",
    "hap_coh = [cor_hap_aff[1], cor_hap_loi[1]]\n",
    "ene_coh = [cor_eneu_aff[1],cor_eneu_loi[1]]\n",
    "sad_coh = [cor_sad_aff[1], cor_sad_loi[1]]\n",
    "\n",
    "ang_coh = [item for sublist in ang_coh for item in sublist]\n",
    "bor_coh = [item for sublist in bor_coh for item in sublist]\n",
    "dis_coh = [item for sublist in dis_coh for item in sublist]\n",
    "fea_coh = [item for sublist in fea_coh for item in sublist]\n",
    "hap_coh = [item for sublist in hap_coh for item in sublist]\n",
    "ene_coh = [item for sublist in ene_coh for item in sublist]\n",
    "sad_coh = [item for sublist in sad_coh for item in sublist]\n",
    "\n",
    "d_emo_cor = np.array([ang_cor, bor_cor, dis_cor, fea_cor, hap_cor, ene_cor, sad_cor])\n",
    "d_emo_coh = np.absolute(np.array([ang_coh, bor_coh, dis_coh, fea_coh, hap_coh, ene_coh, sad_coh]))\n",
    "cols = [affect_label, loi_label]\n",
    "cols = [item for sublist in cols for item in sublist]\n",
    "\n",
    "\n",
    "df_emo_cor = pd.DataFrame(data = d_emo_cor, index = emotion_label, columns = cols)\n",
    "sns.heatmap(df_emo_cor)\n",
    "plt.savefig(\"img/1_cor_emo.svg\")\n",
    "plt.show()\n",
    "\n",
    "df_emo_coh = pd.DataFrame(data = d_emo_coh, index = emotion_label, columns = cols)\n",
    "sns.heatmap(df_emo_coh)\n",
    "plt.savefig(\"img/1_coh_emo.svg\")\n",
    "plt.show()"
   ]
  },
  {
   "cell_type": "markdown",
   "metadata": {},
   "source": [
    "## Correlation of affect and other features"
   ]
  },
  {
   "cell_type": "code",
   "execution_count": 7,
   "metadata": {},
   "outputs": [
    {
     "name": "stdout",
     "output_type": "stream",
     "text": [
      "AGGRESSIV\n",
      "Level of Interest and aggressiv\n",
      "Correlation between Aggressiv and Disinterest: -0.5035108004314506\n",
      "Cohen d: 2.3653498901858\n",
      "Correlation between Aggressiv and Normal: -0.07346396727972318\n",
      "Cohen d: -1.3623815388434293\n",
      "Correlation between Aggressiv and High Interest: 0.09476873201140446\n",
      "Cohen d: -1.3400008925035496\n",
      "CHEERFUL\n",
      "Level of Interest and cheerful\n",
      "Correlation between Cheerful and Disinterest: -0.21391560164920745\n",
      "Cohen d: 4.734178001006983\n",
      "Correlation between Cheerful and Normal: 0.17900516646018097\n",
      "Cohen d: -0.35565755978785973\n",
      "Correlation between Cheerful and High Interest: -0.166743920564769\n",
      "Cohen d: -0.34736881889899335\n",
      "INTOXICATED\n",
      "Level of Interest and intoxicated\n",
      "Correlation between Intoxicated and Disinterest: -0.11234655823114223\n",
      "Cohen d: 3.370070197976664\n",
      "Correlation between Intoxicated and Normal: 0.18348408517710574\n",
      "Cohen d: -1.6790729746609272\n",
      "Correlation between Intoxicated and High Interest: -0.175678570174124\n",
      "Cohen d: -1.650234767338266\n",
      "NERVOUS\n",
      "Level of Interest and nervous\n",
      "Correlation between Nervous and Disinterest: 0.2633204279685045\n",
      "Cohen d: 1.5787573107397532\n",
      "Correlation between Nervous and Normal: 0.03259361497576648\n",
      "Cohen d: -2.1301223634395505\n",
      "Correlation between Nervous and High Interest: -0.04382426861852133\n",
      "Cohen d: -2.093856325813035\n",
      "NEUTRAL\n",
      "Level of Interest and neutral\n",
      "Correlation between Aff_Neutral and Disinterest: 0.13069024169434268\n",
      "Cohen d: 2.3309206586688123\n",
      "Correlation between Aff_Neutral and Normal: 0.4686652285960691\n",
      "Cohen d: -1.9990131122614472\n",
      "Correlation between Aff_Neutral and High Interest: -0.4673301680932768\n",
      "Cohen d: -1.9649140032301378\n",
      "TIRED\n",
      "Level of Interest and tired\n",
      "Correlation between Tired and Disinterest: 0.4214491922187518\n",
      "Cohen d: 1.3631929217477863\n",
      "Correlation between Tired and Normal: -0.19661726172312718\n",
      "Cohen d: -1.241671549851467\n",
      "Correlation between Tired and High Interest: 0.17484357052370333\n",
      "Cohen d: -1.224121254489\n"
     ]
    }
   ],
   "source": [
    "##########\n",
    "# Aggressiv\n",
    "print('AGGRESSIV')\n",
    "print('Level of Interest and aggressiv')\n",
    "cor_agg_loi = hp.correlations(df_affect['Aggressiv'], df_loi, loi_label)\n",
    "##########\n",
    "# Cheerful\n",
    "print('CHEERFUL')\n",
    "print('Level of Interest and cheerful')\n",
    "cor_che_loi = hp.correlations(df_affect['Cheerful'], df_loi, loi_label)\n",
    "##########\n",
    "# Intoxicated\n",
    "print('INTOXICATED')\n",
    "print('Level of Interest and intoxicated')\n",
    "cor_tox_loi = hp.correlations(df_affect['Intoxicated'], df_loi, loi_label)\n",
    "##########\n",
    "# Nervous\n",
    "print('NERVOUS')\n",
    "print('Level of Interest and nervous')\n",
    "cor_ner_loi = hp.correlations(df_affect['Nervous'], df_loi, loi_label)\n",
    "##########\n",
    "# Neutral\n",
    "print('NEUTRAL')\n",
    "print('Level of Interest and neutral')\n",
    "# Now intoxicated and level of Interest\n",
    "cor_aneu_loi = hp.correlations(df_affect['Aff_Neutral'], df_loi, loi_label)\n",
    "#########\n",
    "# Tired\n",
    "print('TIRED')\n",
    "print('Level of Interest and tired')\n",
    "cor_tir_loi = hp.correlations(df_affect['Tired'], df_loi, loi_label)"
   ]
  },
  {
   "cell_type": "code",
   "execution_count": 8,
   "metadata": {},
   "outputs": [
    {
     "data": {
      "image/png": "[encoded data removed]",
      "text/plain": [
       "<Figure size 432x288 with 2 Axes>"
      ]
     },
     "metadata": {
      "needs_background": "light"
     },
     "output_type": "display_data"
    },
    {
     "data": {
      "image/png": "[encoded data removed]",
      "text/plain": [
       "<Figure size 432x288 with 2 Axes>"
      ]
     },
     "metadata": {
      "needs_background": "light"
     },
     "output_type": "display_data"
    }
   ],
   "source": [
    "d_aff_cor = np.array([cor_agg_loi[0], cor_che_loi[0], cor_tox_loi[0], cor_ner_loi[0], cor_aneu_loi[0], cor_tir_loi[0]])\n",
    "d_aff_coh = np.absolute(np.array([cor_agg_loi[1], cor_che_loi[1], cor_tox_loi[1], cor_ner_loi[1], cor_aneu_loi[1], cor_tir_loi[1]]))\n",
    "\n",
    "df_aff_cor = pd.DataFrame(data = d_aff_cor, index = affect_label, columns = loi_label)\n",
    "sns.heatmap(df_aff_cor)\n",
    "plt.savefig(\"img/1_cor_aff.svg\")\n",
    "plt.show()\n",
    "\n",
    "df_aff_coh = pd.DataFrame(data = d_aff_coh, index = affect_label, columns = loi_label)\n",
    "sns.heatmap(df_aff_coh)\n",
    "plt.savefig(\"img/1_coh_aff.svg\")\n",
    "plt.show()"
   ]
  },
  {
   "cell_type": "code",
   "execution_count": null,
   "metadata": {},
   "outputs": [],
   "source": []
  }
 ],
 "metadata": {
  "kernelspec": {
   "display_name": "Python 3",
   "language": "python",
   "name": "python3"
  },
  "language_info": {
   "codemirror_mode": {
    "name": "ipython",
    "version": 3
   },
   "file_extension": ".py",
   "mimetype": "text/x-python",
   "name": "python",
   "nbconvert_exporter": "python",
   "pygments_lexer": "ipython3",
   "version": "3.7.0"
  }
 },
 "nbformat": 4,
 "nbformat_minor": 2
}
