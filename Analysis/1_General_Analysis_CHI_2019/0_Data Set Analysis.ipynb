{
 "cells": [
  {
   "cell_type": "code",
   "execution_count": 1,
   "metadata": {},
   "outputs": [
    {
     "name": "stderr",
     "output_type": "stream",
     "text": [
      "C:\\Users\\user\\Anaconda3\\lib\\site-packages\\statsmodels\\compat\\pandas.py:49: FutureWarning: The Panel class is removed from pandas. Accessing it from the top-level namespace will also be removed in the next version\n",
      "  data_klasses = (pandas.Series, pandas.DataFrame, pandas.Panel)\n"
     ]
    }
   ],
   "source": [
    "import numpy as np\n",
    "import pandas as pd\n",
    "from os import listdir\n",
    "import matplotlib.pyplot as plt\n",
    "import itertools as it\n",
    "from statsmodels.sandbox.stats.multicomp import multipletests\n",
    "import statsmodels.api as sm\n",
    "#import nltk\n",
    "import scipy.stats as st\n",
    "import statsmodels.formula.api as smf\n",
    "import seaborn as sns\n",
    "import Helper as hp\n",
    "\n",
    "#Load Data\n",
    "data = pd.read_csv(\"CHI_2019_FULL.csv\")\n",
    "\n",
    "#Set Labels \n",
    "emotion_label = ['Anger', 'Boredom', 'Disgust', 'Fear', 'Happiness', 'Emo_Neutral', 'Sadness']\n",
    "affect_label = ['Aggressiv', 'Cheerful', 'Intoxicated', 'Nervous', 'Aff_Neutral', 'Tired']\n",
    "loi_label = ['Disinterest', 'Normal', 'High Interest']\n",
    "\n",
    "#Get specific data and save it into new data frames\n",
    "# We use the pandas .copy(deep=True) function to prevent the SettingWithCopyWarning we would otherwise get. Since we do\n",
    "# not write, but only read from the data, the warning does not affect the data frames\n",
    "df_emotion = data[['Anger', 'Boredom', 'Disgust', 'Fear', 'Happiness', 'Emo_Neutral', 'Sadness', 'Filename']].copy(deep=True)\n",
    "df_affect = data[['Aggressiv', 'Cheerful', 'Intoxicated', 'Nervous', 'Aff_Neutral', 'Tired', 'Filename']].copy(deep=True)\n",
    "df_loi = data[['Disinterest', 'Normal', 'High Interest', 'Filename']].copy(deep=True)\n",
    "df_ar_val = data[['Arousal', 'Valence', 'Filename']].copy(deep=True)\n",
    "#For further usage, we want to append the CharacterID as a column, which is saved with other information in the filename\n",
    "#Since we only want the digits, we can remove all non-digit characters of the filename column and append the column to the df\n",
    "\n",
    "df_emotion['Char_ID'] = df_emotion['Filename'].replace('\\D+','', regex = True).copy(deep=True)\n",
    "df_affect['Char_ID'] = df_affect['Filename'].replace('\\D+','', regex = True).copy(deep=True)\n",
    "df_loi['Char_ID'] = df_loi['Filename'].replace('\\D+','', regex = True).copy(deep=True)\n",
    "df_ar_val['Char_ID'] = df_ar_val['Filename'].replace('\\D+','', regex = True).copy(deep=True)\n",
    "\n",
    "#Load data about speakers\n",
    "char_data = pd.read_csv(\"CHI_2019_CharacterData.csv\")  \n",
    "\n",
    "#Join above tables and Character Tables\n",
    "\n",
    "#To Join DataFrames we have to cast the column on which we want to join to int, so that both columns have the same data type\n",
    "char_data['ID'] = char_data['ID'].astype(int)\n",
    "df_ar_val['Char_ID'] = df_ar_val['Char_ID'].astype(int)\n",
    "df_emotion['Char_ID'] = df_emotion['Char_ID'].astype(int)\n",
    "df_affect['Char_ID'] = df_affect['Char_ID'].astype(int)\n",
    "df_loi['Char_ID'] = df_loi['Char_ID'].astype(int)\n",
    "\n",
    "#Safe new data frames\n",
    "df_ar_val_char = df_ar_val.merge(char_data, how = 'left', left_on='Char_ID', right_on='ID')\n",
    "df_emotion_char = df_emotion.merge(char_data, how = 'left', left_on='Char_ID', right_on= 'ID')\n",
    "df_affect_char = df_affect.merge(char_data, how = 'left', left_on='Char_ID', right_on= 'ID')\n",
    "df_loi_char = df_loi.merge(char_data, how = 'left', left_on='Char_ID', right_on= 'ID')"
   ]
  },
  {
   "cell_type": "code",
   "execution_count": 2,
   "metadata": {},
   "outputs": [
    {
     "name": "stdout",
     "output_type": "stream",
     "text": [
      "Male/Female overall (in questions and answers):\n",
      "Male      162\n",
      "Female    109\n",
      "Name: Sex, dtype: int64\n",
      "Male/Female in Questions:\n",
      "Male      122\n",
      "Female     68\n",
      "Name: Sex, dtype: int64\n",
      "Male/Female in Answers:\n",
      "Female    41\n",
      "Male      40\n",
      "Name: Sex, dtype: int64\n",
      "Male/Female in Presentations:\n",
      "Female    41\n",
      "Male      40\n",
      "Name: Sex, dtype: int64\n",
      "\n",
      "Grad Student/PhD overall (in questions and answers):\n",
      "Grad Student    41\n",
      "PhD             39\n",
      "Name: Academic Status, dtype: int64\n",
      "Grad Student/PhD in Questions:\n",
      "Series([], Name: Academic Status, dtype: int64)\n",
      "Grad Student/PhD in Answers:\n",
      "Grad Student    41\n",
      "PhD             39\n",
      "Name: Academic Status, dtype: int64\n",
      "Grad Student/PhD in Presentations:\n",
      "Grad Student    41\n",
      "PhD             39\n",
      "Name: Academic Status, dtype: int64\n",
      "\n",
      "Native Speaker overall (in questions and answers):\n",
      "Native Speaker       162\n",
      "Europ. Non-Native     59\n",
      "Asian Non-Native      53\n",
      "Name: IsNativeSpeaker, dtype: int64\n",
      "Native Speaker in Questions:\n",
      "Native Speaker       125\n",
      "Europ. Non-Native     36\n",
      "Asian Non-Native      29\n",
      "Name: IsNativeSpeaker, dtype: int64\n",
      "Native Speaker in Answers:\n",
      "Native Speaker       37\n",
      "Asian Non-Native     22\n",
      "Europ. Non-Native    22\n",
      "Name: IsNativeSpeaker, dtype: int64\n",
      "Native Speaker in Presentations:\n",
      "Native Speaker       37\n",
      "Asian Non-Native     22\n",
      "Europ. Non-Native    22\n",
      "Name: IsNativeSpeaker, dtype: int64\n"
     ]
    }
   ],
   "source": [
    "#Because we need information about the Sentence type, i.e. if the wav file is a question/ answers or a snippet from the talk\n",
    "#This is why we use the merged table containing the Filename which contains information about Sentence Type\n",
    "\n",
    "#Get Information of Sentence Type: It's coded in the last character, e.g. 9_a_q.wav is the first (a) sample of person with ID = 9, and it's \n",
    "#a question (q). If it would be an answer, instead of the q, and a would be inplace. If the sample is taken from the presentation it is indicated with a p\n",
    "sentence_type = df_ar_val_char.Filename.str.replace('\\d+','').str[3:-4]\n",
    "df_ar_val_char['SentenceType'] = sentence_type\n",
    "\n",
    "df_questions = df_ar_val_char.loc[df_ar_val_char['SentenceType'] == 'q']\n",
    "df_questions = df_questions.drop_duplicates(subset = ['Char_ID'], keep = 'first')\n",
    "df_answers = df_ar_val_char.loc[df_ar_val_char['SentenceType'] == 'a']\n",
    "df_answers = df_answers.drop_duplicates(subset = ['Char_ID'], keep = 'first')\n",
    "df_presentation = df_ar_val_char.loc[df_ar_val_char['SentenceType'] == 'p']\n",
    "df_presentation = df_presentation.drop_duplicates(subset = ['Char_ID'], keep = 'first')\n",
    "\n",
    "df_ar_val_char = df_ar_val_char.drop_duplicates(subset = ['Char_ID'], keep = 'first')\n",
    "\n",
    "print('Male/Female overall (in questions and answers):')\n",
    "print(df_ar_val_char['Sex'].value_counts())\n",
    "print('Male/Female in Questions:')\n",
    "print(df_questions['Sex'].value_counts())\n",
    "print('Male/Female in Answers:')\n",
    "print(df_answers['Sex'].value_counts())\n",
    "print('Male/Female in Presentations:')\n",
    "print(df_presentation['Sex'].value_counts())\n",
    "\n",
    "print('\\nGrad Student/PhD overall (in questions and answers):')\n",
    "print(char_data['Academic Status'].value_counts())\n",
    "print('Grad Student/PhD in Questions:')\n",
    "print(df_questions['Academic Status'].value_counts())\n",
    "print('Grad Student/PhD in Answers:')\n",
    "print(df_answers['Academic Status'].value_counts())\n",
    "print('Grad Student/PhD in Presentations:')\n",
    "print(df_presentation['Academic Status'].value_counts())\n",
    "\n",
    "print('\\nNative Speaker overall (in questions and answers):')\n",
    "print(char_data['IsNativeSpeaker'].value_counts())\n",
    "print('Native Speaker in Questions:')\n",
    "print(df_questions['IsNativeSpeaker'].value_counts())\n",
    "print('Native Speaker in Answers:')\n",
    "print(df_answers['IsNativeSpeaker'].value_counts())\n",
    "print('Native Speaker in Presentations:')\n",
    "print(df_presentation['IsNativeSpeaker'].value_counts())"
   ]
  },
  {
   "cell_type": "markdown",
   "metadata": {},
   "source": [
    "# Let's have a look at some basic statistics\n",
    "\n",
    "### Emotion"
   ]
  },
  {
   "cell_type": "code",
   "execution_count": 3,
   "metadata": {},
   "outputs": [
    {
     "data": {
      "text/html": [
       "<div>\n",
       "<style scoped>\n",
       "    .dataframe tbody tr th:only-of-type {\n",
       "        vertical-align: middle;\n",
       "    }\n",
       "\n",
       "    .dataframe tbody tr th {\n",
       "        vertical-align: top;\n",
       "    }\n",
       "\n",
       "    .dataframe thead th {\n",
       "        text-align: right;\n",
       "    }\n",
       "</style>\n",
       "<table border=\"1\" class=\"dataframe\">\n",
       "  <thead>\n",
       "    <tr style=\"text-align: right;\">\n",
       "      <th></th>\n",
       "      <th>Anger</th>\n",
       "      <th>Boredom</th>\n",
       "      <th>Disgust</th>\n",
       "      <th>Fear</th>\n",
       "      <th>Happiness</th>\n",
       "      <th>Emo_Neutral</th>\n",
       "      <th>Sadness</th>\n",
       "    </tr>\n",
       "  </thead>\n",
       "  <tbody>\n",
       "    <tr>\n",
       "      <th>count</th>\n",
       "      <td>633.000000</td>\n",
       "      <td>633.000000</td>\n",
       "      <td>633.000000</td>\n",
       "      <td>633.000000</td>\n",
       "      <td>633.000000</td>\n",
       "      <td>633.000000</td>\n",
       "      <td>633.000000</td>\n",
       "    </tr>\n",
       "    <tr>\n",
       "      <th>mean</th>\n",
       "      <td>0.015766</td>\n",
       "      <td>0.059452</td>\n",
       "      <td>0.220327</td>\n",
       "      <td>0.007884</td>\n",
       "      <td>0.008730</td>\n",
       "      <td>0.010876</td>\n",
       "      <td>0.676965</td>\n",
       "    </tr>\n",
       "    <tr>\n",
       "      <th>std</th>\n",
       "      <td>0.045279</td>\n",
       "      <td>0.106492</td>\n",
       "      <td>0.251845</td>\n",
       "      <td>0.018237</td>\n",
       "      <td>0.015144</td>\n",
       "      <td>0.025045</td>\n",
       "      <td>0.302096</td>\n",
       "    </tr>\n",
       "    <tr>\n",
       "      <th>min</th>\n",
       "      <td>0.000005</td>\n",
       "      <td>0.000001</td>\n",
       "      <td>0.000440</td>\n",
       "      <td>0.000000</td>\n",
       "      <td>0.000005</td>\n",
       "      <td>0.000000</td>\n",
       "      <td>0.004776</td>\n",
       "    </tr>\n",
       "    <tr>\n",
       "      <th>25%</th>\n",
       "      <td>0.000927</td>\n",
       "      <td>0.001608</td>\n",
       "      <td>0.027737</td>\n",
       "      <td>0.000194</td>\n",
       "      <td>0.000593</td>\n",
       "      <td>0.000115</td>\n",
       "      <td>0.426230</td>\n",
       "    </tr>\n",
       "    <tr>\n",
       "      <th>50%</th>\n",
       "      <td>0.003426</td>\n",
       "      <td>0.010028</td>\n",
       "      <td>0.121976</td>\n",
       "      <td>0.001038</td>\n",
       "      <td>0.001856</td>\n",
       "      <td>0.000871</td>\n",
       "      <td>0.793534</td>\n",
       "    </tr>\n",
       "    <tr>\n",
       "      <th>75%</th>\n",
       "      <td>0.015293</td>\n",
       "      <td>0.062377</td>\n",
       "      <td>0.325035</td>\n",
       "      <td>0.007853</td>\n",
       "      <td>0.009676</td>\n",
       "      <td>0.009138</td>\n",
       "      <td>0.955243</td>\n",
       "    </tr>\n",
       "    <tr>\n",
       "      <th>max</th>\n",
       "      <td>0.868391</td>\n",
       "      <td>0.522867</td>\n",
       "      <td>0.981149</td>\n",
       "      <td>0.257043</td>\n",
       "      <td>0.120002</td>\n",
       "      <td>0.252899</td>\n",
       "      <td>0.999262</td>\n",
       "    </tr>\n",
       "  </tbody>\n",
       "</table>\n",
       "</div>"
      ],
      "text/plain": [
       "            Anger     Boredom     Disgust        Fear   Happiness  \\\n",
       "count  633.000000  633.000000  633.000000  633.000000  633.000000   \n",
       "mean     0.015766    0.059452    0.220327    0.007884    0.008730   \n",
       "std      0.045279    0.106492    0.251845    0.018237    0.015144   \n",
       "min      0.000005    0.000001    0.000440    0.000000    0.000005   \n",
       "25%      0.000927    0.001608    0.027737    0.000194    0.000593   \n",
       "50%      0.003426    0.010028    0.121976    0.001038    0.001856   \n",
       "75%      0.015293    0.062377    0.325035    0.007853    0.009676   \n",
       "max      0.868391    0.522867    0.981149    0.257043    0.120002   \n",
       "\n",
       "       Emo_Neutral     Sadness  \n",
       "count   633.000000  633.000000  \n",
       "mean      0.010876    0.676965  \n",
       "std       0.025045    0.302096  \n",
       "min       0.000000    0.004776  \n",
       "25%       0.000115    0.426230  \n",
       "50%       0.000871    0.793534  \n",
       "75%       0.009138    0.955243  \n",
       "max       0.252899    0.999262  "
      ]
     },
     "execution_count": 3,
     "metadata": {},
     "output_type": "execute_result"
    }
   ],
   "source": [
    "df_emotion[emotion_label].describe()"
   ]
  },
  {
   "cell_type": "markdown",
   "metadata": {},
   "source": [
    "### Affect"
   ]
  },
  {
   "cell_type": "code",
   "execution_count": 4,
   "metadata": {},
   "outputs": [
    {
     "data": {
      "text/html": [
       "<div>\n",
       "<style scoped>\n",
       "    .dataframe tbody tr th:only-of-type {\n",
       "        vertical-align: middle;\n",
       "    }\n",
       "\n",
       "    .dataframe tbody tr th {\n",
       "        vertical-align: top;\n",
       "    }\n",
       "\n",
       "    .dataframe thead th {\n",
       "        text-align: right;\n",
       "    }\n",
       "</style>\n",
       "<table border=\"1\" class=\"dataframe\">\n",
       "  <thead>\n",
       "    <tr style=\"text-align: right;\">\n",
       "      <th></th>\n",
       "      <th>Aggressiv</th>\n",
       "      <th>Cheerful</th>\n",
       "      <th>Intoxicated</th>\n",
       "      <th>Nervous</th>\n",
       "      <th>Aff_Neutral</th>\n",
       "      <th>Tired</th>\n",
       "    </tr>\n",
       "  </thead>\n",
       "  <tbody>\n",
       "    <tr>\n",
       "      <th>count</th>\n",
       "      <td>633.000000</td>\n",
       "      <td>633.000000</td>\n",
       "      <td>633.000000</td>\n",
       "      <td>633.000000</td>\n",
       "      <td>633.000000</td>\n",
       "      <td>633.000000</td>\n",
       "    </tr>\n",
       "    <tr>\n",
       "      <th>mean</th>\n",
       "      <td>0.183780</td>\n",
       "      <td>0.412074</td>\n",
       "      <td>0.127020</td>\n",
       "      <td>0.033091</td>\n",
       "      <td>0.060340</td>\n",
       "      <td>0.183696</td>\n",
       "    </tr>\n",
       "    <tr>\n",
       "      <th>std</th>\n",
       "      <td>0.102065</td>\n",
       "      <td>0.118855</td>\n",
       "      <td>0.046454</td>\n",
       "      <td>0.013494</td>\n",
       "      <td>0.026193</td>\n",
       "      <td>0.178096</td>\n",
       "    </tr>\n",
       "    <tr>\n",
       "      <th>min</th>\n",
       "      <td>0.000228</td>\n",
       "      <td>0.000019</td>\n",
       "      <td>0.001914</td>\n",
       "      <td>0.000015</td>\n",
       "      <td>0.000003</td>\n",
       "      <td>0.004185</td>\n",
       "    </tr>\n",
       "    <tr>\n",
       "      <th>25%</th>\n",
       "      <td>0.117469</td>\n",
       "      <td>0.354695</td>\n",
       "      <td>0.099749</td>\n",
       "      <td>0.026479</td>\n",
       "      <td>0.044140</td>\n",
       "      <td>0.073588</td>\n",
       "    </tr>\n",
       "    <tr>\n",
       "      <th>50%</th>\n",
       "      <td>0.172849</td>\n",
       "      <td>0.432035</td>\n",
       "      <td>0.122670</td>\n",
       "      <td>0.030664</td>\n",
       "      <td>0.056877</td>\n",
       "      <td>0.113717</td>\n",
       "    </tr>\n",
       "    <tr>\n",
       "      <th>75%</th>\n",
       "      <td>0.228789</td>\n",
       "      <td>0.494577</td>\n",
       "      <td>0.146665</td>\n",
       "      <td>0.036866</td>\n",
       "      <td>0.073258</td>\n",
       "      <td>0.222289</td>\n",
       "    </tr>\n",
       "    <tr>\n",
       "      <th>max</th>\n",
       "      <td>0.898450</td>\n",
       "      <td>0.643551</td>\n",
       "      <td>0.482587</td>\n",
       "      <td>0.170738</td>\n",
       "      <td>0.178175</td>\n",
       "      <td>0.997821</td>\n",
       "    </tr>\n",
       "  </tbody>\n",
       "</table>\n",
       "</div>"
      ],
      "text/plain": [
       "        Aggressiv    Cheerful  Intoxicated     Nervous  Aff_Neutral  \\\n",
       "count  633.000000  633.000000   633.000000  633.000000   633.000000   \n",
       "mean     0.183780    0.412074     0.127020    0.033091     0.060340   \n",
       "std      0.102065    0.118855     0.046454    0.013494     0.026193   \n",
       "min      0.000228    0.000019     0.001914    0.000015     0.000003   \n",
       "25%      0.117469    0.354695     0.099749    0.026479     0.044140   \n",
       "50%      0.172849    0.432035     0.122670    0.030664     0.056877   \n",
       "75%      0.228789    0.494577     0.146665    0.036866     0.073258   \n",
       "max      0.898450    0.643551     0.482587    0.170738     0.178175   \n",
       "\n",
       "            Tired  \n",
       "count  633.000000  \n",
       "mean     0.183696  \n",
       "std      0.178096  \n",
       "min      0.004185  \n",
       "25%      0.073588  \n",
       "50%      0.113717  \n",
       "75%      0.222289  \n",
       "max      0.997821  "
      ]
     },
     "execution_count": 4,
     "metadata": {},
     "output_type": "execute_result"
    }
   ],
   "source": [
    "df_affect[affect_label].describe()"
   ]
  },
  {
   "cell_type": "markdown",
   "metadata": {},
   "source": [
    "### Level of Interest"
   ]
  },
  {
   "cell_type": "code",
   "execution_count": 5,
   "metadata": {},
   "outputs": [
    {
     "data": {
      "text/html": [
       "<div>\n",
       "<style scoped>\n",
       "    .dataframe tbody tr th:only-of-type {\n",
       "        vertical-align: middle;\n",
       "    }\n",
       "\n",
       "    .dataframe tbody tr th {\n",
       "        vertical-align: top;\n",
       "    }\n",
       "\n",
       "    .dataframe thead th {\n",
       "        text-align: right;\n",
       "    }\n",
       "</style>\n",
       "<table border=\"1\" class=\"dataframe\">\n",
       "  <thead>\n",
       "    <tr style=\"text-align: right;\">\n",
       "      <th></th>\n",
       "      <th>Disinterest</th>\n",
       "      <th>Normal</th>\n",
       "      <th>High Interest</th>\n",
       "    </tr>\n",
       "  </thead>\n",
       "  <tbody>\n",
       "    <tr>\n",
       "      <th>count</th>\n",
       "      <td>633.000000</td>\n",
       "      <td>633.000000</td>\n",
       "      <td>633.000000</td>\n",
       "    </tr>\n",
       "    <tr>\n",
       "      <th>mean</th>\n",
       "      <td>0.011506</td>\n",
       "      <td>0.494665</td>\n",
       "      <td>0.493828</td>\n",
       "    </tr>\n",
       "    <tr>\n",
       "      <th>std</th>\n",
       "      <td>0.013847</td>\n",
       "      <td>0.306148</td>\n",
       "      <td>0.310895</td>\n",
       "    </tr>\n",
       "    <tr>\n",
       "      <th>min</th>\n",
       "      <td>0.000001</td>\n",
       "      <td>0.000002</td>\n",
       "      <td>0.006140</td>\n",
       "    </tr>\n",
       "    <tr>\n",
       "      <th>25%</th>\n",
       "      <td>0.003495</td>\n",
       "      <td>0.213127</td>\n",
       "      <td>0.196794</td>\n",
       "    </tr>\n",
       "    <tr>\n",
       "      <th>50%</th>\n",
       "      <td>0.007704</td>\n",
       "      <td>0.504927</td>\n",
       "      <td>0.486329</td>\n",
       "    </tr>\n",
       "    <tr>\n",
       "      <th>75%</th>\n",
       "      <td>0.014066</td>\n",
       "      <td>0.780209</td>\n",
       "      <td>0.778590</td>\n",
       "    </tr>\n",
       "    <tr>\n",
       "      <th>max</th>\n",
       "      <td>0.147931</td>\n",
       "      <td>0.986748</td>\n",
       "      <td>0.999997</td>\n",
       "    </tr>\n",
       "  </tbody>\n",
       "</table>\n",
       "</div>"
      ],
      "text/plain": [
       "       Disinterest      Normal  High Interest\n",
       "count   633.000000  633.000000     633.000000\n",
       "mean      0.011506    0.494665       0.493828\n",
       "std       0.013847    0.306148       0.310895\n",
       "min       0.000001    0.000002       0.006140\n",
       "25%       0.003495    0.213127       0.196794\n",
       "50%       0.007704    0.504927       0.486329\n",
       "75%       0.014066    0.780209       0.778590\n",
       "max       0.147931    0.986748       0.999997"
      ]
     },
     "execution_count": 5,
     "metadata": {},
     "output_type": "execute_result"
    }
   ],
   "source": [
    "df_loi[loi_label].describe()"
   ]
  },
  {
   "cell_type": "markdown",
   "metadata": {},
   "source": [
    "### Arousal-Valence"
   ]
  },
  {
   "cell_type": "code",
   "execution_count": 6,
   "metadata": {},
   "outputs": [
    {
     "data": {
      "text/html": [
       "<div>\n",
       "<style scoped>\n",
       "    .dataframe tbody tr th:only-of-type {\n",
       "        vertical-align: middle;\n",
       "    }\n",
       "\n",
       "    .dataframe tbody tr th {\n",
       "        vertical-align: top;\n",
       "    }\n",
       "\n",
       "    .dataframe thead th {\n",
       "        text-align: right;\n",
       "    }\n",
       "</style>\n",
       "<table border=\"1\" class=\"dataframe\">\n",
       "  <thead>\n",
       "    <tr style=\"text-align: right;\">\n",
       "      <th></th>\n",
       "      <th>Arousal</th>\n",
       "      <th>Valence</th>\n",
       "    </tr>\n",
       "  </thead>\n",
       "  <tbody>\n",
       "    <tr>\n",
       "      <th>count</th>\n",
       "      <td>633.000000</td>\n",
       "      <td>633.000000</td>\n",
       "    </tr>\n",
       "    <tr>\n",
       "      <th>mean</th>\n",
       "      <td>0.129180</td>\n",
       "      <td>0.047398</td>\n",
       "    </tr>\n",
       "    <tr>\n",
       "      <th>std</th>\n",
       "      <td>0.109567</td>\n",
       "      <td>0.080363</td>\n",
       "    </tr>\n",
       "    <tr>\n",
       "      <th>min</th>\n",
       "      <td>-0.246181</td>\n",
       "      <td>-0.264416</td>\n",
       "    </tr>\n",
       "    <tr>\n",
       "      <th>25%</th>\n",
       "      <td>0.053372</td>\n",
       "      <td>-0.005595</td>\n",
       "    </tr>\n",
       "    <tr>\n",
       "      <th>50%</th>\n",
       "      <td>0.126264</td>\n",
       "      <td>0.043928</td>\n",
       "    </tr>\n",
       "    <tr>\n",
       "      <th>75%</th>\n",
       "      <td>0.204406</td>\n",
       "      <td>0.100941</td>\n",
       "    </tr>\n",
       "    <tr>\n",
       "      <th>max</th>\n",
       "      <td>0.827725</td>\n",
       "      <td>0.296576</td>\n",
       "    </tr>\n",
       "  </tbody>\n",
       "</table>\n",
       "</div>"
      ],
      "text/plain": [
       "          Arousal     Valence\n",
       "count  633.000000  633.000000\n",
       "mean     0.129180    0.047398\n",
       "std      0.109567    0.080363\n",
       "min     -0.246181   -0.264416\n",
       "25%      0.053372   -0.005595\n",
       "50%      0.126264    0.043928\n",
       "75%      0.204406    0.100941\n",
       "max      0.827725    0.296576"
      ]
     },
     "execution_count": 6,
     "metadata": {},
     "output_type": "execute_result"
    }
   ],
   "source": [
    "df_ar_val[['Arousal','Valence']].describe()"
   ]
  },
  {
   "cell_type": "markdown",
   "metadata": {},
   "source": [
    "# Let's have a look at our individuals..\n",
    "\n",
    "... We select the min and maximum value of each feature and then locate the id of the person to which the min/ max value corresponds. With the usage of the ID, we then take a look at all values of this person (concerning the attribute where she/ he had their min/max value), so that we can evaluate, if one recording of a person is similar to an other one.\n",
    "\n",
    "First we start with all emotions, so anger, boredom, disgust, fear, happy, neutral and sad. Note, that we take all values into account, so there also may be only one value, as we look for the max value of all answers, presentations and questions."
   ]
  },
  {
   "cell_type": "code",
   "execution_count": 7,
   "metadata": {},
   "outputs": [],
   "source": [
    "# Let's start with emotions, let's start with anger\n",
    "anger = df_emotion_char['Anger'].idxmax()\n",
    "anger_c_ID = df_emotion_char['ID'][anger]\n",
    "anger_c_df = df_emotion_char.loc[df_emotion_char['ID'] == anger_c_ID]\n",
    "anger_c_df = anger_c_df['Anger']\n",
    "\n",
    "#Now do Boredom\n",
    "boredom = df_emotion_char['Boredom'].idxmax()\n",
    "bore_c_ID = df_emotion_char['ID'][boredom]\n",
    "bore_c_df = df_emotion_char.loc[df_emotion_char['ID'] == bore_c_ID]\n",
    "bore_c_df = bore_c_df['Boredom']\n",
    "\n",
    "#Now do Disgust\n",
    "disgust = df_emotion_char['Disgust'].idxmax()\n",
    "disg_c_ID = df_emotion_char['ID'][disgust]\n",
    "disg_c_df = df_emotion_char.loc[df_emotion_char['ID'] == disg_c_ID]\n",
    "disg_c_df = disg_c_df['Disgust']\n",
    "\n",
    "#Now to Fear\n",
    "fear = df_emotion_char['Fear'].idxmax()\n",
    "fear_c_ID = df_emotion_char['ID'][fear]\n",
    "fear_c_df = df_emotion_char.loc[df_emotion_char['ID'] == fear_c_ID]\n",
    "fear_c_df = fear_c_df['Fear']\n",
    "\n",
    "#Now to Happiness\n",
    "happy = df_emotion_char['Happiness'].idxmax()\n",
    "happy_c_ID = df_emotion_char['ID'][happy]\n",
    "happy_c_df = df_emotion_char.loc[df_emotion_char['ID'] == happy_c_ID]\n",
    "happy_c_df = happy_c_df['Happiness']\n",
    "\n",
    "#Now to Emo_Neutral\n",
    "emo_n = df_emotion_char['Emo_Neutral'].idxmax()\n",
    "emo_n_c_ID = df_emotion_char['ID'][emo_n]\n",
    "emo_n_c_df = df_emotion_char.loc[df_emotion_char['ID'] == emo_n_c_ID]\n",
    "emo_n_c_df = emo_n_c_df['Emo_Neutral']\n",
    "\n",
    "#Now to Sadness\n",
    "sad = df_emotion_char['Sadness'].idxmax()\n",
    "sad_c_ID = df_emotion_char['ID'][sad]\n",
    "sad_c_df = df_emotion_char.loc[df_emotion_char['ID'] == sad_c_ID]\n",
    "sad_c_df = sad_c_df['Sadness']"
   ]
  },
  {
   "cell_type": "code",
   "execution_count": 8,
   "metadata": {},
   "outputs": [
    {
     "data": {
      "image/png": "[encoded data removed]",
      "text/plain": [
       "<Figure size 432x288 with 1 Axes>"
      ]
     },
     "metadata": {
      "needs_background": "light"
     },
     "output_type": "display_data"
    },
    {
     "data": {
      "image/png": "[encoded data removed]",
      "text/plain": [
       "<Figure size 432x288 with 1 Axes>"
      ]
     },
     "metadata": {
      "needs_background": "light"
     },
     "output_type": "display_data"
    },
    {
     "data": {
      "image/png": "[encoded data removed]",
      "text/plain": [
       "<Figure size 432x288 with 1 Axes>"
      ]
     },
     "metadata": {
      "needs_background": "light"
     },
     "output_type": "display_data"
    },
    {
     "data": {
      "image/png": "[encoded data removed]",
      "text/plain": [
       "<Figure size 432x288 with 1 Axes>"
      ]
     },
     "metadata": {
      "needs_background": "light"
     },
     "output_type": "display_data"
    },
    {
     "data": {
      "image/png": "[encoded data removed]",
      "text/plain": [
       "<Figure size 432x288 with 1 Axes>"
      ]
     },
     "metadata": {
      "needs_background": "light"
     },
     "output_type": "display_data"
    },
    {
     "data": {
      "image/png": "[encoded data removed]",
      "text/plain": [
       "<Figure size 432x288 with 1 Axes>"
      ]
     },
     "metadata": {
      "needs_background": "light"
     },
     "output_type": "display_data"
    },
    {
     "data": {
      "image/png": "[encoded data removed]",
      "text/plain": [
       "<Figure size 432x288 with 1 Axes>"
      ]
     },
     "metadata": {
      "needs_background": "light"
     },
     "output_type": "display_data"
    }
   ],
   "source": [
    "ax_anger = anger_c_df.plot.bar(title = 'Maximum Anger Value')\n",
    "ax_anger.set_ylabel('Probability of Anger')\n",
    "ax_anger.set_xlabel('Different Samples of Same Person')\n",
    "plt.grid(True)\n",
    "plt.show()\n",
    "\n",
    "ax_bore = bore_c_df.plot.bar(title = 'Maximum Boredom Value')\n",
    "ax_bore.set_ylabel('Probability of Boredom')\n",
    "ax_bore.set_xlabel('Different Samples of Same Person')\n",
    "plt.grid(True)\n",
    "plt.show()\n",
    "\n",
    "ax_disg = disg_c_df.plot.bar(title = 'Maximum Disgust Value')\n",
    "ax_disg.set_ylabel('Probability of Disgust')\n",
    "ax_disg.set_xlabel('Different Samples of Same Person')\n",
    "plt.grid(True)\n",
    "plt.show()\n",
    "\n",
    "ax_fear = fear_c_df.plot.bar(title = 'Maximum Fear Value')\n",
    "ax_fear.set_ylabel('Probability of Fear')\n",
    "ax_fear.set_xlabel('Different Samples of Same Person')\n",
    "plt.grid(True)\n",
    "plt.show()\n",
    "\n",
    "ax_happy = happy_c_df.plot.bar(title = 'Maximum Happiness Value')\n",
    "ax_happy.set_ylabel('Probability of Happiness')\n",
    "ax_happy.set_xlabel('Different Samples of Same Person')\n",
    "plt.grid(True)\n",
    "plt.show()\n",
    "\n",
    "ax_emo_neu = emo_n_c_df.plot.bar(title = 'Maximum Neutral Value')\n",
    "ax_emo_neu.set_ylabel('Probability of Neutral')\n",
    "ax_emo_neu.set_xlabel('Different Samples of Same Person')\n",
    "plt.grid(True)\n",
    "plt.show()\n",
    "\n",
    "\n",
    "ax_sad = sad_c_df.plot.bar(title = 'Maximum Sadness Value')\n",
    "ax_sad.set_ylabel('Probability of Sadness')\n",
    "ax_sad.set_xlabel('Different Samples of Same Person')\n",
    "plt.grid(True)\n",
    "plt.show()"
   ]
  },
  {
   "cell_type": "markdown",
   "metadata": {},
   "source": [
    "In the above plots we can see, that although persons having a max emotion value it does not mean that all other samples also have similar high values. This can be seen in the anger, boredom and happiness plot.\n",
    "\n",
    "Furthermore, we can see that the maximum values of disgust and sadness are very high (near 1) in contrast to e.g. happiness, where the max value is only around 0.12.\n",
    "\n",
    "All in all this means that the values vary between emotion samples. \n",
    "\n",
    "Now let's take a look at attributes of affect."
   ]
  },
  {
   "cell_type": "code",
   "execution_count": 9,
   "metadata": {},
   "outputs": [],
   "source": [
    "# Let's start with Aggressiv\n",
    "agg = df_affect_char['Aggressiv'].idxmax()\n",
    "agg_c_ID = df_affect_char['ID'][agg]\n",
    "agg_c_df = df_affect_char.loc[df_affect_char['ID'] == agg_c_ID]\n",
    "agg_c_df = agg_c_df['Aggressiv']\n",
    "\n",
    "#Now do Cheerful\n",
    "cheer = df_affect_char['Cheerful'].idxmax()\n",
    "cheer_c_ID = df_affect_char['ID'][cheer]\n",
    "cheer_c_df = df_affect_char.loc[df_affect_char['ID'] == cheer_c_ID]\n",
    "cheer_c_df = cheer_c_df['Cheerful']\n",
    "\n",
    "#Now do Intoxicated\n",
    "intoxi = df_affect_char['Intoxicated'].idxmax()\n",
    "intoxi_c_ID = df_affect_char['ID'][intoxi]\n",
    "intoxi_c_df = df_affect_char.loc[df_affect_char['ID'] == intoxi_c_ID]\n",
    "intoxi_c_df = intoxi_c_df['Intoxicated']\n",
    "\n",
    "#Now to Nervous\n",
    "nerv = df_affect_char['Nervous'].idxmax()\n",
    "nerv_c_ID = df_affect_char['ID'][nerv]\n",
    "nerv_c_df = df_affect_char.loc[df_affect_char['ID'] == nerv_c_ID]\n",
    "nerv_c_df = nerv_c_df['Nervous']\n",
    "\n",
    "#Now to Aff_Neutral\n",
    "aff_n = df_affect_char['Aff_Neutral'].idxmax()\n",
    "aff_n_c_ID = df_affect_char['ID'][aff_n]\n",
    "aff_n_c_df = df_affect_char.loc[df_affect_char['ID'] == aff_n_c_ID]\n",
    "aff_n_c_df = aff_n_c_df['Aff_Neutral']\n",
    "\n",
    "#Now to Tired\n",
    "tired = df_affect_char['Tired'].idxmax()\n",
    "tired_c_ID = df_affect_char['ID'][tired]\n",
    "tired_c_df = df_affect_char.loc[df_affect_char['ID'] == tired_c_ID]\n",
    "tired_c_df = tired_c_df['Tired']"
   ]
  },
  {
   "cell_type": "code",
   "execution_count": 10,
   "metadata": {},
   "outputs": [
    {
     "data": {
      "image/png": "[encoded data removed]",
      "text/plain": [
       "<Figure size 432x288 with 1 Axes>"
      ]
     },
     "metadata": {
      "needs_background": "light"
     },
     "output_type": "display_data"
    },
    {
     "data": {
      "image/png": "[encoded data removed]",
      "text/plain": [
       "<Figure size 432x288 with 1 Axes>"
      ]
     },
     "metadata": {
      "needs_background": "light"
     },
     "output_type": "display_data"
    },
    {
     "data": {
      "image/png": "[encoded data removed]",
      "text/plain": [
       "<Figure size 432x288 with 1 Axes>"
      ]
     },
     "metadata": {
      "needs_background": "light"
     },
     "output_type": "display_data"
    },
    {
     "data": {
      "image/png": "[encoded data removed]",
      "text/plain": [
       "<Figure size 432x288 with 1 Axes>"
      ]
     },
     "metadata": {
      "needs_background": "light"
     },
     "output_type": "display_data"
    },
    {
     "data": {
      "image/png": "[encoded data removed]",
      "text/plain": [
       "<Figure size 432x288 with 1 Axes>"
      ]
     },
     "metadata": {
      "needs_background": "light"
     },
     "output_type": "display_data"
    },
    {
     "data": {
      "image/png": "[encoded data removed]",
      "text/plain": [
       "<Figure size 432x288 with 1 Axes>"
      ]
     },
     "metadata": {
      "needs_background": "light"
     },
     "output_type": "display_data"
    }
   ],
   "source": [
    "ax_agg = agg_c_df.plot.bar(title = 'Maximum Aggressive Value')\n",
    "ax_agg.set_ylabel('Probability of Anger')\n",
    "ax_agg.set_xlabel('Different Samples of Same Person')\n",
    "plt.grid(True)\n",
    "plt.show()\n",
    "\n",
    "ax_cheer = cheer_c_df.plot.bar(title = 'Maximum Cheerful Value')\n",
    "ax_cheer.set_ylabel('Probability of Boredom')\n",
    "ax_cheer.set_xlabel('Different Samples of Same Person')\n",
    "plt.grid(True)\n",
    "plt.show()\n",
    "\n",
    "ax_intoxi = intoxi_c_df.plot.bar(title = 'Maximum Intoxicated Value')\n",
    "ax_intoxi.set_ylabel('Probability of Disgust')\n",
    "ax_intoxi.set_xlabel('Different Samples of Same Person')\n",
    "plt.grid(True)\n",
    "plt.show()\n",
    "\n",
    "ax_nerv = nerv_c_df.plot.bar(title = 'Maximum Nervous Value')\n",
    "ax_nerv.set_ylabel('Probability of Fear')\n",
    "ax_nerv.set_xlabel('Different Samples of Same Person')\n",
    "plt.grid(True)\n",
    "plt.show()\n",
    "\n",
    "ax_aff_neu = aff_n_c_df.plot.bar(title = 'Maximum Neutral Value')\n",
    "ax_aff_neu.set_ylabel('Probability of Neutral')\n",
    "ax_aff_neu.set_xlabel('Different Samples of Same Person')\n",
    "plt.grid(True)\n",
    "plt.show()\n",
    "\n",
    "ax_tired = tired_c_df.plot.bar(title = 'Maximum Tired Value')\n",
    "ax_tired.set_ylabel('Probability of Sadness')\n",
    "ax_tired.set_xlabel('Different Samples of Same Person')\n",
    "plt.grid(True)\n",
    "plt.show()"
   ]
  },
  {
   "cell_type": "markdown",
   "metadata": {},
   "source": [
    "In the first plot we can see that aggressiveness varies for the same person and is also sampling dependent. The most variance (again, this is the variance for only one person who had the max value of a specific affect attribute) we can see in anger. The plot for intoxication shows this too.\n",
    "\n",
    "Although the last three plots only show one value, since the max value has been found in questions for these three attributes, the neutral and nervous values seems interesting. The maximum value of all 635 samples is only at ~0.175 (neutral) and ~0.17 (nervous), which implies that the other attributes values will be higher than for nervous or neutral. For nervous, this is nice for the conference, which shows that there was an atmosphere so that no presenter or question asker was nervous.\n",
    "\n",
    "Now let's have a look at Level of Interest."
   ]
  },
  {
   "cell_type": "code",
   "execution_count": 11,
   "metadata": {},
   "outputs": [],
   "source": [
    "#Now to Disinterest\n",
    "disinterest = df_loi_char['Disinterest'].idxmax()\n",
    "disinterest_c_ID = df_loi_char['ID'][disinterest]\n",
    "disinterest_c_df = df_loi_char.loc[df_loi_char['ID'] == disinterest_c_ID]\n",
    "disinterest_c_df = disinterest_c_df['Disinterest']\n",
    "\n",
    "#Now to Normal Interest\n",
    "normal = df_loi_char['Normal'].idxmax()\n",
    "normal_c_ID = df_loi_char['ID'][normal]\n",
    "normal_c_df = df_loi_char.loc[df_loi_char['ID'] == normal_c_ID]\n",
    "normal_c_df = normal_c_df['Normal']\n",
    "\n",
    "#Now to High Interest\n",
    "interest = df_loi_char['High Interest'].idxmax()\n",
    "interest_c_ID = df_loi_char['ID'][interest]\n",
    "interest_c_df = df_loi_char.loc[df_loi_char['ID'] == interest_c_ID]\n",
    "interest_c_df = interest_c_df['High Interest']\n",
    "\n"
   ]
  },
  {
   "cell_type": "code",
   "execution_count": 12,
   "metadata": {},
   "outputs": [
    {
     "data": {
      "image/png": "[encoded data removed]",
      "text/plain": [
       "<Figure size 432x288 with 1 Axes>"
      ]
     },
     "metadata": {
      "needs_background": "light"
     },
     "output_type": "display_data"
    },
    {
     "data": {
      "image/png": "[encoded data removed]",
      "text/plain": [
       "<Figure size 432x288 with 1 Axes>"
      ]
     },
     "metadata": {
      "needs_background": "light"
     },
     "output_type": "display_data"
    },
    {
     "data": {
      "image/png": "[encoded data removed]",
      "text/plain": [
       "<Figure size 432x288 with 1 Axes>"
      ]
     },
     "metadata": {
      "needs_background": "light"
     },
     "output_type": "display_data"
    }
   ],
   "source": [
    "ax_disinterest = disinterest_c_df.plot.bar(title = 'Maximum Disinterest Value')\n",
    "ax_disinterest.set_ylabel('Probability of Disinterest')\n",
    "ax_disinterest.set_xlabel('Different Samples of Same Person')\n",
    "plt.grid(True)\n",
    "plt.show()\n",
    "\n",
    "ax_normal = normal_c_df.plot.bar(title = 'Maximum Normal Interest Value')\n",
    "ax_normal.set_ylabel('Probability of Normal Interest')\n",
    "ax_normal.set_xlabel('Different Samples of Same Person')\n",
    "plt.grid(True)\n",
    "plt.show()\n",
    "\n",
    "ax_interest = interest_c_df.plot.bar(title = 'Maximum High Interest Value')\n",
    "ax_interest.set_ylabel('Probability of High Interest')\n",
    "ax_interest.set_xlabel('Different Samples of Same Person')\n",
    "plt.grid(True)\n",
    "plt.show()"
   ]
  },
  {
   "cell_type": "markdown",
   "metadata": {},
   "source": [
    "The maximum disinterest value is around ~0.15, which hints that for all samples, disinterest will be the smalles value of Level of Interest, since the sum of all values (disinterest, normal and high interest) is 1. This indicates that question askers and presenters have normal to high interest.\n",
    "\n",
    "Now let's move on to arousal and valence."
   ]
  },
  {
   "cell_type": "code",
   "execution_count": 13,
   "metadata": {},
   "outputs": [
    {
     "data": {
      "image/png": "[encoded data removed]",
      "text/plain": [
       "<Figure size 432x288 with 1 Axes>"
      ]
     },
     "metadata": {
      "needs_background": "light"
     },
     "output_type": "display_data"
    },
    {
     "data": {
      "image/png": "[encoded data removed]",
      "text/plain": [
       "<Figure size 432x288 with 1 Axes>"
      ]
     },
     "metadata": {
      "needs_background": "light"
     },
     "output_type": "display_data"
    }
   ],
   "source": [
    "valence = df_ar_val_char['Valence'].idxmax()\n",
    "valence_c_ID = df_ar_val_char['ID'][valence]\n",
    "valence_c_df = df_ar_val_char.loc[df_ar_val_char['ID'] == valence_c_ID]\n",
    "valence_c_df = valence_c_df['Valence']\n",
    "\n",
    "arousal = df_ar_val_char['Arousal'].idxmax()\n",
    "arousal_c_ID = df_ar_val_char['ID'][arousal]\n",
    "arousal_c_df = df_ar_val_char.loc[df_ar_val_char['ID'] == arousal_c_ID]\n",
    "arousal_c_df = arousal_c_df['Arousal']\n",
    "\n",
    "ax_valence = valence_c_df.plot.bar(title = 'Maximum Valence Value')\n",
    "ax_valence.set_ylabel('Valence')\n",
    "ax_valence.set_xlabel('Different Samples of Same Person')\n",
    "plt.grid(True)\n",
    "plt.show()\n",
    "\n",
    "ax_arousal = arousal_c_df.plot.bar(title = 'Maximum Arousal Value')\n",
    "ax_arousal.set_ylabel('Arousal')\n",
    "ax_arousal.set_xlabel('Different Samples of Same Person')\n",
    "plt.grid(True)\n",
    "plt.show()"
   ]
  },
  {
   "cell_type": "markdown",
   "metadata": {},
   "source": [
    "The while the highest arousal value is at about 0.82, the maximum valence value is only at about 0.3.\n",
    "\n",
    "One issue with this analysis, is that we know now that some attributes vary, but since many max values were given by question askers, who often only have one sample as they ask only one question, we don't know for sure if all attributes vary for the person with the maximum value of an attribute.\n",
    "\n",
    "So to further investigate only samples, where there are more than one sample, we'll go ahead to the [Distinct Data Set Analysis](1_DistinctDataSetAnalysis.ipynb) notebook!"
   ]
  },
  {
   "cell_type": "code",
   "execution_count": null,
   "metadata": {},
   "outputs": [],
   "source": []
  }
 ],
 "metadata": {
  "kernelspec": {
   "display_name": "Python 3",
   "language": "python",
   "name": "python3"
  },
  "language_info": {
   "codemirror_mode": {
    "name": "ipython",
    "version": 3
   },
   "file_extension": ".py",
   "mimetype": "text/x-python",
   "name": "python",
   "nbconvert_exporter": "python",
   "pygments_lexer": "ipython3",
   "version": "3.7.0"
  }
 },
 "nbformat": 4,
 "nbformat_minor": 2
}
