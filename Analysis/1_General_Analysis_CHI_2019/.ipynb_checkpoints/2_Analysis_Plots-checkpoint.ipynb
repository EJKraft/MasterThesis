{
 "cells": [
  {
   "cell_type": "markdown",
   "metadata": {},
   "source": [
    "# Analysis Plots\n",
    "\n",
    "In this notebook, we have a look at the mean values of each feature, draw box, swarm and pairplots for every feature. Also the categorical variables are used, so sex, Academic Status and NativeSpeaker.\n",
    "\n",
    "For this we use the whole dataset, so we also have multiple samples per person."
   ]
  },
  {
   "cell_type": "markdown",
   "metadata": {},
   "source": [
    "## Import relevant libraries"
   ]
  },
  {
   "cell_type": "code",
   "execution_count": 1,
   "metadata": {},
   "outputs": [
    {
     "name": "stderr",
     "output_type": "stream",
     "text": [
      "C:\\Users\\user\\Anaconda3\\lib\\site-packages\\statsmodels\\compat\\pandas.py:49: FutureWarning: The Panel class is removed from pandas. Accessing it from the top-level namespace will also be removed in the next version\n",
      "  data_klasses = (pandas.Series, pandas.DataFrame, pandas.Panel)\n"
     ]
    }
   ],
   "source": [
    "import numpy as np\n",
    "import pandas as pd\n",
    "from os import listdir\n",
    "import matplotlib.pyplot as plt\n",
    "import itertools as it\n",
    "import sklearn.preprocessing as pp\n",
    "from statsmodels.sandbox.stats.multicomp import multipletests\n",
    "#import nltk\n",
    "import scipy.stats as st\n",
    "import seaborn as sns\n",
    "import Helper as hp"
   ]
  },
  {
   "cell_type": "markdown",
   "metadata": {},
   "source": [
    "## Load .csv data with results of OpenSMILE Analysis\n",
    "First we load .csv data and clean it (removing of NaNs), then we store information of all files in seperate panda dataframes containing information about affect, emotion and valence/arousal for all participants."
   ]
  },
  {
   "cell_type": "code",
   "execution_count": 2,
   "metadata": {},
   "outputs": [],
   "source": [
    "data = pd.read_csv(\"CHI_2019_FULL.csv\")\n",
    "\n",
    "#Set Labels for plotting\n",
    "emotion_label = ['Anger', 'Boredom', 'Disgust', 'Fear', 'Happiness', 'Emo_Neutral', 'Sadness']\n",
    "affect_label = ['Aggressiv', 'Cheerful', 'Intoxicated', 'Nervous', 'Aff_Neutral', 'Tired']\n",
    "loi_label = ['Disinterest', 'Normal', 'High Interest']\n",
    "\n",
    "#Get specific data and save it into new data frames\n",
    "# We use the pandas .copy(deep=True) function to prevent the SettingWithCopyWarning we would otherwise get. Since we do\n",
    "# not write, but only read from the data, the warning does not affect the data frames\n",
    "df_emotion = data[['Anger', 'Boredom', 'Disgust', 'Fear', 'Happiness', 'Emo_Neutral', 'Sadness', 'Filename']].copy(deep=True)\n",
    "df_affect = data[['Aggressiv', 'Cheerful', 'Intoxicated', 'Nervous', 'Aff_Neutral', 'Tired', 'Filename']].copy(deep=True)\n",
    "df_loi = data[['Disinterest', 'Normal', 'High Interest', 'Filename']].copy(deep=True)\n",
    "df_ar_val = data[['Arousal', 'Valence', 'Filename']].copy(deep=True)\n",
    "#For further usage, we want to append the CharacterID as a column, which is saved with other information in the filename\n",
    "#Since we only want the digits, we can remove all non-digit characters of the filename column and append the column to the df\n",
    "\n",
    "df_emotion['Char_ID'] = df_emotion['Filename'].replace('\\D+','', regex = True).copy(deep=True)\n",
    "df_affect['Char_ID'] = df_affect['Filename'].replace('\\D+','', regex = True).copy(deep=True)\n",
    "df_loi['Char_ID'] = df_loi['Filename'].replace('\\D+','', regex = True).copy(deep=True)\n",
    "df_ar_val['Char_ID'] = df_ar_val['Filename'].replace('\\D+','', regex = True).copy(deep=True)"
   ]
  },
  {
   "cell_type": "markdown",
   "metadata": {},
   "source": [
    "## Let's load information about the speakers\n",
    "The speaker ID is saved in a single .csv file containing four important columns: ID, Age, Sex and Acadedmic Status. Since before loaded OpenSMILE csv files are named using the corresponding index (ex. speaker with id 0 has two files 0_a.csv and 0_b.csv), so that a link can be created"
   ]
  },
  {
   "cell_type": "code",
   "execution_count": 3,
   "metadata": {},
   "outputs": [],
   "source": [
    "char_data = pd.read_csv(\"CHI_2019_CharacterData.csv\")  \n",
    "\n",
    "#Join above tables and Character Tables\n",
    "\n",
    "#To Join DataFrames we have to cast the column on which we want to join to int, so that both columns have the same data type\n",
    "char_data['ID'] = char_data['ID'].astype(int)\n",
    "df_ar_val['Char_ID'] = df_ar_val['Char_ID'].astype(int)\n",
    "df_emotion['Char_ID'] = df_emotion['Char_ID'].astype(int)\n",
    "df_affect['Char_ID'] = df_affect['Char_ID'].astype(int)\n",
    "df_loi['Char_ID'] = df_loi['Char_ID'].astype(int)\n",
    "\n",
    "#Safe new data frames\n",
    "df_ar_val_char = df_ar_val.merge(char_data, how = 'left', left_on='Char_ID', right_on='ID')\n",
    "df_emotion_char = df_emotion.merge(char_data, how = 'left', left_on='Char_ID', right_on= 'ID')\n",
    "df_affect_char = df_affect.merge(char_data, how = 'left', left_on='Char_ID', right_on= 'ID')\n",
    "df_loi_char = df_loi.merge(char_data, how = 'left', left_on='Char_ID', right_on= 'ID')\n",
    "\n",
    "affect_label.remove('Intoxicated')\n",
    "df_affect_char = df_affect_char.drop(['Intoxicated'], axis = 1)\n",
    "norm_test = pp.normalize(df_affect_char[affect_label], norm = 'l1')\n",
    "df_affect_char[affect_label] = norm_test\n",
    "\n",
    "df_loi_char['Normal Interest'] = df_loi_char['Disinterest'] + df_loi_char['Normal']\n",
    "df_loi_char = df_loi_char.drop(['Disinterest', 'Normal'], axis = 1)\n",
    "loi_label = ['Normal Interest', 'High Interest']\n",
    "\n",
    "#Account for multiple samples per person, so calculate median of samples\n",
    "IDs = df_emotion['Char_ID'].copy()\n",
    "IDs.drop_duplicates()\n",
    "\n",
    "for i in IDs:\n",
    "    for l in emotion_label:    \n",
    "        test = df_emotion.loc[df_emotion.Char_ID == i,l]\n",
    "        test_neu = hp.constructMedianSeries(test)\n",
    "        df_emotion.loc[df_emotion.Char_ID == i,l] = test_neu"
   ]
  },
  {
   "cell_type": "markdown",
   "metadata": {},
   "source": [
    "## Now let's have another look at the plots using the character data\n",
    "### Let's take a look at female/male"
   ]
  },
  {
   "cell_type": "code",
   "execution_count": 5,
   "metadata": {},
   "outputs": [
    {
     "ename": "SyntaxError",
     "evalue": "EOL while scanning string literal (<ipython-input-5-9ae2abe8a82e>, line 61)",
     "output_type": "error",
     "traceback": [
      "\u001b[1;36m  File \u001b[1;32m\"<ipython-input-5-9ae2abe8a82e>\"\u001b[1;36m, line \u001b[1;32m61\u001b[0m\n\u001b[1;33m    plt.savefig(\"1\u001b[0m\n\u001b[1;37m                  ^\u001b[0m\n\u001b[1;31mSyntaxError\u001b[0m\u001b[1;31m:\u001b[0m EOL while scanning string literal\n"
     ]
    }
   ],
   "source": [
    "df_ar_val_male = df_ar_val_char.loc[df_ar_val_char['Sex'] == 'Male']\n",
    "df_ar_val_female = df_ar_val_char.loc[df_ar_val_char['Sex'] == 'Female']\n",
    "\n",
    "df_emotion_char_male = df_emotion_char.loc[df_emotion_char['Sex'] == 'Male']\n",
    "df_emotion_char_female = df_emotion_char.loc[df_emotion_char['Sex'] == 'Female']\n",
    "\n",
    "df_affect_char_male = df_affect_char.loc[df_affect_char['Sex'] == 'Male']\n",
    "df_affect_char_female = df_affect_char.loc[df_affect_char['Sex'] == 'Female']\n",
    "\n",
    "df_loi_char_male = df_loi_char.loc[df_loi_char['Sex'] == 'Male']\n",
    "df_loi_char_female = df_loi_char.loc[df_loi_char['Sex'] == 'Female']\n",
    "\n",
    "#For Plotting, lets calculate the mean emotion value for all audiofiles\n",
    "df_emo_sex = hp.createMeanDataFrame([df_emotion_char_male, df_emotion_char_female],'Sex',emotion_label)\n",
    "df_aff_sex = hp.createMeanDataFrame([df_affect_char_male, df_affect_char_female],'Sex',affect_label)\n",
    "df_loi_sex = hp.createMeanDataFrame([df_loi_char_male, df_loi_char_female],'Sex',loi_label)\n",
    "\n",
    "# Start with Emotion\n",
    "ax_emo = df_emo_sex.plot.bar(title = 'Mean Emotions',rot = 10) #We set rotation to 10 so that the filenames can be read\n",
    "ax_emo.legend(loc = 'center', bbox_to_anchor=(1.2,0.5), title = 'Sex')\n",
    "ax_emo.set_ylabel('Probability of Emotion')\n",
    "ax_emo.set_xlabel('Emotions')\n",
    "plt.grid(True)\n",
    "plt.savefig(\"img/1_sex_emotion_bar.svg\")\n",
    "\n",
    "#Now let's plot affect bar diagram\n",
    "ax_aff = df_aff_sex.plot.bar(title = 'Mean Affect',rot = 10) #We set rotation to 10 so that the filenames can be read\n",
    "ax_aff.legend(loc = 'center', bbox_to_anchor=(1.2,0.5), title = 'Sex')\n",
    "ax_aff.set_ylabel('Probability of Affect')\n",
    "ax_aff.set_xlabel('Affects')\n",
    "plt.grid(True)\n",
    "plt.savefig(\"img/1_sex_affect_bar.svg\")\n",
    "\n",
    "#Now Level of Interest\n",
    "ax_loi = df_loi_sex.plot.bar(title = 'Mean Level of Interest',rot = 10) #We set rotation to 10 so that the filenames can be read\n",
    "ax_loi.legend(loc = 'center', bbox_to_anchor=(1.2,0.5), title = 'Sex')\n",
    "ax_loi.set_ylabel('Probability of Interest')\n",
    "ax_loi.set_xlabel('Interest')\n",
    "plt.grid(True)\n",
    "plt.savefig(\"img/1_sex_loi_bar.svg\")\n",
    "\n",
    "#And finally arousal valence\n",
    "ax1 = df_ar_val_male.plot.scatter(x = 'Valence', y = 'Arousal', label = 'Male', alpha = 0.3)\n",
    "ax2 = df_ar_val_female.plot.scatter(x = 'Valence', y = 'Arousal', label = 'Female',c = 'tab:orange', alpha = 0.3, ax=ax1)\n",
    "#We want to plot the arousal valence circle so we create values for it\n",
    "t = np.linspace(0,np.pi*2,100)\n",
    "ax1.plot(np.cos(t), np.sin(t), linewidth = 1.5, color = 'black')\n",
    "ax1.axvline(0,0,1, c = 'black')\n",
    "x_coord = [-1.0,1.0]\n",
    "y_coord = [0.0,0.0]\n",
    "ax1.plot(x_coord, y_coord, c = 'black')\n",
    "\n",
    "#Make Plot pretty\n",
    "ax1.legend(loc = 'center', bbox_to_anchor=(1.2,0.5))\n",
    "plt.grid(True)\n",
    "plt.xlim(-1.0, 1.0)\n",
    "plt.ylim(-1.0, 1.0)\n",
    "plt.title('Arousal-Valence')\n",
    "ax1.set_aspect('equal')\n",
    "plt.locator_params(axis='x',nbins= 9)\n",
    "plt.savefig(\"img/1_sex_arval_bar.svg\")"
   ]
  },
  {
   "cell_type": "code",
   "execution_count": null,
   "metadata": {},
   "outputs": [],
   "source": [
    "df_ar_val_male = df_ar_val_char.loc[df_ar_val_char['Sex'] == 'Male']\n",
    "df_ar_val_female = df_ar_val_char.loc[df_ar_val_char['Sex'] == 'Female']\n",
    "\n",
    "df_emotion_char_male = df_emotion_char.loc[df_emotion_char['Sex'] == 'Male']\n",
    "df_emotion_char_female = df_emotion_char.loc[df_emotion_char['Sex'] == 'Female']\n",
    "\n",
    "df_affect_char_male = df_affect_char.loc[df_affect_char['Sex'] == 'Male']\n",
    "df_affect_char_female = df_affect_char.loc[df_affect_char['Sex'] == 'Female']\n",
    "\n",
    "df_loi_char_male = df_loi_char.loc[df_loi_char['Sex'] == 'Male']\n",
    "df_loi_char_female = df_loi_char.loc[df_loi_char['Sex'] == 'Female']\n",
    "\n",
    "#For Plotting, lets calculate the mean emotion value for all audiofiles\n",
    "df_emo_sex = hp.createMeanDataFrame([df_emotion_char_male, df_emotion_char_female],'Sex',emotion_label)\n",
    "df_aff_sex = hp.createMeanDataFrame([df_affect_char_male, df_affect_char_female],'Sex',affect_label)\n",
    "df_loi_sex = hp.createMeanDataFrame([df_loi_char_male, df_loi_char_female],'Sex',loi_label)\n",
    "\n",
    "# Start with Emotion\n",
    "ax_emo = df_emo_sex.plot.bar(title = 'Mean Emotions',rot = 10) #We set rotation to 10 so that the filenames can be read\n",
    "ax_emo.legend(loc = 'center', bbox_to_anchor=(1.2,0.5), title = 'Sex')\n",
    "ax_emo.set_ylabel('Probability of Emotion')\n",
    "ax_emo.set_xlabel('Emotions')\n",
    "plt.grid(True)\n",
    "plt.savefig(\"img/1_sex_emotion_bar.svg\")\n",
    "\n",
    "#Now let's plot affect bar diagram\n",
    "ax_aff = df_aff_sex.plot.bar(title = 'Mean Affect',rot = 10) #We set rotation to 10 so that the filenames can be read\n",
    "ax_aff.legend(loc = 'center', bbox_to_anchor=(1.2,0.5), title = 'Sex')\n",
    "ax_aff.set_ylabel('Probability of Affect')\n",
    "ax_aff.set_xlabel('Affects')\n",
    "plt.grid(True)\n",
    "plt.savefig(\"img/1_sex_affect_bar.svg\")\n",
    "\n",
    "#Now Level of Interest\n",
    "ax_loi = df_loi_sex.plot.bar(title = 'Mean Level of Interest',rot = 10) #We set rotation to 10 so that the filenames can be read\n",
    "ax_loi.legend(loc = 'center', bbox_to_anchor=(1.2,0.5), title = 'Sex')\n",
    "ax_loi.set_ylabel('Probability of Interest')\n",
    "ax_loi.set_xlabel('Interest')\n",
    "plt.grid(True)\n",
    "plt.savefig(\"img/1_sex_loi_bar.svg\")\n",
    "\n",
    "#And finally arousal valence\n",
    "ax1 = df_ar_val_male.plot.scatter(x = 'Valence', y = 'Arousal', label = 'Male', alpha = 0.3)\n",
    "ax2 = df_ar_val_female.plot.scatter(x = 'Valence', y = 'Arousal', label = 'Female',c = 'tab:orange', alpha = 0.3, ax=ax1)\n",
    "#We want to plot the arousal valence circle so we create values for it\n",
    "t = np.linspace(0,np.pi*2,100)\n",
    "ax1.plot(np.cos(t), np.sin(t), linewidth = 1.5, color = 'black')\n",
    "ax1.axvline(0,0,1, c = 'black')\n",
    "x_coord = [-1.0,1.0]\n",
    "y_coord = [0.0,0.0]\n",
    "ax1.plot(x_coord, y_coord, c = 'black')\n",
    "\n",
    "#Make Plot pretty\n",
    "ax1.legend(loc = 'center', bbox_to_anchor=(1.2,0.5))\n",
    "plt.grid(True)\n",
    "plt.xlim(-1.0, 1.0)\n",
    "plt.ylim(-1.0, 1.0)\n",
    "plt.title('Arousal-Valence')\n",
    "ax1.set_aspect('equal')\n",
    "plt.locator_params(axis='x',nbins= 9)\n",
    "plt.savefig(\"img/1_sex_arval_scatter.svg\")"
   ]
  },
  {
   "cell_type": "markdown",
   "metadata": {},
   "source": [
    "In the Emotions Plot, we can see that the most dominant emotions are sadness and disgust, where females tend to be more disgusted than sad and males more sad than disgusted. Also the mean value of the sadness of males is at ~0.79, which is by far the highest mean across all plots.\n",
    "\n",
    "In the affect plot we see that the most dominant affection is cheerful, followed by tired and aggressive. Where females and males are almost equally cheerful, females tend to be more aggressive and less tired than males. They do not differ that much in the other three affections (intoxication, nervous, neutral). One thing to point out is the mean values of nervous: it is at about ~0.04 which is very low comparing to the other means. This hints again, that an atmosphere was given at the conference where other affections were given, rather than nervousness.\n",
    "\n",
    "In the Level of Interest plot we can see that females tend to be slightly more interested than males. The higher 'high interest' bar and the lower 'normal' bar hints this. Disinterest is very low, which is nice for the conference.\n",
    "\n",
    "In the last plot, we can see the arousal and valence values for each sample. We see, that females tend to have a higher arousal value, and valence does not seem to vary as much as arousal. \n",
    "\n",
    "\n",
    "### Let's have look at academic status\n",
    "Bachelor and Master will be replaced with the to the video corresponding academic status"
   ]
  },
  {
   "cell_type": "code",
   "execution_count": null,
   "metadata": {},
   "outputs": [],
   "source": [
    "df_ar_val_grad = df_ar_val_char.loc[df_ar_val_char['Academic Status'] == 'Grad Student']\n",
    "df_ar_val_phd = df_ar_val_char.loc[df_ar_val_char['Academic Status'] == 'PhD']\n",
    "\n",
    "df_affect_grad = df_affect_char.loc[df_affect_char['Academic Status'] == 'Grad Student']\n",
    "df_affect_phd = df_affect_char.loc[df_affect_char['Academic Status'] == 'PhD']\n",
    "\n",
    "df_emotion_grad = df_emotion_char.loc[df_emotion_char['Academic Status'] == 'Grad Student']\n",
    "df_emotion_phd = df_emotion_char.loc[df_emotion_char['Academic Status'] == 'PhD']\n",
    "\n",
    "df_loi_grad = df_loi_char.loc[df_loi_char['Academic Status'] == 'Grad Student']\n",
    "df_loi_phd = df_loi_char.loc[df_loi_char['Academic Status'] == 'PhD']\n",
    "\n",
    "#For Plotting, lets calculate the mean emotion value for all audiofiles\n",
    "df_emo_aca = hp.createMeanDataFrame([df_emotion_grad,df_emotion_phd], 'Academic', emotion_label)\n",
    "df_aff_aca = hp.createMeanDataFrame([df_affect_grad,df_affect_phd], 'Academic', affect_label)\n",
    "df_loi_aca = hp.createMeanDataFrame([df_loi_grad,df_loi_phd], 'Academic', ['Normal Interest', 'High Interest'])\n",
    "\n",
    "# Start with Emotion\n",
    "ax_emo1 = df_emo_aca.plot.bar(title = 'Mean Emotions',rot = 10) #We set rotation to 10 so that the filenames can be read\n",
    "ax_emo1.legend(loc = 'center', bbox_to_anchor=(1.2,0.5), title = 'Academic Status')\n",
    "ax_emo1.set_ylabel('Probability of Emotion')\n",
    "ax_emo1.set_xlabel('Emotions')\n",
    "plt.grid(True)\n",
    "plt.savefig(\"img/1_aca_emotion_bar.svg\")\n",
    "\n",
    "#Now let's plot affect bar diagram\n",
    "ax_aff1 = df_aff_aca.plot.bar(title = 'Mean Affect',rot = 10) #We set rotation to 10 so that the filenames can be read\n",
    "ax_aff1.legend(loc = 'center', bbox_to_anchor=(1.2,0.5), title = 'Academic Status')\n",
    "ax_aff1.set_ylabel('Probability of Affect')\n",
    "ax_aff1.set_xlabel('Affects')\n",
    "plt.grid(True)\n",
    "plt.savefig(\"img/1_aca_affect_bar.svg\")\n",
    "\n",
    "#Now plot LoI diagram\n",
    "ax_loi = df_loi_aca.plot.bar(title = 'Mean Level of Interest',rot = 10) #We set rotation to 10 so that the filenames can be read\n",
    "ax_loi.legend(loc = 'center', bbox_to_anchor=(1.2,0.5), title = 'Academic Status')\n",
    "ax_loi.set_ylabel('Probability of Interest')\n",
    "ax_loi.set_xlabel('Interest')\n",
    "plt.grid(True)\n",
    "plt.savefig(\"img/1_aca_loi_bar.svg\")\n",
    "\n",
    "ax11 = df_ar_val_grad.plot.scatter(x = 'Valence', y = 'Arousal', label = 'Grad Student', c = 'tab:blue', alpha = 0.3)\n",
    "ax21 = df_ar_val_phd.plot.scatter(x = 'Valence', y = 'Arousal', label = 'PhD', c = 'tab:orange',alpha = 0.3, ax=ax11)\n",
    "\n",
    "#We want to plot the arousal valence circle so we create values for it\n",
    "t = np.linspace(0,np.pi*2,100)\n",
    "ax11.plot(np.cos(t), np.sin(t), linewidth = 1.5, color = 'black')\n",
    "ax11.axvline(0,0,1, c = 'black')\n",
    "x_coord = [-1.0,1.0]\n",
    "y_coord = [0.0,0.0]\n",
    "ax11.plot(x_coord, y_coord, c = 'black')\n",
    "\n",
    "#Make Plot pretty\n",
    "ax11.legend(loc = 'center', bbox_to_anchor=(1.2,0.5))\n",
    "plt.grid(True)\n",
    "plt.xlim(-1.0, 1.0)\n",
    "plt.ylim(-1.0, 1.0)\n",
    "plt.title('Arousal-Valence')\n",
    "ax11.set_aspect('equal')\n",
    "plt.locator_params(axis='x',nbins= 9)\n",
    "plt.savefig(\"img/1_aca_arval_scatter.svg\")"
   ]
  },
  {
   "cell_type": "markdown",
   "metadata": {},
   "source": [
    "Again, sadness and disgust are the emotions with the highest means.\n",
    "\n",
    "In the affect plot, we see that Grad Students hardly differ from PhDs -- their nervous means are almost equal.\n",
    "\n",
    "This looks a little bit different in the Level of Interest plot: Here we see that Grad Students seem slightly more interested than PhDs, similar to females and males previously.\n",
    "\n",
    "In the arousal valence space, there seems to be a smaller arousal for PhDs than Grad Students.\n",
    "\n",
    "\n",
    "## Let's look at Native Speaker"
   ]
  },
  {
   "cell_type": "code",
   "execution_count": null,
   "metadata": {},
   "outputs": [],
   "source": [
    "df_ar_val_as = df_ar_val_char.loc[df_ar_val_char['IsNativeSpeaker'] == 'Asian Non-Native']\n",
    "df_ar_val_eu = df_ar_val_char.loc[df_ar_val_char['IsNativeSpeaker'] == 'Europ. Non-Native']\n",
    "df_ar_val_na = df_ar_val_char.loc[df_loi_char['IsNativeSpeaker'] == 'Native Speaker']\n",
    "\n",
    "df_emotion_char_as = df_emotion_char.loc[df_emotion_char['IsNativeSpeaker'] == 'Asian Non-Native']\n",
    "df_emotion_char_eu = df_emotion_char.loc[df_emotion_char['IsNativeSpeaker'] == 'Europ. Non-Native']\n",
    "df_emotion_char_na = df_emotion_char.loc[df_loi_char['IsNativeSpeaker'] == 'Native Speaker']\n",
    "\n",
    "df_affect_char_as = df_affect_char.loc[df_affect_char['IsNativeSpeaker'] == 'Asian Non-Native']\n",
    "df_affect_char_eu = df_affect_char.loc[df_affect_char['IsNativeSpeaker'] == 'Europ. Non-Native']\n",
    "df_affect_char_na = df_affect_char.loc[df_loi_char['IsNativeSpeaker'] == 'Native Speaker']\n",
    "\n",
    "df_loi_char_as = df_loi_char.loc[df_loi_char['IsNativeSpeaker'] == 'Asian Non-Native']\n",
    "df_loi_char_eu = df_loi_char.loc[df_loi_char['IsNativeSpeaker'] == 'Europ. Non-Native']\n",
    "df_loi_char_na = df_loi_char.loc[df_loi_char['IsNativeSpeaker'] == 'Native Speaker']\n",
    "\n",
    "#For Plotting, lets calculate the mean emotion value for all audiofiles\n",
    "df_emo_nat = hp.createMeanDataFrame([df_emotion_char_as, df_emotion_char_eu, df_emotion_char_na],'IsNativeSpeaker',emotion_label)\n",
    "df_aff_nat = hp.createMeanDataFrame([df_affect_char_as, df_affect_char_eu, df_affect_char_na],'IsNativeSpeaker',affect_label)\n",
    "df_loi_nat = hp.createMeanDataFrame([df_loi_char_as, df_loi_char_eu, df_loi_char_na],'IsNativeSpeaker',loi_label)\n",
    "\n",
    "# Start with Emotion\n",
    "ax_emo = df_emo_nat.plot.bar(title = 'Mean Emotions',rot = 10) #We set rotation to 10 so that the filenames can be read\n",
    "ax_emo.legend(loc = 'center', bbox_to_anchor=(1.2,0.5), title = 'IsNativeSpeaker')\n",
    "ax_emo.set_ylabel('Probability of Emotion')\n",
    "ax_emo.set_xlabel('Emotions')\n",
    "plt.grid(True)\n",
    "plt.savefig(\"img/1_nat_emo_bar.svg\")\n",
    "\n",
    "\n",
    "#Now let's plot affect bar diagram\n",
    "ax_aff = df_aff_nat.plot.bar(title = 'Mean Affect',rot = 10) #We set rotation to 10 so that the filenames can be read\n",
    "ax_aff.legend(loc = 'center', bbox_to_anchor=(1.2,0.5), title = 'IsNativeSpeaker')\n",
    "ax_aff.set_ylabel('Probability of Affect')\n",
    "ax_aff.set_xlabel('Affects')\n",
    "plt.grid(True)\n",
    "plt.savefig(\"img/1_nat_aff_bar.svg\")\n",
    "\n",
    "\n",
    "#Now Level of Interest\n",
    "ax_loi = df_loi_nat.plot.bar(title = 'Mean Level of Interest',rot = 10) #We set rotation to 10 so that the filenames can be read\n",
    "ax_loi.legend(loc = 'center', bbox_to_anchor=(1.2,0.5), title = 'IsNativeSpeaker')\n",
    "ax_loi.set_ylabel('Probability of Interest')\n",
    "ax_loi.set_xlabel('Interest')\n",
    "plt.grid(True)\n",
    "plt.savefig(\"img/1_nat_loi_bar.svg\")\n",
    "\n",
    "#And finally arousal valence\n",
    "ax1 = df_ar_val_as.plot.scatter(x = 'Valence', y = 'Arousal', label = 'Asian Non-Native')\n",
    "ax2 = df_ar_val_eu.plot.scatter(x = 'Valence', y = 'Arousal', label = 'Europ. Non-Native', c = 'tab:orange', alpha = 0.3, ax=ax1)\n",
    "ax3 = df_ar_val_na.plot.scatter(x = 'Valence', y = 'Arousal', label = 'Native Speaker', c = 'tab:green', alpha = 0.3, ax=ax1)\n",
    "#We want to plot the arousal valence circle so we create values for it\n",
    "t = np.linspace(0,np.pi*2,100)\n",
    "ax1.plot(np.cos(t), np.sin(t), linewidth = 1.5, color = 'black')\n",
    "ax1.axvline(0,0,1, c = 'black')\n",
    "x_coord = [-1.0,1.0]\n",
    "y_coord = [0.0,0.0]\n",
    "ax1.plot(x_coord, y_coord, c = 'black')\n",
    "\n",
    "#Make Plot pretty\n",
    "ax1.legend(loc = 'center', bbox_to_anchor=(1.2,0.5))\n",
    "plt.grid(True)\n",
    "plt.xlim(-1.0, 1.0)\n",
    "plt.ylim(-1.0, 1.0)\n",
    "plt.title('Arousal-Valence')\n",
    "ax1.set_aspect('equal')\n",
    "plt.locator_params(axis='x',nbins= 9)\n",
    "plt.savefig(\"img/1_nat_arval_scatter.svg\")"
   ]
  },
  {
   "cell_type": "markdown",
   "metadata": {},
   "source": [
    "## Distribution Plots\n",
    "We want to take a look at the distribution of our emotions, affects, level of interest and arousal-valence. So, every emotion, e.g. anger is plotted using seaborns kdeplot().\n",
    "\n",
    "For Arousal-Valence, we'll use jointplot(kind = \"kde\")"
   ]
  },
  {
   "cell_type": "code",
   "execution_count": null,
   "metadata": {},
   "outputs": [],
   "source": [
    "sns.set()\n",
    "hp.distPlots(df_emotion, emotion_label, 0)\n",
    "hp.distPlots(df_affect, affect_label, 1)\n",
    "hp.distPlots(df_loi_char, loi_label, 2)\n",
    "df_dis_ar_val_sex = df_ar_val_char.drop(['Char_ID','ID','Filename', 'Sex', 'Academic Status', 'IsNativeSpeaker', 'VideoID' ,'VideoTitle', 'Name'], axis = 1)\n",
    "grid = sns.jointplot(x = \"Valence\", y = \"Arousal\", data = df_ar_val, kind = \"kde\")\n",
    "ax = grid.ax_joint\n",
    "grid.fig.subplots_adjust(top = 0.95)\n",
    "grid.fig.suptitle('Distribution of Arousal and Valence')"
   ]
  },
  {
   "cell_type": "markdown",
   "metadata": {},
   "source": [
    "If we take a look at the distribution of our different emotions, we can see that with the exception of sadness and disgust, the functions have their peak at around x = 0.01 and the distribution ends at about 0.1. Whereas disgust ranges from -0.2 to almost 1.2, which implies a wider range of values and more importantly, more higher values than other emotions. Note, that disgust has its peak roughly at 0.05, whereas the peak of the other dominating emotion, 'sadness' has its peak at ~0.9. This implies that sadness will be the most common emotion regarding high values.\n",
    "\n",
    "If we take a look at the distribution of different affections, the distributions differ very much from the distribution of emotions. Aggressive has its peak at about 0.15 but the function is defined to x = 1, also if the probability of actually having such a value is very low. Looking at Cheerful, we see the peak at ~0.45, indicating that high cherful values are more frequently seen. The intoxication has its peak at about ~0.15 and seems to have mostly values between 0.0 and 0.3. The nervous graph is nice to have a look, because the range of values is so much smaller than the previously viewed. The peak is at ~0.025 and values are very small, as the distribution is only defined in the range 0 to 0.175, also the variance of the 'bell' is small. The neutral distribution is also defined in a smaller range (0 to 0.2) and has its peak at 0.05. Although having the peak at a smaller value, the bell of the neutral distribution has a larger variance. Tired has its peak at about 0.1 and flattens at about x = 0.6, so higher values are less likely, but can occur.\n",
    "\n",
    "If we take a look at the distribution of disinterest, we see that the peak is at 0.005 and the maximum x-label is 0.16. We can see that disinterest values are often very very low. If we compare that to the distribution of normal interest, we see that normal interest has a much wider range. Note that the distribution is also defined x < 0 and x > 1, which in our case, does not make any sense, but tends to tell us that the values vary much. Also, in contrast to previous distribution functions, the normal interest distribution has two peaks, one at ~0.1 and a higher one at ~0.8. This can be explained by samples having e.g. a high normal interest value and therefore a smaller high interest value. The same thing goes vice versa, which explains the two peaks. Following this logic, we should also see two peaks in the distribution of high interest, which we actually do. It almost looks like the distribution of normal interest is mirrored on the y-axis.\n",
    "\n",
    "In the last plot, the distribution of arousal and valence are shown. The center of the distribution lies in the top right of the arousal valence space (positive arousal, positive valence) and arousal values are in between -0.2 and 0.4, whereas valence values are between -0.1 and 0.2. As we have seen in the scatter plot of arousal-valence, arousal varies more than valence, which we can also see in the distribution plot.\n",
    "\n",
    "\n",
    "\n",
    "## Swarm Plots of categorical data in relation to characteristic features\n",
    "\n",
    "So these swarmplots are only there to get a feeling for the data, as wen can visualize each sample in a nice way, they won't be used in the analysis.\n",
    "\n",
    "### Starting with Sex"
   ]
  },
  {
   "cell_type": "code",
   "execution_count": null,
   "metadata": {},
   "outputs": [],
   "source": [
    "#Start plotting distribution of categorical data with seaborn\n",
    "#e.g. emotions and sex\n",
    "\n",
    "df_dis_emotion_sex = df_emotion_char.drop(['Char_ID','ID','Filename', 'VideoID','Academic Status','IsNativeSpeaker', 'VideoTitle', 'Name'], axis = 1)\n",
    "df_dis_affect_sex = df_affect_char.drop(['Char_ID','ID','Filename', 'Academic Status', 'VideoID', 'IsNativeSpeaker','VideoTitle', 'Name'], axis = 1)\n",
    "df_dis_loi_sex = df_loi_char.drop(['Char_ID','ID','Filename', 'Academic Status', 'VideoTitle','IsNativeSpeaker', 'VideoID', 'Name'], axis = 1)\n",
    "\n",
    "hp.catPlot(df_dis_emotion_sex, 'Emotion', 'Sex', 'swarm')\n",
    "plt.xticks(rotation=20)\n",
    "\n",
    "hp.catPlot(df_dis_affect_sex, 'Affect', 'Sex', 'swarm')\n",
    "plt.xticks(rotation=20)\n",
    "\n",
    "hp.catPlot(df_dis_loi_sex, 'Level of Interest', 'Sex', 'swarm')"
   ]
  },
  {
   "cell_type": "markdown",
   "metadata": {},
   "source": [
    "### Now Academic Status"
   ]
  },
  {
   "cell_type": "code",
   "execution_count": null,
   "metadata": {},
   "outputs": [],
   "source": [
    "df_dis_emotion_aca = df_emotion_char.drop(['Char_ID','ID','Filename', 'Sex','VideoID','IsNativeSpeaker', 'VideoTitle', 'Name'], axis = 1)\n",
    "hp.catPlot(df_dis_emotion_aca, 'Emotion', 'Academic Status', 'swarm')\n",
    "df_dis_affect_aca = df_affect_char.drop(['Char_ID','ID','Filename', 'Sex','VideoID', 'IsNativeSpeaker','VideoTitle', 'Name'], axis = 1)\n",
    "hp.catPlot(df_dis_affect_aca, 'Affect', 'Academic Status', 'swarm')\n",
    "df_dis_loi_aca = df_loi_char.drop(['Char_ID','ID','Filename', 'Sex', 'VideoID','VideoTitle', 'IsNativeSpeaker','Name'], axis = 1)\n",
    "hp.catPlot(df_dis_loi_aca, 'Level of Interest', 'Academic Status', 'swarm')"
   ]
  },
  {
   "cell_type": "markdown",
   "metadata": {},
   "source": [
    "### Now Native Speaker"
   ]
  },
  {
   "cell_type": "code",
   "execution_count": null,
   "metadata": {},
   "outputs": [],
   "source": [
    "df_dis_emotion_nat = df_emotion_char.drop(['Char_ID','ID','Filename', 'Sex', 'VideoID','Academic Status', 'VideoTitle', 'Name'], axis = 1)\n",
    "hp.catPlot(df_dis_emotion_nat, 'Emotion', 'IsNativeSpeaker', 'swarm')\n",
    "df_dis_affect_nat = df_affect_char.drop(['Char_ID','ID','Filename', 'Sex', 'VideoID','Academic Status', 'VideoTitle', 'Name'], axis = 1)\n",
    "hp.catPlot(df_dis_affect_nat, 'Affect', 'IsNativeSpeaker', 'swarm')\n",
    "df_dis_loi_nat = df_loi_char.drop(['Char_ID','ID','Filename', 'Sex','VideoID', 'Academic Status', 'VideoTitle', 'Name'], axis = 1)\n",
    "hp.catPlot(df_dis_loi_nat, 'Level of Interest', 'IsNativeSpeaker', 'swarm')"
   ]
  },
  {
   "cell_type": "markdown",
   "metadata": {},
   "source": [
    "## Pairplots\n",
    "### Starting with Emotions and Sex"
   ]
  },
  {
   "cell_type": "code",
   "execution_count": null,
   "metadata": {},
   "outputs": [],
   "source": [
    "g = sns.pairplot(df_dis_emotion_sex, hue = \"Sex\")\n",
    "#plt.subplots_adjust(top = 1.0)\n",
    "g.fig.suptitle('Pairplot of OpenEAR: Emotions using hue = sex', y = 1.02)"
   ]
  },
  {
   "cell_type": "markdown",
   "metadata": {},
   "source": [
    "The distributions of anger, fear and neutral almost seem to have no differences, whereas the peak in boredom is higher for males than females but is positiond at ~0.0 in both cases. The same goes for happiness. If we take a look at disgust however, we see that the peak for males is higher than for females, but also flats more quickly to higher x values, whereas the female distribution of disgust is much more flat. Sadness looks similar to disgust, but in contrary to before, the peak is at ~0.9 and again, the peak is higher for males than for females and the distribution of females is more constant over the x axis than males.\n",
    "\n",
    "\n",
    "### Affect and Sex"
   ]
  },
  {
   "cell_type": "code",
   "execution_count": null,
   "metadata": {},
   "outputs": [],
   "source": [
    "g = sns.pairplot(df_dis_affect_sex, hue = \"Sex\")\n",
    "g.fig.suptitle('Pairplot of OpenEAR: Affect using hue = sex', y = 1.02)"
   ]
  },
  {
   "cell_type": "markdown",
   "metadata": {},
   "source": [
    "If we take a look at the distributions of aggressiv, we see that the peak (x~=0.2) for males is slightly higher, but more to the left (smaller x-values) than the female distribution. Also, the female distribtuion extends more to higher x-values than the distribution of aggresivness in males. Looking at Cheerful, we see the opposite: Females have a higher peak which is more slightly to the left than males. Furthermore the peaks are around 0.4 which is hints that we'll see more cheerful values than e.g. aggressive values. Going further to Intoxication, we see again a slight shift in the peak position and a slight difference in the y-coordinate. As previously highlighted, the range of nervous is small when comparing to the other affect attributes. This can also be seen in the distribution, the peaks are alsmot equally high and at the same x-coordinate. Looking at neutral affect, we see that the peaks x-position is similar but the females' peak is slightly higher. Also females distribution has higher values for higher x-coordinates. If we have a look at tiredness, we see that the range is much higher than in the plots before: it ranges from 0 to 1, just as the aggressive affection. The peak for both females and males is at ~0.1 but the peak is much higher for females. Also the probability of having a higher value of tiredness is higher for males than for females, since the male distribution is higher for higher x-values.\n",
    "\n",
    "\n",
    "### Level of Interest and Sex"
   ]
  },
  {
   "cell_type": "code",
   "execution_count": null,
   "metadata": {},
   "outputs": [],
   "source": [
    "g = sns.pairplot(df_dis_loi_sex, hue = \"Sex\")\n",
    "g.fig.suptitle('Pairplot of OpenEAR: Level of Interest using hue = sex', y = 1.02)"
   ]
  },
  {
   "cell_type": "markdown",
   "metadata": {},
   "source": [
    "If we look at the disinterest distribution, we see that the peak for females is slightly higher (0.05), but located at the same position ~0.01. We knew already that disinterest is often not that high, so let's take a look at normal interest. Here we see quite a difference between males and females: the two distributions almost look mirrored, where males have a higher peak at a higher x-coordinate and females have a higher peak for smaller x-coordinates. Just as before, where we hypothesized that high interest will look mirrored to normal interest, this is still the case: Females have a higher peak at higher x-values than males. This hints, that females tend to be more interested than men. Furthermore, we can see that it seems that normal and high interest are linearly dependent, even if we do not account disinterest. Since the disinterest is much lower than normal and high interest, this makes sense.\n",
    "\n",
    "\n",
    "### Emotions and Academic Status"
   ]
  },
  {
   "cell_type": "code",
   "execution_count": null,
   "metadata": {},
   "outputs": [],
   "source": [
    "g = sns.pairplot(df_dis_emotion_aca, hue = \"Academic Status\")\n",
    "g.fig.suptitle('Pairplot of OpenEAR: Emotions using hue = Academic Status', y = 1.02)"
   ]
  },
  {
   "cell_type": "markdown",
   "metadata": {},
   "source": [
    "While Grad Students and PhDs do not differ much in anger, they do differ in boredom: the peak of grad students is almost 0.2 higher than the peak of PhDs. Note that both peaks are located at ~0.0. Also there are slight differences in the distribution of sigust: the PhDs have a higher peak, but the distributions flattens more quickly and does not seem to have a second local maximum, whereas the Grad Students have their highest maximum at the same position as PhDs, the distribution has a second local maximum at 0.75. For fear the distributions look quite similar, also happiness (note the scale). Grad Students have a higher peak (twice as high as PhDs) in neutrality, located at the same position as PhDs. Looking at the distribution for sadness, we see two local maxima, the highest maximum and the lowest maximum are in PhDs, hinting that PhDs have higher sadness values and Grad Students have lower sadness values, resulting in e.g. more higher values in disgust.\n",
    "\n",
    "### Academic Status and Affect"
   ]
  },
  {
   "cell_type": "code",
   "execution_count": null,
   "metadata": {},
   "outputs": [],
   "source": [
    "g = sns.pairplot(df_dis_affect_aca, hue = \"Academic Status\")\n",
    "g.fig.suptitle('Pairplot of OpenEAR: Affect using hue = Academic Status', y = 1.02)"
   ]
  },
  {
   "cell_type": "markdown",
   "metadata": {},
   "source": [
    "In General PhDs have higher peaks at aggressive, cheerful, intoxication and nervous. The peak of the distribution of aggresive values of PhDs is at ~0.25. Whereas PhDs have the higher peak, the distribution flattens more quickly for PhDs. The distribution of tiredness and nervousness are quite similar for PhDs and Grad Students.\n",
    "\n",
    "\n",
    "### Level of Interest and Academic Status"
   ]
  },
  {
   "cell_type": "code",
   "execution_count": null,
   "metadata": {},
   "outputs": [],
   "source": [
    "g = sns.pairplot(df_dis_loi_aca, hue = \"Academic Status\")\n",
    "g.fig.suptitle('Pairplot of OpenEAR: Level of Interest using hue = Academic Status', y = 1.02)"
   ]
  },
  {
   "cell_type": "markdown",
   "metadata": {},
   "source": [
    "In the disinterest distribution we see that Grad Students have a slightly higher peak at ~0.0 with a low variance of the 'bell', whereas PhDs have a slightly wider bell with its peak located at ~0.01. Seeing the scale of the plot, we see these differences, which are tiny. So again for normal and high interest, we assume (disinterest being so small) that the distributions will be mirrored, which is also the case: In the normal interest distribution PhDs have a slightly higher peak at x~=0.75 than Grad Students, but Grad Students have a higher peak at x~=0.2. This implies that for high interest, there will be a peak of Grad Students at x=0.75.\n",
    "\n",
    "### Emotion and Native Speaker"
   ]
  },
  {
   "cell_type": "code",
   "execution_count": null,
   "metadata": {},
   "outputs": [],
   "source": [
    "g = sns.pairplot(df_dis_emotion_nat, hue = \"IsNativeSpeaker\")\n",
    "g.fig.suptitle('Pairplot of OpenEAR: Emotions using hue = IsNativeSpeaker', y = 1.02)"
   ]
  },
  {
   "cell_type": "markdown",
   "metadata": {},
   "source": [
    "### Affect and Native Speaker"
   ]
  },
  {
   "cell_type": "code",
   "execution_count": null,
   "metadata": {},
   "outputs": [],
   "source": [
    "g = sns.pairplot(df_dis_affect_nat, hue = \"IsNativeSpeaker\")\n",
    "g.fig.suptitle('Pairplot of OpenEAR: Emotions using hue = IsNativeSpeaker', y = 1.02)"
   ]
  },
  {
   "cell_type": "markdown",
   "metadata": {},
   "source": [
    "### Level of Interest and Native Speaker"
   ]
  },
  {
   "cell_type": "code",
   "execution_count": null,
   "metadata": {},
   "outputs": [],
   "source": [
    "g = sns.pairplot(df_dis_loi_nat, hue = \"IsNativeSpeaker\")\n",
    "g.fig.suptitle('Pairplot of OpenEAR: Emotions using hue = IsNativeSpeaker', y = 1.02)"
   ]
  },
  {
   "cell_type": "markdown",
   "metadata": {},
   "source": [
    "## Box Plots\n",
    "### Start with Sex"
   ]
  },
  {
   "cell_type": "code",
   "execution_count": null,
   "metadata": {},
   "outputs": [],
   "source": [
    "hp.boxPlots([df_dis_emotion_sex,df_dis_affect_sex, df_dis_loi_sex], 'Sex', ['Emotion', 'Affect', 'Level of Interest'])"
   ]
  },
  {
   "cell_type": "markdown",
   "metadata": {},
   "source": [
    "### Go on with Academic Status"
   ]
  },
  {
   "cell_type": "code",
   "execution_count": null,
   "metadata": {},
   "outputs": [],
   "source": [
    "hp.boxPlots([df_dis_emotion_aca,df_dis_affect_aca, df_dis_loi_aca], 'Academic Status', ['Emotion', 'Affect', 'Level of Interest'])"
   ]
  },
  {
   "cell_type": "markdown",
   "metadata": {},
   "source": [
    "### Go on with Native Speaker"
   ]
  },
  {
   "cell_type": "code",
   "execution_count": null,
   "metadata": {},
   "outputs": [],
   "source": [
    "hp.boxPlots([df_dis_emotion_nat,df_dis_affect_nat, df_dis_loi_nat], 'IsNativeSpeaker', ['Emotion', 'Affect', 'Level of Interest'])"
   ]
  },
  {
   "cell_type": "code",
   "execution_count": null,
   "metadata": {},
   "outputs": [],
   "source": []
  }
 ],
 "metadata": {
  "kernelspec": {
   "display_name": "Python 3",
   "language": "python",
   "name": "python3"
  },
  "language_info": {
   "codemirror_mode": {
    "name": "ipython",
    "version": 3
   },
   "file_extension": ".py",
   "mimetype": "text/x-python",
   "name": "python",
   "nbconvert_exporter": "python",
   "pygments_lexer": "ipython3",
   "version": "3.7.0"
  }
 },
 "nbformat": 4,
 "nbformat_minor": 2
}
