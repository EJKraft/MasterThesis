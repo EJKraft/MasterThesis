{
 "cells": [
  {
   "cell_type": "markdown",
   "metadata": {},
   "source": [
    "# Kruska Wallis Test"
   ]
  },
  {
   "cell_type": "markdown",
   "metadata": {},
   "source": [
    "## Import relevant libraries"
   ]
  },
  {
   "cell_type": "code",
   "execution_count": 1,
   "metadata": {},
   "outputs": [],
   "source": [
    "import numpy as np\n",
    "import pandas as pd\n",
    "from os import listdir\n",
    "import matplotlib.pyplot as plt\n",
    "import itertools as it\n",
    "from statsmodels.sandbox.stats.multicomp import multipletests\n",
    "import statsmodels.api as sm\n",
    "#import nltk\n",
    "import scipy.stats as st\n",
    "import statsmodels.formula.api as smf\n",
    "import seaborn as sns\n",
    "import Helper as hp"
   ]
  },
  {
   "cell_type": "markdown",
   "metadata": {},
   "source": [
    "## Load .csv data with results of OpenSMILE Analysis\n",
    "First we load .csv data and clean it (removing of NaNs), then we store information of all files in seperate panda dataframes containing information about affect, emotion and valence/arousal for all participants."
   ]
  },
  {
   "cell_type": "code",
   "execution_count": 2,
   "metadata": {},
   "outputs": [],
   "source": [
    "data = pd.read_csv(\"CHI_2019_FULL.csv\")\n",
    "\n",
    "#Set Labels \n",
    "emotion_label = ['Anger', 'Boredom', 'Disgust', 'Fear', 'Happiness', 'Emo_Neutral', 'Sadness']\n",
    "affect_label = ['Aggressiv', 'Cheerful', 'Intoxicated', 'Nervous', 'Aff_Neutral', 'Tired']\n",
    "loi_label = ['Disinterest', 'Normal', 'High Interest']\n",
    "\n",
    "#Get specific data and save it into new data frames\n",
    "# We use the pandas .copy(deep=True) function to prevent the SettingWithCopyWarning we would otherwise get. Since we do\n",
    "# not write, but only read from the data, the warning does not affect the data frames\n",
    "df_emotion = data[['Anger', 'Boredom', 'Disgust', 'Fear', 'Happiness', 'Emo_Neutral', 'Sadness', 'Filename']].copy(deep=True)\n",
    "df_affect = data[['Aggressiv', 'Cheerful', 'Intoxicated', 'Nervous', 'Aff_Neutral', 'Tired', 'Filename']].copy(deep=True)\n",
    "df_loi = data[['Disinterest', 'Normal', 'High Interest', 'Filename']].copy(deep=True)\n",
    "df_ar_val = data[['Arousal', 'Valence', 'Filename']].copy(deep=True)\n",
    "#For further usage, we want to append the CharacterID as a column, which is saved with other information in the filename\n",
    "#Since we only want the digits, we can remove all non-digit characters of the filename column and append the column to the df\n",
    "\n",
    "df_emotion['Char_ID'] = df_emotion['Filename'].replace('\\D+','', regex = True).copy(deep=True)\n",
    "df_affect['Char_ID'] = df_affect['Filename'].replace('\\D+','', regex = True).copy(deep=True)\n",
    "df_loi['Char_ID'] = df_loi['Filename'].replace('\\D+','', regex = True).copy(deep=True)\n",
    "df_ar_val['Char_ID'] = df_ar_val['Filename'].replace('\\D+','', regex = True).copy(deep=True)"
   ]
  },
  {
   "cell_type": "markdown",
   "metadata": {},
   "source": [
    "## Let's load information about the speakers\n",
    "The speaker ID is saved in a single .csv file containing four important columns: ID, Age, Sex and Acadedmic Status. Since before loaded OpenSMILE csv files are named using the corresponding index (ex. speaker with id 0 has two files 0_a.csv and 0_b.csv), so that a link can be created"
   ]
  },
  {
   "cell_type": "code",
   "execution_count": 3,
   "metadata": {},
   "outputs": [],
   "source": [
    "char_data = pd.read_csv(\"CHI_2019_CharacterData.csv\")  \n",
    "\n",
    "#Join above tables and Character Tables\n",
    "\n",
    "#To Join DataFrames we have to cast the column on which we want to join to int, so that both columns have the same data type\n",
    "char_data['ID'] = char_data['ID'].astype(int)\n",
    "df_ar_val['Char_ID'] = df_ar_val['Char_ID'].astype(int)\n",
    "df_emotion['Char_ID'] = df_emotion['Char_ID'].astype(int)\n",
    "df_affect['Char_ID'] = df_affect['Char_ID'].astype(int)\n",
    "df_loi['Char_ID'] = df_loi['Char_ID'].astype(int)\n",
    "\n",
    "#Safe new data frames\n",
    "df_ar_val_char = df_ar_val.merge(char_data, how = 'left', left_on='Char_ID', right_on='ID')\n",
    "df_emotion_char = df_emotion.merge(char_data, how = 'left', left_on='Char_ID', right_on= 'ID')\n",
    "df_affect_char = df_affect.merge(char_data, how = 'left', left_on='Char_ID', right_on= 'ID')\n",
    "df_loi_char = df_loi.merge(char_data, how = 'left', left_on='Char_ID', right_on= 'ID')"
   ]
  },
  {
   "cell_type": "markdown",
   "metadata": {},
   "source": [
    "## Kruska-Wallis Test\n",
    "We Start with characteristic sex. The null hypothesis states that the two categorical variables sex and e.g. emotion are independent.\n",
    "Since Kruska-Wallis does not work with measurement data, we convert our data as we did when using the chi² test. We do that by calculating the quartiles and then iterating over the data points and categorize them into '1st quartile', '2nd quartile', '3rd quartile' and '4th quartile'. We do that for every group, e.g. once for females and once for males and use these observation counts as input for our Kruska-Wallis test.\n",
    "The funktion used is from scipy.stats and is called in the hp.kruskal_wallis() function, which iterates over all attributes of a data frame (e.g. when data frame of emotion is given, it iterates over all different emotions) and generates a table for each attribute of size 2x4 (Male/Female x 4 Quartiles)."
   ]
  },
  {
   "cell_type": "code",
   "execution_count": 4,
   "metadata": {},
   "outputs": [
    {
     "name": "stdout",
     "output_type": "stream",
     "text": [
      "DOF: 1\n",
      "EMOTION\n",
      "\n",
      "Anger: \t\tKruskalResult(statistic=2.1341463414634134, pvalue=0.14405063390965472)\n",
      "Boredom: \tKruskalResult(statistic=1.3333333333333321, pvalue=0.2482130789899204)\n",
      "Disgust: \tKruskalResult(statistic=0.75, pvalue=0.3864762307712325)\n",
      "Fear: \t\tKruskalResult(statistic=1.3333333333333321, pvalue=0.2482130789899204)\n",
      "Happiness: \tKruskalResult(statistic=1.7078313253012047, pvalue=0.19126698687886493)\n",
      "Emo_Neutral: \tKruskalResult(statistic=2.083333333333332, pvalue=0.14891467317876178)\n",
      "Sadness: \tKruskalResult(statistic=0.33333333333333215, pvalue=0.5637028616507738)\n",
      "\n",
      "AFFECT\n",
      "\n",
      "Aggressiv: \tKruskalResult(statistic=0.75, pvalue=0.3864762307712325)\n",
      "Cheerful: \tKruskalResult(statistic=0.19936708860759494, pvalue=0.6552321995577776)\n",
      "Intoxicated: \tKruskalResult(statistic=1.3333333333333321, pvalue=0.2482130789899204)\n",
      "Nervous: \tKruskalResult(statistic=1.7078313253012047, pvalue=0.19126698687886493)\n",
      "Aff_Neutral: \tKruskalResult(statistic=4.1829268292682915, pvalue=0.040833125861299606)\n",
      "Tired: \t\tKruskalResult(statistic=0.33333333333333215, pvalue=0.5637028616507738)\n",
      "\n",
      "AROUSAL-VALENCE\n",
      "\n",
      "Arousal: \tKruskalResult(statistic=0.33333333333333215, pvalue=0.5637028616507738)\n",
      "Valence: \tKruskalResult(statistic=2.1084337349397577, pvalue=0.14648918393520458)\n",
      "\n",
      "LEVEL OF INTEREST\n",
      "\n",
      "Disinterest: \tKruskalResult(statistic=0.75, pvalue=0.3864762307712325)\n",
      "Normal: \tKruskalResult(statistic=0.75, pvalue=0.3864762307712325)\n",
      "High Interest: \tKruskalResult(statistic=1.0854430379746822, pvalue=0.2974830944159293)\n"
     ]
    }
   ],
   "source": [
    "print('DOF: 1') #Because of two groups, DOF is 1\n",
    "print('EMOTION\\n')\n",
    "emo_sex = hp.kruskal_wallis(df_emotion_char, emotion_label, 'Sex', True)\n",
    "print('\\nAFFECT\\n')\n",
    "aff_sex = hp.kruskal_wallis(df_affect_char, affect_label,'Sex',  True)\n",
    "print('\\nAROUSAL-VALENCE\\n')\n",
    "ar_val_sex = hp.kruskal_wallis(df_ar_val_char, ['Arousal', 'Valence'], 'Sex', True)\n",
    "print('\\nLEVEL OF INTEREST\\n')\n",
    "loi_sex = hp.kruskal_wallis(df_loi_char, loi_label, 'Sex', True)"
   ]
  },
  {
   "cell_type": "markdown",
   "metadata": {},
   "source": [
    "Now move on to academic status, the hypothesis being that the variables academic status and e.g. emotion are independent."
   ]
  },
  {
   "cell_type": "code",
   "execution_count": 5,
   "metadata": {},
   "outputs": [
    {
     "name": "stdout",
     "output_type": "stream",
     "text": [
      "DOF: 1\n",
      "EMOTION\n",
      "\n",
      "Anger: \t\tKruskalResult(statistic=0.5271084337349385, pvalue=0.4678250772849709)\n",
      "Boredom: \tKruskalResult(statistic=0.5271084337349385, pvalue=0.4678250772849709)\n",
      "Disgust: \tKruskalResult(statistic=0.08333333333333215, pvalue=0.7728299926844492)\n",
      "Fear: \t\tKruskalResult(statistic=1.4177215189873404, pvalue=0.23377879418404465)\n",
      "Happiness: \tKruskalResult(statistic=1.0331325301204808, pvalue=0.30942406036465636)\n",
      "Emo_Neutral: \tKruskalResult(statistic=1.3333333333333321, pvalue=0.2482130789899204)\n",
      "Sadness: \tKruskalResult(statistic=0.33734939759036026, pvalue=0.5613632102341244)\n",
      "\n",
      "AFFECT\n",
      "\n",
      "Aggressiv: \tKruskalResult(statistic=0.021084337349396392, pvalue=0.8845494388529656)\n",
      "Cheerful: \tKruskalResult(statistic=0.19207317073170732, pvalue=0.6611967079369339)\n",
      "Intoxicated: \tKruskalResult(statistic=0.75, pvalue=0.3864762307712325)\n",
      "Nervous: \tKruskalResult(statistic=0.21283783783783786, pvalue=0.6445521705158992)\n",
      "Aff_Neutral: \tKruskalResult(statistic=0.5271084337349385, pvalue=0.4678250772849709)\n",
      "Tired: \t\tKruskalResult(statistic=0.08433734939758916, pvalue=0.7715034091403098)\n",
      "\n",
      "AROUSAL-VALENCE\n",
      "\n",
      "Arousal: \tKruskalResult(statistic=0.08333333333333215, pvalue=0.7728299926844492)\n",
      "Valence: \tKruskalResult(statistic=0.08333333333333215, pvalue=0.7728299926844492)\n",
      "\n",
      "LEVEL OF INTEREST\n",
      "\n",
      "Disinterest: \tKruskalResult(statistic=0.021084337349396392, pvalue=0.8845494388529656)\n",
      "Normal: \tKruskalResult(statistic=0.021084337349396392, pvalue=0.8845494388529656)\n",
      "High Interest: \tKruskalResult(statistic=0.19207317073170732, pvalue=0.6611967079369339)\n"
     ]
    }
   ],
   "source": [
    "print('DOF: 1') # Only two groups, so 2-1 = DOF\n",
    "print('EMOTION\\n')\n",
    "emo_aca = hp.kruskal_wallis(df_emotion_char, emotion_label, 'Academic', True)\n",
    "print('\\nAFFECT\\n')\n",
    "aff_aca = hp.kruskal_wallis(df_affect_char, affect_label,'Academic',  True)\n",
    "print('\\nAROUSAL-VALENCE\\n')\n",
    "ar_val_aca = hp.kruskal_wallis(df_ar_val_char, ['Arousal', 'Valence'], 'Academic', True)\n",
    "print('\\nLEVEL OF INTEREST\\n')\n",
    "loi_aca = hp.kruskal_wallis(df_loi_char, loi_label, 'Academic', True)"
   ]
  },
  {
   "cell_type": "markdown",
   "metadata": {},
   "source": [
    "Now let's look at Native Speaker"
   ]
  },
  {
   "cell_type": "code",
   "execution_count": 6,
   "metadata": {},
   "outputs": [
    {
     "name": "stdout",
     "output_type": "stream",
     "text": [
      "DOF: 2\n",
      "EMOTION\n",
      "\n",
      "Anger: \t\tKruskalResult(statistic=7.4201754385964955, pvalue=0.024475376214658978)\n",
      "Boredom: \tKruskalResult(statistic=7.4726148409894035, pvalue=0.023841979190511814)\n",
      "Disgust: \tKruskalResult(statistic=7.4201754385964955, pvalue=0.024475376214658978)\n",
      "Fear: \t\tKruskalResult(statistic=7.555160142348758, pvalue=0.02287798759336179)\n",
      "Happiness: \tKruskalResult(statistic=7.523767605633803, pvalue=0.023239919686917417)\n",
      "Emo_Neutral: \tKruskalResult(statistic=7.449122807017548, pvalue=0.024123678667676726)\n",
      "Sadness: \tKruskalResult(statistic=7.59154929577465, pvalue=0.02246549622526589)\n",
      "\n",
      "AFFECT\n",
      "\n",
      "Aggressiv: \tKruskalResult(statistic=7.423076923076927, pvalue=0.024439894496176142)\n",
      "Cheerful: \tKruskalResult(statistic=7.410526315789476, pvalue=0.024593744477959093)\n",
      "Intoxicated: \tKruskalResult(statistic=7.384615384615387, pvalue=0.024914440787632705)\n",
      "Nervous: \tKruskalResult(statistic=7.645390070921987, pvalue=0.02186878425495871)\n",
      "Aff_Neutral: \tKruskalResult(statistic=7.4753521126760605, pvalue=0.02380937052300148)\n",
      "Tired: \t\tKruskalResult(statistic=7.564912280701757, pvalue=0.022766704475816472)\n",
      "\n",
      "AROUSAL-VALENCE\n",
      "\n",
      "Arousal: \tKruskalResult(statistic=7.555160142348758, pvalue=0.02287798759336179)\n",
      "Valence: \tKruskalResult(statistic=7.523767605633803, pvalue=0.023239919686917417)\n",
      "\n",
      "LEVEL OF INTEREST\n",
      "\n",
      "Disinterest: \tKruskalResult(statistic=7.4201754385964955, pvalue=0.024475376214658978)\n",
      "Normal: \tKruskalResult(statistic=7.423076923076927, pvalue=0.024439894496176142)\n",
      "High Interest: \tKruskalResult(statistic=7.4753521126760605, pvalue=0.02380937052300148)\n"
     ]
    }
   ],
   "source": [
    "print('DOF: 2') #2 DOF because group count is 3, so 3-1 = 2\n",
    "print('EMOTION\\n')\n",
    "emo_sp = hp.kruskal_wallis(df_emotion_char, emotion_label, 'IsNativeSpeaker', True)\n",
    "print('\\nAFFECT\\n')\n",
    "aff_sp = hp.kruskal_wallis(df_affect_char, affect_label,'IsNativeSpeaker',  True)\n",
    "print('\\nAROUSAL-VALENCE\\n')\n",
    "ar_val_sp = hp.kruskal_wallis(df_ar_val_char, ['Arousal', 'Valence'], 'IsNativeSpeaker', True)\n",
    "print('\\nLEVEL OF INTEREST\\n')\n",
    "loi_sp = hp.kruskal_wallis(df_loi_char, loi_label, 'IsNativeSpeaker', True)"
   ]
  },
  {
   "cell_type": "code",
   "execution_count": null,
   "metadata": {},
   "outputs": [],
   "source": []
  }
 ],
 "metadata": {
  "kernelspec": {
   "display_name": "Python 3",
   "language": "python",
   "name": "python3"
  },
  "language_info": {
   "codemirror_mode": {
    "name": "ipython",
    "version": 3
   },
   "file_extension": ".py",
   "mimetype": "text/x-python",
   "name": "python",
   "nbconvert_exporter": "python",
   "pygments_lexer": "ipython3",
   "version": "3.7.0"
  }
 },
 "nbformat": 4,
 "nbformat_minor": 2
}
