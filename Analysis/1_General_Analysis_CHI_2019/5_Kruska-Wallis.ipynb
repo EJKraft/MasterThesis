{
 "cells": [
  {
   "cell_type": "markdown",
   "metadata": {},
   "source": [
    "# Kruska Wallis Test"
   ]
  },
  {
   "cell_type": "markdown",
   "metadata": {},
   "source": [
    "## Import relevant libraries"
   ]
  },
  {
   "cell_type": "code",
   "execution_count": 1,
   "metadata": {},
   "outputs": [],
   "source": [
    "import numpy as np\n",
    "import pandas as pd\n",
    "from os import listdir\n",
    "import matplotlib.pyplot as plt\n",
    "import itertools as it\n",
    "from statsmodels.sandbox.stats.multicomp import multipletests\n",
    "import statsmodels.api as sm\n",
    "#import nltk\n",
    "import scipy.stats as st\n",
    "import statsmodels.formula.api as smf\n",
    "import seaborn as sns\n",
    "import Helper as hp"
   ]
  },
  {
   "cell_type": "markdown",
   "metadata": {},
   "source": [
    "## Load .csv data with results of OpenSMILE Analysis\n",
    "First we load .csv data and clean it (removing of NaNs), then we store information of all files in seperate panda dataframes containing information about affect, emotion and valence/arousal for all participants."
   ]
  },
  {
   "cell_type": "code",
   "execution_count": 2,
   "metadata": {},
   "outputs": [],
   "source": [
    "data = pd.read_csv(\"CHI_2019_FULL.csv\")\n",
    "\n",
    "#Set Labels \n",
    "emotion_label = ['Anger', 'Boredom', 'Disgust', 'Fear', 'Happiness', 'Emo_Neutral', 'Sadness']\n",
    "affect_label = ['Aggressiv', 'Cheerful', 'Intoxicated', 'Nervous', 'Aff_Neutral', 'Tired']\n",
    "loi_label = ['Disinterest', 'Normal', 'High Interest']\n",
    "\n",
    "#Get specific data and save it into new data frames\n",
    "# We use the pandas .copy(deep=True) function to prevent the SettingWithCopyWarning we would otherwise get. Since we do\n",
    "# not write, but only read from the data, the warning does not affect the data frames\n",
    "df_emotion = data[['Anger', 'Boredom', 'Disgust', 'Fear', 'Happiness', 'Emo_Neutral', 'Sadness', 'Filename']].copy(deep=True)\n",
    "df_affect = data[['Aggressiv', 'Cheerful', 'Intoxicated', 'Nervous', 'Aff_Neutral', 'Tired', 'Filename']].copy(deep=True)\n",
    "df_loi = data[['Disinterest', 'Normal', 'High Interest', 'Filename']].copy(deep=True)\n",
    "df_ar_val = data[['Arousal', 'Valence', 'Filename']].copy(deep=True)\n",
    "#For further usage, we want to append the CharacterID as a column, which is saved with other information in the filename\n",
    "#Since we only want the digits, we can remove all non-digit characters of the filename column and append the column to the df\n",
    "\n",
    "df_emotion['Char_ID'] = df_emotion['Filename'].replace('\\D+','', regex = True).copy(deep=True)\n",
    "df_affect['Char_ID'] = df_affect['Filename'].replace('\\D+','', regex = True).copy(deep=True)\n",
    "df_loi['Char_ID'] = df_loi['Filename'].replace('\\D+','', regex = True).copy(deep=True)\n",
    "df_ar_val['Char_ID'] = df_ar_val['Filename'].replace('\\D+','', regex = True).copy(deep=True)"
   ]
  },
  {
   "cell_type": "markdown",
   "metadata": {},
   "source": [
    "## Let's load information about the speakers\n",
    "The speaker ID is saved in a single .csv file containing four important columns: ID, Age, Sex and Acadedmic Status. Since before loaded OpenSMILE csv files are named using the corresponding index (ex. speaker with id 0 has two files 0_a.csv and 0_b.csv), so that a link can be created"
   ]
  },
  {
   "cell_type": "code",
   "execution_count": 3,
   "metadata": {},
   "outputs": [],
   "source": [
    "char_data = pd.read_csv(\"CHI_2019_CharacterData.csv\")  \n",
    "\n",
    "#Join above tables and Character Tables\n",
    "\n",
    "#To Join DataFrames we have to cast the column on which we want to join to int, so that both columns have the same data type\n",
    "char_data['ID'] = char_data['ID'].astype(int)\n",
    "df_ar_val['Char_ID'] = df_ar_val['Char_ID'].astype(int)\n",
    "df_emotion['Char_ID'] = df_emotion['Char_ID'].astype(int)\n",
    "df_affect['Char_ID'] = df_affect['Char_ID'].astype(int)\n",
    "df_loi['Char_ID'] = df_loi['Char_ID'].astype(int)\n",
    "\n",
    "#Safe new data frames\n",
    "df_ar_val_char = df_ar_val.merge(char_data, how = 'left', left_on='Char_ID', right_on='ID')\n",
    "df_emotion_char = df_emotion.merge(char_data, how = 'left', left_on='Char_ID', right_on= 'ID')\n",
    "df_affect_char = df_affect.merge(char_data, how = 'left', left_on='Char_ID', right_on= 'ID')\n",
    "df_loi_char = df_loi.merge(char_data, how = 'left', left_on='Char_ID', right_on= 'ID')"
   ]
  },
  {
   "cell_type": "markdown",
   "metadata": {},
   "source": [
    "## Kruskal-Wallis Test\n",
    "\n",
    "I implemented a function returning the results of the Kruska-Wallis test, but I am not really sure if I am inputing my data in a correct way. The function works as described in the Method 1 Section below and is used in the lowest cells. To compare, I implemented two different methods for my input data, described below. The results are very different from each other, so I don't know which way is the correct way to input my data in Kruskal-Wallis.\n",
    "\n",
    "Method 1 calculates a Frequency Table just as in the [4_CHI_Square.ipynb](chi² test). It first calculates the quartiles of a given attribute, e.g. anger, and bins the different groups accordingly. So we have four columns: 1st Quartile, 2nd Quartile, 3rd Quartile and 4th Quartile. The Quartiles are printed below. Then, each row (Male/Female) is used as input for the scipy.stats.kruskal() function.\n",
    "\n",
    "Method 2 uses the raw float data, so the probabilities of a given emotion, e.g. 'Anger'. The data set is split by male/female and is then used for scipy.stats.kruskal() function."
   ]
  },
  {
   "cell_type": "markdown",
   "metadata": {},
   "source": [
    "### Method 1: Using Quartiles frequency count table as input on example attribute 'Anger'"
   ]
  },
  {
   "cell_type": "code",
   "execution_count": 4,
   "metadata": {},
   "outputs": [
    {
     "name": "stdout",
     "output_type": "stream",
     "text": [
      "1st Quartile: x <= 0.0009285000000000001\n",
      "2nd Quartile: x > 0.0009285000000000001 && x <= 0.003426\n",
      "3rd Quartile: x > 0.003426 && x <= 0.0152995\n",
      "4th Quartile: x > 0.0152995\n"
     ]
    },
    {
     "data": {
      "text/html": [
       "<div>\n",
       "<style scoped>\n",
       "    .dataframe tbody tr th:only-of-type {\n",
       "        vertical-align: middle;\n",
       "    }\n",
       "\n",
       "    .dataframe tbody tr th {\n",
       "        vertical-align: top;\n",
       "    }\n",
       "\n",
       "    .dataframe thead th {\n",
       "        text-align: right;\n",
       "    }\n",
       "</style>\n",
       "<table border=\"1\" class=\"dataframe\">\n",
       "  <thead>\n",
       "    <tr style=\"text-align: right;\">\n",
       "      <th></th>\n",
       "      <th>1st Quartile</th>\n",
       "      <th>2nd Quartile</th>\n",
       "      <th>3rd Quartile</th>\n",
       "      <th>4th Quartile</th>\n",
       "    </tr>\n",
       "  </thead>\n",
       "  <tbody>\n",
       "    <tr>\n",
       "      <th>Male</th>\n",
       "      <td>95</td>\n",
       "      <td>95</td>\n",
       "      <td>84</td>\n",
       "      <td>72</td>\n",
       "    </tr>\n",
       "    <tr>\n",
       "      <th>Female</th>\n",
       "      <td>64</td>\n",
       "      <td>64</td>\n",
       "      <td>74</td>\n",
       "      <td>87</td>\n",
       "    </tr>\n",
       "  </tbody>\n",
       "</table>\n",
       "</div>"
      ],
      "text/plain": [
       "        1st Quartile  2nd Quartile  3rd Quartile  4th Quartile\n",
       "Male              95            95            84            72\n",
       "Female            64            64            74            87"
      ]
     },
     "execution_count": 4,
     "metadata": {},
     "output_type": "execute_result"
    }
   ],
   "source": [
    "#calcFrequencyTable() returns an array of pd.DataFrame, where the first table corresponds to first attribute of \n",
    "#emotion label, so 0 = Anger\n",
    "anger_table = hp.calcFrequencyTable(df_emotion_char, emotion_label, 'Sex')[0]\n",
    "quarts = df_emotion['Anger'].quantile([.25,.5,.75]) # These quantiles are used to calculate the table\n",
    "print('1st Quartile: x <= ' + str(quarts[0.25]))\n",
    "print('2nd Quartile: x > ' + str(quarts[0.25]) + ' && x <= ' + str(quarts[0.5]))\n",
    "print('3rd Quartile: x > ' + str(quarts[0.5]) + ' && x <= ' + str(quarts[0.75]))\n",
    "print('4th Quartile: x > ' + str(quarts[0.75]))\n",
    "anger_table"
   ]
  },
  {
   "cell_type": "code",
   "execution_count": 5,
   "metadata": {},
   "outputs": [
    {
     "data": {
      "text/plain": [
       "KruskalResult(statistic=2.1341463414634134, pvalue=0.14405063390965472)"
      ]
     },
     "execution_count": 5,
     "metadata": {},
     "output_type": "execute_result"
    }
   ],
   "source": [
    "#Now that we have our table, we get our groups by selecting the rows\n",
    "angry_males = anger_table.iloc[0]\n",
    "angry_females = anger_table.iloc[1]\n",
    "\n",
    "#Now we can use scipy.stats kruskal()\n",
    "st.kruskal(angry_males, angry_females)"
   ]
  },
  {
   "cell_type": "markdown",
   "metadata": {},
   "source": [
    "### Method 2: Using raw float data on example attribute 'Anger'"
   ]
  },
  {
   "cell_type": "code",
   "execution_count": 6,
   "metadata": {},
   "outputs": [
    {
     "data": {
      "text/plain": [
       "KruskalResult(statistic=12.10792219532011, pvalue=0.00050208051136296)"
      ]
     },
     "execution_count": 6,
     "metadata": {},
     "output_type": "execute_result"
    }
   ],
   "source": [
    "#We split our data in female/male\n",
    "male = df_emotion_char.loc[df_loi_char['Sex'] == 'Male']\n",
    "female = df_emotion_char.loc[df_loi_char['Sex'] == 'Female']\n",
    "#And run the test\n",
    "st.kruskal(male['Anger'], female['Anger'])"
   ]
  },
  {
   "cell_type": "markdown",
   "metadata": {},
   "source": [
    "As you can see the results of both methods vary very much, method 2 even returning a significant p-value. Which method is correct? Or are both wrong and there is an other way to input m\n",
    "\n",
    "\n",
    "# Kruskal-Wallis Test\n",
    "\n",
    "The below cells use the helper function kruskal_wallis(), which works as described above in Method 1. If a new input method has to be used, this function will be updated."
   ]
  },
  {
   "cell_type": "code",
   "execution_count": 7,
   "metadata": {},
   "outputs": [
    {
     "name": "stdout",
     "output_type": "stream",
     "text": [
      "DOF: 1\n",
      "EMOTION\n",
      "\n",
      "Anger: \t\tKruskalResult(statistic=2.1341463414634134, pvalue=0.14405063390965472)\n",
      "Boredom: \tKruskalResult(statistic=1.3333333333333321, pvalue=0.2482130789899204)\n",
      "Disgust: \tKruskalResult(statistic=0.75, pvalue=0.3864762307712325)\n",
      "Fear: \t\tKruskalResult(statistic=1.3333333333333321, pvalue=0.2482130789899204)\n",
      "Happiness: \tKruskalResult(statistic=1.7078313253012047, pvalue=0.19126698687886493)\n",
      "Emo_Neutral: \tKruskalResult(statistic=2.083333333333332, pvalue=0.14891467317876178)\n",
      "Sadness: \tKruskalResult(statistic=0.33333333333333215, pvalue=0.5637028616507738)\n",
      "\n",
      "AFFECT\n",
      "\n",
      "Aggressiv: \tKruskalResult(statistic=0.75, pvalue=0.3864762307712325)\n",
      "Cheerful: \tKruskalResult(statistic=0.19936708860759494, pvalue=0.6552321995577776)\n",
      "Intoxicated: \tKruskalResult(statistic=1.3333333333333321, pvalue=0.2482130789899204)\n",
      "Nervous: \tKruskalResult(statistic=1.7078313253012047, pvalue=0.19126698687886493)\n",
      "Aff_Neutral: \tKruskalResult(statistic=4.1829268292682915, pvalue=0.040833125861299606)\n",
      "Tired: \t\tKruskalResult(statistic=0.33333333333333215, pvalue=0.5637028616507738)\n",
      "\n",
      "AROUSAL-VALENCE\n",
      "\n",
      "Arousal: \tKruskalResult(statistic=0.33333333333333215, pvalue=0.5637028616507738)\n",
      "Valence: \tKruskalResult(statistic=2.1084337349397577, pvalue=0.14648918393520458)\n",
      "\n",
      "LEVEL OF INTEREST\n",
      "\n",
      "Disinterest: \tKruskalResult(statistic=0.75, pvalue=0.3864762307712325)\n",
      "Normal: \tKruskalResult(statistic=0.75, pvalue=0.3864762307712325)\n",
      "High Interest: \tKruskalResult(statistic=1.0854430379746822, pvalue=0.2974830944159293)\n"
     ]
    }
   ],
   "source": [
    "print('DOF: 1') #Because of two groups, DOF is 1\n",
    "print('EMOTION\\n')\n",
    "emo_sex = hp.kruskal_wallis(df_emotion_char, emotion_label, 'Sex', True)\n",
    "print('\\nAFFECT\\n')\n",
    "aff_sex = hp.kruskal_wallis(df_affect_char, affect_label,'Sex',  True)\n",
    "print('\\nAROUSAL-VALENCE\\n')\n",
    "ar_val_sex = hp.kruskal_wallis(df_ar_val_char, ['Arousal', 'Valence'], 'Sex', True)\n",
    "print('\\nLEVEL OF INTEREST\\n')\n",
    "loi_sex = hp.kruskal_wallis(df_loi_char, loi_label, 'Sex', True)"
   ]
  },
  {
   "cell_type": "markdown",
   "metadata": {},
   "source": [
    "Now move on to academic status, the hypothesis being that the variables academic status and e.g. emotion are independent."
   ]
  },
  {
   "cell_type": "code",
   "execution_count": 8,
   "metadata": {},
   "outputs": [
    {
     "name": "stdout",
     "output_type": "stream",
     "text": [
      "DOF: 1\n",
      "EMOTION\n",
      "\n",
      "Anger: \t\tKruskalResult(statistic=0.5271084337349385, pvalue=0.4678250772849709)\n",
      "Boredom: \tKruskalResult(statistic=0.5271084337349385, pvalue=0.4678250772849709)\n",
      "Disgust: \tKruskalResult(statistic=0.08333333333333215, pvalue=0.7728299926844492)\n",
      "Fear: \t\tKruskalResult(statistic=1.4177215189873404, pvalue=0.23377879418404465)\n",
      "Happiness: \tKruskalResult(statistic=1.0331325301204808, pvalue=0.30942406036465636)\n",
      "Emo_Neutral: \tKruskalResult(statistic=1.3333333333333321, pvalue=0.2482130789899204)\n",
      "Sadness: \tKruskalResult(statistic=0.33734939759036026, pvalue=0.5613632102341244)\n",
      "\n",
      "AFFECT\n",
      "\n",
      "Aggressiv: \tKruskalResult(statistic=0.021084337349396392, pvalue=0.8845494388529656)\n",
      "Cheerful: \tKruskalResult(statistic=0.19207317073170732, pvalue=0.6611967079369339)\n",
      "Intoxicated: \tKruskalResult(statistic=0.75, pvalue=0.3864762307712325)\n",
      "Nervous: \tKruskalResult(statistic=0.21283783783783786, pvalue=0.6445521705158992)\n",
      "Aff_Neutral: \tKruskalResult(statistic=0.5271084337349385, pvalue=0.4678250772849709)\n",
      "Tired: \t\tKruskalResult(statistic=0.08433734939758916, pvalue=0.7715034091403098)\n",
      "\n",
      "AROUSAL-VALENCE\n",
      "\n",
      "Arousal: \tKruskalResult(statistic=0.08333333333333215, pvalue=0.7728299926844492)\n",
      "Valence: \tKruskalResult(statistic=0.08333333333333215, pvalue=0.7728299926844492)\n",
      "\n",
      "LEVEL OF INTEREST\n",
      "\n",
      "Disinterest: \tKruskalResult(statistic=0.021084337349396392, pvalue=0.8845494388529656)\n",
      "Normal: \tKruskalResult(statistic=0.021084337349396392, pvalue=0.8845494388529656)\n",
      "High Interest: \tKruskalResult(statistic=0.19207317073170732, pvalue=0.6611967079369339)\n"
     ]
    }
   ],
   "source": [
    "print('DOF: 1') # Only two groups, so 2-1 = DOF\n",
    "print('EMOTION\\n')\n",
    "emo_aca = hp.kruskal_wallis(df_emotion_char, emotion_label, 'Academic', True)\n",
    "print('\\nAFFECT\\n')\n",
    "aff_aca = hp.kruskal_wallis(df_affect_char, affect_label,'Academic',  True)\n",
    "print('\\nAROUSAL-VALENCE\\n')\n",
    "ar_val_aca = hp.kruskal_wallis(df_ar_val_char, ['Arousal', 'Valence'], 'Academic', True)\n",
    "print('\\nLEVEL OF INTEREST\\n')\n",
    "loi_aca = hp.kruskal_wallis(df_loi_char, loi_label, 'Academic', True)"
   ]
  },
  {
   "cell_type": "markdown",
   "metadata": {},
   "source": [
    "Now let's look at Native Speaker"
   ]
  },
  {
   "cell_type": "code",
   "execution_count": 9,
   "metadata": {},
   "outputs": [
    {
     "name": "stdout",
     "output_type": "stream",
     "text": [
      "DOF: 2\n",
      "EMOTION\n",
      "\n",
      "Anger: \t\tKruskalResult(statistic=7.4201754385964955, pvalue=0.024475376214658978)\n",
      "Boredom: \tKruskalResult(statistic=7.4726148409894035, pvalue=0.023841979190511814)\n",
      "Disgust: \tKruskalResult(statistic=7.4201754385964955, pvalue=0.024475376214658978)\n",
      "Fear: \t\tKruskalResult(statistic=7.555160142348758, pvalue=0.02287798759336179)\n",
      "Happiness: \tKruskalResult(statistic=7.523767605633803, pvalue=0.023239919686917417)\n",
      "Emo_Neutral: \tKruskalResult(statistic=7.449122807017548, pvalue=0.024123678667676726)\n",
      "Sadness: \tKruskalResult(statistic=7.59154929577465, pvalue=0.02246549622526589)\n",
      "\n",
      "AFFECT\n",
      "\n",
      "Aggressiv: \tKruskalResult(statistic=7.423076923076927, pvalue=0.024439894496176142)\n",
      "Cheerful: \tKruskalResult(statistic=7.410526315789476, pvalue=0.024593744477959093)\n",
      "Intoxicated: \tKruskalResult(statistic=7.384615384615387, pvalue=0.024914440787632705)\n",
      "Nervous: \tKruskalResult(statistic=7.645390070921987, pvalue=0.02186878425495871)\n",
      "Aff_Neutral: \tKruskalResult(statistic=7.4753521126760605, pvalue=0.02380937052300148)\n",
      "Tired: \t\tKruskalResult(statistic=7.564912280701757, pvalue=0.022766704475816472)\n",
      "\n",
      "AROUSAL-VALENCE\n",
      "\n",
      "Arousal: \tKruskalResult(statistic=7.555160142348758, pvalue=0.02287798759336179)\n",
      "Valence: \tKruskalResult(statistic=7.523767605633803, pvalue=0.023239919686917417)\n",
      "\n",
      "LEVEL OF INTEREST\n",
      "\n",
      "Disinterest: \tKruskalResult(statistic=7.4201754385964955, pvalue=0.024475376214658978)\n",
      "Normal: \tKruskalResult(statistic=7.423076923076927, pvalue=0.024439894496176142)\n",
      "High Interest: \tKruskalResult(statistic=7.4753521126760605, pvalue=0.02380937052300148)\n"
     ]
    }
   ],
   "source": [
    "print('DOF: 2') #2 DOF because group count is 3, so 3-1 = 2\n",
    "print('EMOTION\\n')\n",
    "emo_sp = hp.kruskal_wallis(df_emotion_char, emotion_label, 'IsNativeSpeaker', True)\n",
    "print('\\nAFFECT\\n')\n",
    "aff_sp = hp.kruskal_wallis(df_affect_char, affect_label,'IsNativeSpeaker',  True)\n",
    "print('\\nAROUSAL-VALENCE\\n')\n",
    "ar_val_sp = hp.kruskal_wallis(df_ar_val_char, ['Arousal', 'Valence'], 'IsNativeSpeaker', True)\n",
    "print('\\nLEVEL OF INTEREST\\n')\n",
    "loi_sp = hp.kruskal_wallis(df_loi_char, loi_label, 'IsNativeSpeaker', True)"
   ]
  },
  {
   "cell_type": "code",
   "execution_count": null,
   "metadata": {},
   "outputs": [],
   "source": []
  }
 ],
 "metadata": {
  "kernelspec": {
   "display_name": "Python 3",
   "language": "python",
   "name": "python3"
  },
  "language_info": {
   "codemirror_mode": {
    "name": "ipython",
    "version": 3
   },
   "file_extension": ".py",
   "mimetype": "text/x-python",
   "name": "python",
   "nbconvert_exporter": "python",
   "pygments_lexer": "ipython3",
   "version": "3.7.0"
  }
 },
 "nbformat": 4,
 "nbformat_minor": 2
}
