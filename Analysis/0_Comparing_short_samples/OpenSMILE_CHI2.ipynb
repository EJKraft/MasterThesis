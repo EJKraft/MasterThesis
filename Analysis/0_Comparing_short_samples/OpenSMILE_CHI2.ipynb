{
 "cells": [
  {
   "cell_type": "markdown",
   "metadata": {},
   "source": [
    "# OpenSMILE Analysis\n",
    "This notebook loads OpenSMILE csv- data, cleans and plots it"
   ]
  },
  {
   "cell_type": "markdown",
   "metadata": {},
   "source": [
    "## Import relevant libraries"
   ]
  },
  {
   "cell_type": "code",
   "execution_count": 1,
   "metadata": {},
   "outputs": [
    {
     "name": "stderr",
     "output_type": "stream",
     "text": [
      "C:\\Users\\user\\Anaconda3\\lib\\site-packages\\statsmodels\\compat\\pandas.py:49: FutureWarning: The Panel class is removed from pandas. Accessing it from the top-level namespace will also be removed in the next version\n",
      "  data_klasses = (pandas.Series, pandas.DataFrame, pandas.Panel)\n"
     ]
    }
   ],
   "source": [
    "import numpy as np\n",
    "import pandas as pd\n",
    "from os import listdir\n",
    "import matplotlib.pyplot as plt\n",
    "import itertools as it\n",
    "from statsmodels.sandbox.stats.multicomp import multipletests\n",
    "import statsmodels.api as sm\n",
    "#import nltk\n",
    "import scipy.stats as st\n",
    "import statsmodels.formula.api as smf\n",
    "import seaborn as sns\n",
    "from math import sqrt\n",
    "import Helper as hp"
   ]
  },
  {
   "cell_type": "markdown",
   "metadata": {},
   "source": [
    "## Load .csv data with results of OpenSMILE Analysis\n",
    "First we load .csv data and clean it (removing of NaNs), then we store information of all files in seperate panda dataframes containing information about affect, emotion and valence/arousal for all participants."
   ]
  },
  {
   "cell_type": "code",
   "execution_count": 2,
   "metadata": {},
   "outputs": [],
   "source": [
    "import numpy as np\n",
    "import pandas as pd\n",
    "from os import listdir\n",
    "import matplotlib.pyplot as plt\n",
    "import itertools as it\n",
    "from statsmodels.sandbox.stats.multicomp import multipletests\n",
    "import statsmodels.api as sm\n",
    "#import nltk\n",
    "import scipy.stats as st\n",
    "import statsmodels.formula.api as smf\n",
    "import seaborn as sns\n",
    "import Helper as hp\n",
    "\n",
    "#Load Data\n",
    "data = pd.read_csv(\"UIST2019_OpenSMILE.csv\")\n",
    "\n",
    "#Set Labels \n",
    "emotion_label = ['Anger', 'Boredom', 'Disgust', 'Fear', 'Happiness', 'Emo_Neutral', 'Sadness']\n",
    "affect_label = ['Aggressiv', 'Cheerful', 'Intoxicated', 'Nervous', 'Aff_Neutral', 'Tired']\n",
    "loi_label = ['Disinterest', 'Normal', 'High Interest']\n",
    "\n",
    "#Get specific data and save it into new data frames\n",
    "# We use the pandas .copy(deep=True) function to prevent the SettingWithCopyWarning we would otherwise get. Since we do\n",
    "# not write, but only read from the data, the warning does not affect the data frames\n",
    "df_emotion = data[['Anger', 'Boredom', 'Disgust', 'Fear', 'Happiness', 'Emo_Neutral', 'Sadness', 'Filename']].copy(deep=True)\n",
    "df_affect = data[['Aggressiv', 'Cheerful', 'Intoxicated', 'Nervous', 'Aff_Neutral', 'Tired', 'Filename']].copy(deep=True)\n",
    "df_loi = data[['Disinterest', 'Normal', 'High Interest', 'Filename']].copy(deep=True)\n",
    "df_ar_val = data[['Arousal', 'Valence', 'Filename']].copy(deep=True)\n",
    "#For further usage, we want to append the CharacterID as a column, which is saved with other information in the filename\n",
    "#Since we only want the digits, we can remove all non-digit characters of the filename column and append the column to the df\n",
    "\n",
    "df_emotion['Char_ID'] = df_emotion['Filename'].replace('\\D+','', regex = True).copy(deep=True)\n",
    "df_affect['Char_ID'] = df_affect['Filename'].replace('\\D+','', regex = True).copy(deep=True)\n",
    "df_loi['Char_ID'] = df_loi['Filename'].replace('\\D+','', regex = True).copy(deep=True)\n",
    "df_ar_val['Char_ID'] = df_ar_val['Filename'].replace('\\D+','', regex = True).copy(deep=True)\n",
    "\n",
    "data_short = pd.read_csv(\"UIST_2019_short_samples_OpenSMILE.csv\")\n",
    "\n",
    "df_emotion_s = data_short[['Anger', 'Boredom', 'Disgust', 'Fear', 'Happiness', 'Emo_Neutral', 'Sadness', 'Filename']].copy(deep=True)\n",
    "df_affect_s = data_short[['Aggressiv', 'Cheerful', 'Intoxicated', 'Nervous', 'Aff_Neutral', 'Tired', 'Filename']].copy(deep=True)\n",
    "df_loi_s = data_short[['Disinterest', 'Normal', 'High Interest', 'Filename']].copy(deep=True)\n",
    "df_ar_val_s = data_short[['Arousal', 'Valence', 'Filename']].copy(deep=True)\n",
    "#For further usage, we want to append the CharacterID as a column, which is saved with other information in the filename\n",
    "#Since we only want the digits, we can remove all non-digit characters of the filename column and append the column to the df\n",
    "\n",
    "df_emotion_s['Char_ID'] = df_emotion_s['Filename'].replace('\\D+','', regex = True).copy(deep=True)\n",
    "df_affect_s['Char_ID'] = df_affect_s['Filename'].replace('\\D+','', regex = True).copy(deep=True)\n",
    "df_loi_s['Char_ID'] = df_loi_s['Filename'].replace('\\D+','', regex = True).copy(deep=True)\n",
    "df_ar_val_s['Char_ID'] = df_ar_val_s['Filename'].replace('\\D+','', regex = True).copy(deep=True)\n",
    "\n",
    "#Create new column to keep track of the row being a short or a long sample\n",
    "df_emotion_s['IsShort'] = 'True'\n",
    "df_affect_s['IsShort'] = 'True'\n",
    "df_loi_s['IsShort'] = 'True'\n",
    "df_ar_val_s['IsShort'] = 'True'\n",
    "\n",
    "df_emotion['IsShort'] = 'False'\n",
    "df_affect['IsShort'] = 'False'\n",
    "df_loi['IsShort'] = 'False'\n",
    "df_ar_val['IsShort'] = 'False'\n",
    "\n",
    "#Now Combine two tables underneath\n",
    "df_emotion = pd.concat([df_emotion,df_emotion_s], ignore_index = True, keys = ['Char_ID', 'IsShort'])\n",
    "df_affect = pd.concat([df_affect, df_affect_s], ignore_index = True, keys = ['Char_ID', 'IsShort'])\n",
    "df_loi = pd.concat([df_loi, df_loi_s], ignore_index = True, keys = ['Char_ID', 'IsShort'])\n",
    "df_ar_val = pd.concat([df_ar_val, df_ar_val_s], ignore_index = True, keys = ['Char_ID', 'IsShort'])"
   ]
  },
  {
   "cell_type": "markdown",
   "metadata": {},
   "source": [
    "## Chi-squared Test of Independence\n",
    "We Start with characteristic sex. The null hypothesis states that the two categorical variables sex and e.g. emotion are independent.\n",
    "\n",
    "We bin the data for each specific voice feature e.g. the emotion anger into quartiles (<= 0.25; <= 0.50 && > 0.25; <=0.75 && > 0.5; <= 1.0 && > 0.75) and use the resulting tables as frequency tables for chi2."
   ]
  },
  {
   "cell_type": "code",
   "execution_count": 3,
   "metadata": {},
   "outputs": [
    {
     "name": "stdout",
     "output_type": "stream",
     "text": [
      "EMOTION\n",
      "\n",
      "Chi square of Anger : 155.75554905212502 with p-value of: 1.5102054232497328e-33\n",
      "Cramers V: 0.5370625680015129\n",
      "Chi square of Boredom : 185.17906220531333 with p-value of: 6.713362859064294e-40\n",
      "Cramers V: 0.5855972927439972\n",
      "Chi square of Disgust : 41.17954345917472 with p-value of: 5.990225107283744e-09\n",
      "Cramers V: 0.2761492600266865\n",
      "Chi square of Fear : 180.11562782294493 with p-value of: 8.327134080859006e-39\n",
      "Cramers V: 0.5775356776263952\n",
      "Chi square of Happiness : 205.86072578285044 with p-value of: 2.28419237963693e-44\n",
      "Cramers V: 0.6174330459770824\n",
      "Chi square of Emo_Neutral : 200.9881178864364 with p-value of: 2.5802090088789624e-43\n",
      "Cramers V: 0.6100821406238799\n",
      "Chi square of Sadness : 58.22222222222223 with p-value of: 1.4091767700353484e-12\n",
      "Cramers V: 0.32835792976742967\n",
      "\n",
      "AFFECT\n",
      "\n",
      "Chi square of Aggressiv : 28.2009982765909 with p-value of: 3.295770469976513e-06\n",
      "Cramers V: 0.22852586479997344\n",
      "Chi square of Cheerful : 110.68291548791987 with p-value of: 7.822806133879842e-24\n",
      "Cramers V: 0.452734317248722\n",
      "Chi square of Intoxicated : 119.85185185185185 with p-value of: 8.305060113642674e-26\n",
      "Cramers V: 0.471113440478751\n",
      "Chi square of Nervous : 79.43703703703704 with p-value of: 4.053084244818613e-17\n",
      "Cramers V: 0.38354351010369236\n",
      "Chi square of Aff_Neutral : 25.342949486145912 with p-value of: 1.3089961200492656e-05\n",
      "Cramers V: 0.21663653417027157\n",
      "Chi square of Tired : 46.340090397684776 with p-value of: 4.801550828107839e-10\n",
      "Cramers V: 0.29294194342554425\n",
      "\n",
      "AROUSAL-VALENCE\n",
      "\n",
      "Chi square of Arousal : 62.017939713198714 with p-value of: 2.1777847161196995e-13\n",
      "Cramers V: 0.3388923671402523\n",
      "Chi square of Valence : 177.8764998536728 with p-value of: 2.535300623752729e-38\n",
      "Cramers V: 0.5739346005033584\n",
      "\n",
      "LEVEL OF INTEREST\n",
      "\n",
      "Chi square of Disinterest : 103.97037037037038 with p-value of: 2.175876443419332e-22\n",
      "Cramers V: 0.4387912065072559\n",
      "Chi square of Normal : 5.303703703703703 with p-value of: 0.15086224384134006\n",
      "Cramers V: 0.09910435674266407\n",
      "Chi square of High Interest : 20.110571326374664 with p-value of: 0.00016101740979137624\n",
      "Cramers V: 0.19298134301674263\n"
     ]
    }
   ],
   "source": [
    "print('EMOTION\\n')\n",
    "emo_sex_chi2 = hp.chi2(df_emotion, emotion_label,'IsShort',  True)\n",
    "print('\\nAFFECT\\n')\n",
    "aff_sec_chi2 = hp.chi2(df_affect, affect_label,'IsShort',  True)\n",
    "print('\\nAROUSAL-VALENCE\\n')\n",
    "ar_val_sec_chi2 = hp.chi2(df_ar_val, ['Arousal', 'Valence'], 'IsShort', True)\n",
    "print('\\nLEVEL OF INTEREST\\n')\n",
    "loi_sec_chi2 = hp.chi2(df_loi, loi_label, 'IsShort', True)"
   ]
  },
  {
   "cell_type": "code",
   "execution_count": null,
   "metadata": {},
   "outputs": [],
   "source": []
  }
 ],
 "metadata": {
  "kernelspec": {
   "display_name": "Python 3",
   "language": "python",
   "name": "python3"
  },
  "language_info": {
   "codemirror_mode": {
    "name": "ipython",
    "version": 3
   },
   "file_extension": ".py",
   "mimetype": "text/x-python",
   "name": "python",
   "nbconvert_exporter": "python",
   "pygments_lexer": "ipython3",
   "version": "3.7.0"
  }
 },
 "nbformat": 4,
 "nbformat_minor": 2
}
