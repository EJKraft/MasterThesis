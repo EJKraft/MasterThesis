{
 "cells": [
  {
   "cell_type": "markdown",
   "metadata": {},
   "source": [
    "# OpenSMILE ANOVA test"
   ]
  },
  {
   "cell_type": "code",
   "execution_count": 1,
   "metadata": {},
   "outputs": [],
   "source": [
    "import numpy as np\n",
    "import pandas as pd\n",
    "from os import listdir\n",
    "import matplotlib.pyplot as plt\n",
    "import itertools as it\n",
    "from statsmodels.sandbox.stats.multicomp import multipletests\n",
    "import statsmodels.api as sm\n",
    "#import nltk\n",
    "import scipy.stats as st\n",
    "import statsmodels.formula.api as smf\n",
    "import seaborn as sns\n",
    "import Helper as hp\n",
    "\n",
    "#Load Data\n",
    "data = pd.read_csv(\"UIST_2019_short_samples_OpenSMILE.csv\")\n",
    "\n",
    "#Set Labels \n",
    "emotion_label = ['Anger', 'Boredom', 'Disgust', 'Fear', 'Happiness', 'Emo_Neutral', 'Sadness']\n",
    "affect_label = ['Aggressiv', 'Cheerful', 'Intoxicated', 'Nervous', 'Aff_Neutral', 'Tired']\n",
    "loi_label = ['Disinterest', 'Normal', 'High Interest']\n",
    "\n",
    "#Get specific data and save it into new data frames\n",
    "# We use the pandas .copy(deep=True) function to prevent the SettingWithCopyWarning we would otherwise get. Since we do\n",
    "# not write, but only read from the data, the warning does not affect the data frames\n",
    "df_emotion = data[['Anger', 'Boredom', 'Disgust', 'Fear', 'Happiness', 'Emo_Neutral', 'Sadness', 'Filename']].copy(deep=True)\n",
    "df_affect = data[['Aggressiv', 'Cheerful', 'Intoxicated', 'Nervous', 'Aff_Neutral', 'Tired', 'Filename']].copy(deep=True)\n",
    "df_loi = data[['Disinterest', 'Normal', 'High Interest', 'Filename']].copy(deep=True)\n",
    "df_ar_val = data[['Arousal', 'Valence', 'Filename']].copy(deep=True)\n",
    "#For further usage, we want to append the CharacterID as a column, which is saved with other information in the filename\n",
    "#Since we only want the digits, we can remove all non-digit characters of the filename column and append the column to the df\n",
    "\n",
    "df_emotion['Char_ID'] = df_emotion['Filename'].replace('\\D+','', regex = True).copy(deep=True)\n",
    "df_affect['Char_ID'] = df_affect['Filename'].replace('\\D+','', regex = True).copy(deep=True)\n",
    "df_loi['Char_ID'] = df_loi['Filename'].replace('\\D+','', regex = True).copy(deep=True)\n",
    "df_ar_val['Char_ID'] = df_ar_val['Filename'].replace('\\D+','', regex = True).copy(deep=True)\n",
    "\n",
    "#Load data about speakers\n",
    "char_data = pd.read_csv(\"UIST2019_CharacterData.csv\")  \n",
    "\n",
    "#Join above tables and Character Tables\n",
    "\n",
    "#To Join DataFrames we have to cast the column on which we want to join to int, so that both columns have the same data type\n",
    "char_data['ID'] = char_data['ID'].astype(int)\n",
    "df_ar_val['Char_ID'] = df_ar_val['Char_ID'].astype(int)\n",
    "df_emotion['Char_ID'] = df_emotion['Char_ID'].astype(int)\n",
    "df_affect['Char_ID'] = df_affect['Char_ID'].astype(int)\n",
    "df_loi['Char_ID'] = df_loi['Char_ID'].astype(int)\n",
    "\n",
    "#Safe new data frames\n",
    "df_ar_val_char = df_ar_val.merge(char_data, how = 'left', left_on='Char_ID', right_on='ID')\n",
    "df_emotion_char = df_emotion.merge(char_data, how = 'left', left_on='Char_ID', right_on= 'ID')\n",
    "df_affect_char = df_affect.merge(char_data, how = 'left', left_on='Char_ID', right_on= 'ID')\n",
    "df_loi_char = df_loi.merge(char_data, how = 'left', left_on='Char_ID', right_on= 'ID')"
   ]
  },
  {
   "cell_type": "markdown",
   "metadata": {},
   "source": [
    "## ANOVA Test\n",
    "### Starting with Character Feature = Sex"
   ]
  },
  {
   "cell_type": "code",
   "execution_count": 2,
   "metadata": {},
   "outputs": [
    {
     "name": "stdout",
     "output_type": "stream",
     "text": [
      "ANOVA test for Sex and Emotion: \n",
      "['Anger', 'Boredom', 'Disgust', 'Fear', 'Happiness', 'Emo_Neutral', 'Sadness']\n",
      "[[40.033599115089956, 4.651121836190909, 67.03233663019147, 7.659300547304009, 25.256285671459647, 0.736242299543707, 63.11568769663587], [1.043032850760024e-09, 0.031922758829433996, 1.094206965496615e-14, 0.006041610418008389, 9.186899232477716e-07, 0.3916339797798237, 5.4147887744175485e-14]]\n",
      "\n",
      "\n",
      "ANOVA test for Sex and Affect: \n",
      "['Aggressiv', 'Cheerful', 'Intoxicated', 'Nervous', 'Aff_Neutral', 'Tired']\n",
      "[[34.05742829493535, 3.8736709822127087, 2.4863565217978976, 17.999969786530063, 9.062771645489653, 0.6179699317963517], [1.540357432324769e-08, 0.050079863076780036, 0.11601693291378354, 3.0458837587310804e-05, 0.0028574295433837125, 0.43249717364259477]]\n",
      "\n",
      "\n",
      "ANOVA test for Sex and Level of Interest: \n",
      "['Disinterest', 'Normal', 'High Interest']\n",
      "[[5.41939394343798, 12.938256795248579, 14.179524486051323], [0.020658867152556, 0.0003832396273956998, 0.0002042584324148331]]\n",
      "\n",
      "\n",
      "ANOVA test for Sex and Arousal-Valence: \n",
      "['Valence', 'Arousal']\n",
      "[[9.430158033013566, 29.712558155697003], [0.0023539067955322024, 1.1367713992941555e-07]]\n",
      "\n",
      "\n"
     ]
    }
   ],
   "source": [
    "# Start with Emotion and Sex\n",
    "emo_temp_sex = df_emotion_char.drop(['Char_ID','ID', 'Filename', 'Age', 'Academic Status'], axis = 1)\n",
    "anova_emo_sex = hp.f_anova(emo_temp_sex, emotion_label, 'Sex')\n",
    "hp.displayANOVA(anova_emo_sex, emotion_label, 'Emotion', 'Sex')\n",
    "\n",
    "#Affect and Sex\n",
    "aff_temp_sex = df_affect_char.drop(['Char_ID','ID', 'Filename', 'Age', 'Academic Status'], axis = 1)\n",
    "anova_aff_sex = hp.f_anova(aff_temp_sex, affect_label, 'Sex')\n",
    "hp.displayANOVA(anova_aff_sex, affect_label, 'Affect', 'Sex')\n",
    "\n",
    "#Level of Interest and Sex\n",
    "loi_temp_sex = df_loi_char.drop(['Char_ID','ID', 'Filename', 'Age', 'Academic Status'], axis = 1)\n",
    "anova_loi_sex = hp.f_anova(loi_temp_sex, loi_label, 'Sex')\n",
    "hp.displayANOVA(anova_loi_sex, loi_label, 'Level of Interest', 'Sex')\n",
    "#Arousal-Valence and Sex\n",
    "arval_temp_sex = df_ar_val_char.drop(['Char_ID','ID', 'Filename', 'Age', 'Academic Status'], axis = 1)\n",
    "anova_arval_sex = hp.f_anova(arval_temp_sex, ['Valence', 'Arousal'], 'Sex')\n",
    "hp.displayANOVA(anova_arval_sex, ['Valence', 'Arousal'], 'Arousal-Valence', 'Sex')"
   ]
  },
  {
   "cell_type": "markdown",
   "metadata": {},
   "source": [
    "### CharacterFeature = Age\n",
    "Since Age can't really be reliably inferred, 'Age' is meant as a time distance to when the person received their degree. At the moment people who got their degree after 2010 (> 2010) are counted as young, people who got their degree between 1990 (> 1990) and 2010 (<= 2010) are counted as intermediate and all others who got their degree before 1990 (<= 1990) are counted as old."
   ]
  },
  {
   "cell_type": "code",
   "execution_count": 3,
   "metadata": {},
   "outputs": [
    {
     "name": "stdout",
     "output_type": "stream",
     "text": [
      "ANOVA test for Age and Emotion: \n",
      "['Anger', 'Boredom', 'Disgust', 'Fear', 'Happiness', 'Emo_Neutral', 'Sadness']\n",
      "[[2.202744589898119, 1.6422561421688988, 4.83839114117517, 1.1598168833128821, 2.121320760672344, 1.1905515321501015, 5.963224201032715], [0.1140853699974576, 0.19702648479697932, 0.0092072473075589, 0.31635778333475895, 0.12347942449954091, 0.3069289961113409, 0.003225772327033696]]\n",
      "\n",
      "\n",
      "ANOVA test for Age and Affect: \n",
      "['Aggressiv', 'Cheerful', 'Intoxicated', 'Nervous', 'Aff_Neutral', 'Tired']\n",
      "[[3.46413762902474, 1.6775410879231045, 1.528904672400872, 4.1695479883840205, 0.7563615663019815, 1.5204710663221788], [0.03384338538358861, 0.19034196045855326, 0.220154037137268, 0.01730001713908565, 0.4711645537700725, 0.2219810324608798]]\n",
      "\n",
      "\n",
      "ANOVA test for Age and Level of Interest: \n",
      "['Disinterest', 'Normal', 'High Interest']\n",
      "[[0.9897987578222256, 0.21653032315345758, 0.20801689351702962], [0.37408163002654626, 0.8055610687314082, 0.8124287805025576]]\n",
      "\n",
      "\n",
      "ANOVA test for Age and Arousal-Valence: \n",
      "['Valence', 'Arousal']\n",
      "[[1.2566097973241332, 1.7450978119688674], [0.28761580295628164, 0.17817790173989698]]\n",
      "\n",
      "\n"
     ]
    }
   ],
   "source": [
    "#Emotion and Age\n",
    "emo_temp_age = df_emotion_char.drop(['Char_ID','ID', 'Filename', 'Sex', 'Academic Status'], axis = 1)\n",
    "anova_emo_age = hp.f_anova(emo_temp_age, emotion_label, 'Age')\n",
    "hp.displayANOVA(anova_emo_age, emotion_label, 'Emotion', 'Age')\n",
    "#Affect and Age\n",
    "aff_temp_age = df_affect_char.drop(['Char_ID','ID', 'Filename', 'Sex', 'Academic Status'], axis = 1)\n",
    "anova_aff_age = hp.f_anova(aff_temp_age, affect_label, 'Age')\n",
    "hp.displayANOVA(anova_aff_age, affect_label, 'Affect', 'Age')\n",
    "#Level of Interest and Age\n",
    "loi_temp_age = df_loi_char.drop(['Char_ID','ID', 'Filename', 'Sex', 'Academic Status'], axis = 1)\n",
    "anova_loi_age = hp.f_anova(loi_temp_age, loi_label, 'Age')\n",
    "hp.displayANOVA(anova_loi_age, loi_label, 'Level of Interest', 'Age')\n",
    "#Arousal-Valence and Age\n",
    "arval_temp_age = df_ar_val_char.drop(['Char_ID','ID', 'Filename', 'Sex', 'Academic Status'], axis = 1)\n",
    "anova_arval_age = hp.f_anova(arval_temp_age, ['Valence', 'Arousal'], 'Age')\n",
    "hp.displayANOVA(anova_arval_age, ['Valence', 'Arousal'], 'Arousal-Valence', 'Age')"
   ]
  },
  {
   "cell_type": "markdown",
   "metadata": {},
   "source": [
    "### CharacterFeature = Academic Status\n",
    "So for the moment we have six different academical groups (Master Student, PhD Student, PostDoc, Assistant Professor, Professor and Researcher), which may be too many, since the samples are not equally distributed among the groups... Maybe some of the groups will be grouped together to achieve a higher sample count for groups."
   ]
  },
  {
   "cell_type": "code",
   "execution_count": 4,
   "metadata": {},
   "outputs": [
    {
     "name": "stdout",
     "output_type": "stream",
     "text": [
      "Invalid Argument: Please enter either Sex, Academical or Age as char_feature!\n",
      "ANOVA test for Academic Status and Emotion: \n",
      "['Anger', 'Boredom', 'Disgust', 'Fear', 'Happiness', 'Emo_Neutral', 'Sadness']\n",
      "None\n",
      "\n",
      "\n",
      "Invalid Argument: Please enter either Sex, Academical or Age as char_feature!\n",
      "ANOVA test for Academic Status and Affect: \n",
      "['Aggressiv', 'Cheerful', 'Intoxicated', 'Nervous', 'Aff_Neutral', 'Tired']\n",
      "None\n",
      "\n",
      "\n",
      "Invalid Argument: Please enter either Sex, Academical or Age as char_feature!\n",
      "ANOVA test for Academic Status and Level of Interest: \n",
      "['Disinterest', 'Normal', 'High Interest']\n",
      "None\n",
      "\n",
      "\n",
      "Invalid Argument: Please enter either Sex, Academical or Age as char_feature!\n",
      "ANOVA test for Academic Status and Arousal-Valence: \n",
      "['Valence', 'Arousal']\n",
      "None\n",
      "\n",
      "\n"
     ]
    }
   ],
   "source": [
    "#Emotion and Academic Status\n",
    "emo_temp_age = df_emotion_char.drop(['Char_ID','ID', 'Filename', 'Sex', 'Academic Status'], axis = 1)\n",
    "anova_emo_age = hp.f_anova(emo_temp_age, emotion_label, 'Academic Status')\n",
    "hp.displayANOVA(anova_emo_age, emotion_label, 'Emotion', 'Academic Status')\n",
    "#Affect and Academic Status\n",
    "aff_temp_age = df_affect_char.drop(['Char_ID','ID', 'Filename', 'Sex', 'Academic Status'], axis = 1)\n",
    "anova_aff_age = hp.f_anova(aff_temp_age, affect_label, 'Academic Status')\n",
    "hp.displayANOVA(anova_aff_age, affect_label, 'Affect', 'Academic Status')\n",
    "#Level of Interest and Academic Status\n",
    "loi_temp_age = df_loi_char.drop(['Char_ID','ID', 'Filename', 'Sex', 'Academic Status'], axis = 1)\n",
    "anova_loi_age = hp.f_anova(loi_temp_age, loi_label, 'Academic Status')\n",
    "hp.displayANOVA(anova_loi_age, loi_label, 'Level of Interest', 'Academic Status')\n",
    "#Arousal-Valence and Academic Status\n",
    "arval_temp_age = df_ar_val_char.drop(['Char_ID','ID', 'Filename', 'Sex', 'Academic Status'], axis = 1)\n",
    "anova_arval_age = hp.f_anova(arval_temp_age, ['Valence', 'Arousal'], 'Academic Status')\n",
    "hp.displayANOVA(anova_arval_age, ['Valence', 'Arousal'], 'Arousal-Valence', 'Academic Status')"
   ]
  },
  {
   "cell_type": "code",
   "execution_count": null,
   "metadata": {},
   "outputs": [],
   "source": []
  }
 ],
 "metadata": {
  "kernelspec": {
   "display_name": "Python 3",
   "language": "python",
   "name": "python3"
  },
  "language_info": {
   "codemirror_mode": {
    "name": "ipython",
    "version": 3
   },
   "file_extension": ".py",
   "mimetype": "text/x-python",
   "name": "python",
   "nbconvert_exporter": "python",
   "pygments_lexer": "ipython3",
   "version": "3.7.0"
  }
 },
 "nbformat": 4,
 "nbformat_minor": 2
}
